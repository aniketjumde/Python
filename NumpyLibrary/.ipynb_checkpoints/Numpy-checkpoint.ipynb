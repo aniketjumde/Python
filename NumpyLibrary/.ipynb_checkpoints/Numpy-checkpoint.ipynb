{
 "cells": [
  {
   "cell_type": "code",
   "execution_count": 2,
   "id": "c0c8f5d3-c8f1-444a-967c-8278d3111f6c",
   "metadata": {},
   "outputs": [],
   "source": [
    "import numpy as np"
   ]
  },
  {
   "cell_type": "code",
   "execution_count": 3,
   "id": "902c28fb-8cff-4653-a8fe-d6661c2e10d5",
   "metadata": {},
   "outputs": [
    {
     "name": "stdout",
     "output_type": "stream",
     "text": [
      "<class 'numpy.ndarray'>\n"
     ]
    },
    {
     "data": {
      "text/plain": [
       "array(['1', '2', 'Aniket', '3', '4', '5', '6'], dtype='<U21')"
      ]
     },
     "execution_count": 3,
     "metadata": {},
     "output_type": "execute_result"
    }
   ],
   "source": [
    "arr=np.array([1,2,\"Aniket\",3,4,5,6])\n",
    "print(type(arr))\n",
    "arr\n"
   ]
  },
  {
   "cell_type": "markdown",
   "id": "31daa644-0284-4b22-9457-cf279aef8181",
   "metadata": {},
   "source": [
    "### Conversion\n"
   ]
  },
  {
   "cell_type": "markdown",
   "id": "4eeda58c-9b11-429a-b2df-8360441a7ec8",
   "metadata": {},
   "source": [
    "### int to float"
   ]
  },
  {
   "cell_type": "code",
   "execution_count": 5,
   "id": "9d30e6ba-99c8-4400-b2dd-e30d12d2fb3b",
   "metadata": {},
   "outputs": [
    {
     "data": {
      "text/plain": [
       "array([ 1.,  3.,  5.,  7.,  9., 11.])"
      ]
     },
     "execution_count": 5,
     "metadata": {},
     "output_type": "execute_result"
    }
   ],
   "source": [
    "li=[1,3,5,7,9,11]\n",
    "arr=np.array(li,dtype=\"float\")\n",
    "arr"
   ]
  },
  {
   "cell_type": "code",
   "execution_count": 6,
   "id": "1caa6d75-21f0-4fd1-99b9-aa17892069c6",
   "metadata": {},
   "outputs": [
    {
     "data": {
      "text/plain": [
       "array([ 1,  3,  5,  7,  9, 11])"
      ]
     },
     "execution_count": 6,
     "metadata": {},
     "output_type": "execute_result"
    }
   ],
   "source": [
    "li=[ 1.,  3.,  5.,  7.,  9., 11.]\n",
    "arr=np.array(li,dtype=\"int\")\n",
    "arr"
   ]
  },
  {
   "cell_type": "code",
   "execution_count": 8,
   "id": "7a24e6a3-39e0-4718-a7cc-dd8a78ebbd6c",
   "metadata": {},
   "outputs": [
    {
     "data": {
      "text/plain": [
       "array([1.+0.j, 2.+0.j, 3.+0.j])"
      ]
     },
     "execution_count": 8,
     "metadata": {},
     "output_type": "execute_result"
    }
   ],
   "source": [
    "li=[1,2,3]\n",
    "arr=np.array(li,dtype=complex)\n",
    "arr\n",
    " "
   ]
  },
  {
   "cell_type": "markdown",
   "id": "0982c777-dc97-4663-a20b-47e6c44687a7",
   "metadata": {},
   "source": [
    "### float-->int\n"
   ]
  },
  {
   "cell_type": "code",
   "execution_count": 11,
   "id": "9a3a4437-20ba-4794-914c-bc162fdaaae3",
   "metadata": {},
   "outputs": [
    {
     "data": {
      "text/plain": [
       "array([1, 3, 5])"
      ]
     },
     "execution_count": 11,
     "metadata": {},
     "output_type": "execute_result"
    }
   ],
   "source": [
    "li=[1.1,3.3,5.5]\n",
    "arr=np.array(li,dtype=int)\n",
    "arr\n",
    "\n"
   ]
  },
  {
   "cell_type": "code",
   "execution_count": 12,
   "id": "387a3927-9b7c-477b-8f89-be2168b283be",
   "metadata": {},
   "outputs": [
    {
     "data": {
      "text/plain": [
       "array([1.1+0.j, 3.3+0.j, 5.5+0.j])"
      ]
     },
     "execution_count": 12,
     "metadata": {},
     "output_type": "execute_result"
    }
   ],
   "source": [
    "li=[1.1,3.3,5.5]\n",
    "arr=np.array(li,dtype=complex)\n",
    "arr"
   ]
  },
  {
   "cell_type": "markdown",
   "id": "998471bd-8db3-4411-b2cf-a19233c70de7",
   "metadata": {},
   "source": [
    "### complex-->int\n"
   ]
  },
  {
   "cell_type": "code",
   "execution_count": 14,
   "id": "77db277c-9028-4309-8524-1ab524c674f5",
   "metadata": {},
   "outputs": [
    {
     "ename": "TypeError",
     "evalue": "int() argument must be a string, a bytes-like object or a real number, not 'complex'",
     "output_type": "error",
     "traceback": [
      "\u001b[1;31m---------------------------------------------------------------------------\u001b[0m",
      "\u001b[1;31mTypeError\u001b[0m                                 Traceback (most recent call last)",
      "Cell \u001b[1;32mIn[14], line 2\u001b[0m\n\u001b[0;32m      1\u001b[0m li\u001b[38;5;241m=\u001b[39m[\u001b[38;5;241m1.1\u001b[39m\u001b[38;5;241m+\u001b[39m\u001b[38;5;241m0.\u001b[39mj, \u001b[38;5;241m3.3\u001b[39m\u001b[38;5;241m+\u001b[39m\u001b[38;5;241m0.\u001b[39mj, \u001b[38;5;241m5.5\u001b[39m\u001b[38;5;241m+\u001b[39m\u001b[38;5;241m0.\u001b[39mj]\n\u001b[1;32m----> 2\u001b[0m arr\u001b[38;5;241m=\u001b[39m\u001b[43mnp\u001b[49m\u001b[38;5;241;43m.\u001b[39;49m\u001b[43marray\u001b[49m\u001b[43m(\u001b[49m\u001b[43mli\u001b[49m\u001b[43m,\u001b[49m\u001b[43mdtype\u001b[49m\u001b[38;5;241;43m=\u001b[39;49m\u001b[38;5;28;43mint\u001b[39;49m\u001b[43m)\u001b[49m\n\u001b[0;32m      3\u001b[0m arr\n",
      "\u001b[1;31mTypeError\u001b[0m: int() argument must be a string, a bytes-like object or a real number, not 'complex'"
     ]
    }
   ],
   "source": [
    "li=[1.1+0.j, 3.3+0.j, 5.5+0.j]\n",
    "arr=np.array(li,dtype=int)\n",
    "arr\n"
   ]
  },
  {
   "cell_type": "code",
   "execution_count": 16,
   "id": "a1ff9480-d73f-4425-b22a-17a2a21a09ed",
   "metadata": {},
   "outputs": [
    {
     "ename": "TypeError",
     "evalue": "float() argument must be a string or a real number, not 'complex'",
     "output_type": "error",
     "traceback": [
      "\u001b[1;31m---------------------------------------------------------------------------\u001b[0m",
      "\u001b[1;31mTypeError\u001b[0m                                 Traceback (most recent call last)",
      "Cell \u001b[1;32mIn[16], line 2\u001b[0m\n\u001b[0;32m      1\u001b[0m li\u001b[38;5;241m=\u001b[39m[\u001b[38;5;241m1.1\u001b[39m\u001b[38;5;241m+\u001b[39m\u001b[38;5;241m0.\u001b[39mj, \u001b[38;5;241m3.3\u001b[39m\u001b[38;5;241m+\u001b[39m\u001b[38;5;241m0.\u001b[39mj, \u001b[38;5;241m5.5\u001b[39m\u001b[38;5;241m+\u001b[39m\u001b[38;5;241m0.\u001b[39mj]\n\u001b[1;32m----> 2\u001b[0m arr\u001b[38;5;241m=\u001b[39m\u001b[43mnp\u001b[49m\u001b[38;5;241;43m.\u001b[39;49m\u001b[43marray\u001b[49m\u001b[43m(\u001b[49m\u001b[43mli\u001b[49m\u001b[43m,\u001b[49m\u001b[43mdtype\u001b[49m\u001b[38;5;241;43m=\u001b[39;49m\u001b[38;5;28;43mfloat\u001b[39;49m\u001b[43m)\u001b[49m\n\u001b[0;32m      3\u001b[0m arr\n",
      "\u001b[1;31mTypeError\u001b[0m: float() argument must be a string or a real number, not 'complex'"
     ]
    }
   ],
   "source": [
    "li=[1.1+0.j, 3.3+0.j, 5.5+0.j]\n",
    "arr=np.array(li,dtype=float)\n",
    "arr"
   ]
  },
  {
   "cell_type": "markdown",
   "id": "fe123cb4-3f4e-44a9-acd9-89b3b9b7a983",
   "metadata": {},
   "source": [
    "#  Dimensions in Array:\n"
   ]
  },
  {
   "cell_type": "markdown",
   "id": "a6521570-d772-4354-8fa7-45cd5318e466",
   "metadata": {},
   "source": [
    "###  1) 0-D Array:\n"
   ]
  },
  {
   "cell_type": "code",
   "execution_count": 34,
   "id": "1dad5c6b-6a7b-4a21-86ec-89a82a7b91e8",
   "metadata": {},
   "outputs": [
    {
     "name": "stdout",
     "output_type": "stream",
     "text": [
      "Array :  100\n",
      "Dimensions of array  0\n",
      "Dimenstion f Array : ()\n"
     ]
    }
   ],
   "source": [
    "arr=np.array(100)\n",
    "print(\"Array : \",arr)\n",
    "print(\"Dimensions of array \",arr.ndim);\n",
    "print(\"Dimenstion f Array :\",arr.shape);"
   ]
  },
  {
   "cell_type": "markdown",
   "id": "eef86f27-8d90-4669-939f-4b508c8dd82f",
   "metadata": {},
   "source": [
    "### 1) 1-D Array:\n"
   ]
  },
  {
   "cell_type": "code",
   "execution_count": 33,
   "id": "257aaab4-a0d2-44e8-ab98-14c23dbc5f9f",
   "metadata": {},
   "outputs": [
    {
     "name": "stdout",
     "output_type": "stream",
     "text": [
      "Array :  [100 300  40]\n",
      "Dimensions of array  1\n",
      "Dimenstion f Array : (3,)\n"
     ]
    }
   ],
   "source": [
    "arr=np.array([100,300,40])\n",
    "print(\"Array : \",arr)\n",
    "print(\"Dimensions of array \",arr.ndim);\n",
    "print(\"Dimenstion f Array :\",arr.shape);"
   ]
  },
  {
   "cell_type": "markdown",
   "id": "cc1ca580-845e-4231-8b7b-166dd49326a2",
   "metadata": {},
   "source": [
    "### 1) 2-D Array:\n"
   ]
  },
  {
   "cell_type": "code",
   "execution_count": 31,
   "id": "de55ec55-a5df-4117-8e03-7a6d558db233",
   "metadata": {},
   "outputs": [
    {
     "name": "stdout",
     "output_type": "stream",
     "text": [
      "Array :  [[100 200]\n",
      " [100 300]\n",
      " [  1   3]]\n",
      "Dimensions of array  2\n",
      "Shape of Array  (3, 2)\n"
     ]
    }
   ],
   "source": [
    "arr=np.array([[100,200],[100,300],[1,3]])\n",
    "print(\"Array : \",arr)\n",
    "print(\"Dimensions of array \",arr.ndim);\n",
    "print(\"Shape of Array \",arr.shape)"
   ]
  },
  {
   "cell_type": "markdown",
   "id": "1a185857-6fbe-435f-934b-febe681ec93b",
   "metadata": {},
   "source": [
    "### 1)` 3-D Array:\n"
   ]
  },
  {
   "cell_type": "code",
   "execution_count": 32,
   "id": "1cb437ef-b837-457d-8af2-4a80fa1eab7d",
   "metadata": {},
   "outputs": [
    {
     "name": "stdout",
     "output_type": "stream",
     "text": [
      "Array : [[[100 200]\n",
      "  [  1   3]\n",
      "  [  5   6]]]\n",
      "Dimenstion f Array : (1, 3, 2)\n"
     ]
    }
   ],
   "source": [
    "arr=np.array([[[100,200],[1,3],[5,6]]])\n",
    "print(\"Array :\",arr);\n",
    "print(\"Dimenstion f Array :\",arr.shape);"
   ]
  },
  {
   "cell_type": "code",
   "execution_count": 36,
   "id": "79822b36-23fa-4ff1-817d-2ad46e67e555",
   "metadata": {},
   "outputs": [
    {
     "name": "stdout",
     "output_type": "stream",
     "text": [
      "Array : [[[100 200]\n",
      "  [  1   3]\n",
      "  [  5   6]]\n",
      "\n",
      " [[  3   4]\n",
      "  [  5   7]\n",
      "  [  8   9]]]\n",
      "Dimenstion f Array : (2, 3, 2)\n"
     ]
    }
   ],
   "source": [
    "arr=np.array([[[100,200],[1,3],[5,6]],[[3,4],[5,7],[8,9]]])\n",
    "print(\"Array :\",arr);\n",
    "print(\"Dimenstion f Array :\",arr.shape);"
   ]
  },
  {
   "cell_type": "markdown",
   "id": "635fe261-fe3d-407e-8df4-fc592fa2eb15",
   "metadata": {},
   "source": [
    "### Indexing and Slicing:"
   ]
  },
  {
   "cell_type": "code",
   "execution_count": 39,
   "id": "9967ba04-611c-442a-ba51-fa8729aacf49",
   "metadata": {},
   "outputs": [
    {
     "data": {
      "text/plain": [
       "array([[30, 40]])"
      ]
     },
     "execution_count": 39,
     "metadata": {},
     "output_type": "execute_result"
    }
   ],
   "source": [
    "arr=np.array([1,2,3,4,5])\n",
    "arr[2]\n",
    " "
   ]
  },
  {
   "cell_type": "code",
   "execution_count": null,
   "id": "f955cd7d-88e4-44fa-a46e-0f7d33915f01",
   "metadata": {},
   "outputs": [],
   "source": [
    "arr=np.array([1,2,3,4,5])\n",
    "arr[1:3]\n"
   ]
  },
  {
   "cell_type": "code",
   "execution_count": 43,
   "id": "84af51fd-6f91-4147-9d08-4386d1c18e8f",
   "metadata": {},
   "outputs": [
    {
     "data": {
      "text/plain": [
       "array([[ 30,  40],\n",
       "       [300, 400]])"
      ]
     },
     "execution_count": 43,
     "metadata": {},
     "output_type": "execute_result"
    }
   ],
   "source": [
    "arr=np.array([[1,2,3,4,5,6,7,8,9,10],\n",
    "             [10,20,30,40,50,60,70,80,90,100],\n",
    "             [100,200,300,400,500,600,700,800,900,1000]])\n",
    "arr\n",
    "arr[1:2,2:5]\n",
    "\n"
   ]
  },
  {
   "cell_type": "markdown",
   "id": "0e38cbe5-9171-457e-8f66-b5a888a7dd8c",
   "metadata": {},
   "source": [
    "# NumPy Functions:\n"
   ]
  },
  {
   "cell_type": "markdown",
   "id": "c78ea834-4b53-4991-8be6-30ccc1d2e5d3",
   "metadata": {},
   "source": [
    "### Convert to n-D Array:\n"
   ]
  },
  {
   "cell_type": "code",
   "execution_count": null,
   "id": "4a62fd77-7c08-4776-955f-860f65534591",
   "metadata": {},
   "outputs": [],
   "source": [
    "arr=np.array([1,2,3])\n",
    "print(\"Array:\",arr)\n",
    "print(\"Dimension of Array:\",arr.ndim)\n",
    "print(\"Length of Array:\",len(arr))\n",
    "print(\"Shape of Array:\",arr.shape)"
   ]
  },
  {
   "cell_type": "code",
   "execution_count": 44,
   "id": "f86324e2-261f-4aa8-9fac-804ad9cb004c",
   "metadata": {},
   "outputs": [
    {
     "name": "stdout",
     "output_type": "stream",
     "text": [
      "Array: [[1 2 3]]\n",
      "Dimension of Array: 2\n",
      "Length of Array: 1\n",
      "Shape of Array: (1, 3)\n"
     ]
    }
   ],
   "source": [
    "arr=np.array([1,2,3],ndmin=2)\n",
    "print(\"Array:\",arr)\n",
    "print(\"Dimension of Array:\",arr.ndim)\n",
    "print(\"Length of Array:\",len(arr))\n",
    "print(\"Shape of Array:\",arr.shape)"
   ]
  },
  {
   "cell_type": "code",
   "execution_count": 46,
   "id": "56030a74-9f40-4c0d-8a14-4229c59802c2",
   "metadata": {},
   "outputs": [
    {
     "name": "stdout",
     "output_type": "stream",
     "text": [
      "Array: [[[1 2 3]]]\n",
      "Dimension of Array: 3\n",
      "Length of Array: 1\n",
      "Shape of Array: (1, 1, 3)\n"
     ]
    }
   ],
   "source": [
    "arr=np.array([1,2,3],ndmin=3)\n",
    "print(\"Array:\",arr)\n",
    "print(\"Dimension of Array:\",arr.ndim)\n",
    "print(\"Length of Array:\",len(arr))\n",
    "print(\"Shape of Array:\",arr.shape)"
   ]
  },
  {
   "cell_type": "markdown",
   "id": "c4a7b0e1-c844-4c4c-8bfe-c3239e135827",
   "metadata": {},
   "source": [
    "### Reshape():"
   ]
  },
  {
   "cell_type": "code",
   "execution_count": 51,
   "id": "ee335dc5-af6e-4aa9-81bb-07cd7e483d4d",
   "metadata": {},
   "outputs": [
    {
     "name": "stdout",
     "output_type": "stream",
     "text": [
      "Array: [1 2 3 4]\n",
      "Dimension of Array: 1\n",
      "Length of Array: 4\n",
      "Shape of Array: (4,)\n",
      "Reshape of Array : [[1 2]\n",
      " [3 4]]\n"
     ]
    }
   ],
   "source": [
    "arr=np.array([1,2,3,4])\n",
    "print(\"Array:\",arr)\n",
    "print(\"Dimension of Array:\",arr.ndim)\n",
    "print(\"Length of Array:\",len(arr))\n",
    "print(\"Shape of Array:\",arr.shape)\n",
    "print(\"Reshape of Array :\",arr.reshape(2,2))\n"
   ]
  },
  {
   "cell_type": "markdown",
   "id": "7781829e-378e-41e7-b589-8a8efb45f726",
   "metadata": {},
   "source": [
    "###  1-D to 3-D Conversion using reshape:"
   ]
  },
  {
   "cell_type": "code",
   "execution_count": 55,
   "id": "ed7834b2-967f-4a8c-bd35-23fd64637952",
   "metadata": {},
   "outputs": [
    {
     "name": "stdout",
     "output_type": "stream",
     "text": [
      "Array : [0 1 2 3 4 5 6 7 8 9]\n",
      "Dimension of array : 1\n",
      "Length of Array :  10\n",
      "Shape of Array  :  (10,)\n",
      "Reshape of Array : [[[0 1 2 3 4]\n",
      "  [5 6 7 8 9]]]\n"
     ]
    }
   ],
   "source": [
    "arr=np.array([0,1,2,3,4,5,6,7,8,9])\n",
    "print(\"Array :\",arr)\n",
    "print(\"Dimension of array :\",arr.ndim)\n",
    "print(\"Length of Array : \",len(arr))\n",
    "print(\"Shape of Array  : \",arr.shape)\n",
    "print(\"Reshape of Array :\",arr.reshape(1,2,5))\n"
   ]
  },
  {
   "cell_type": "markdown",
   "id": "cb29ab81-755c-48f8-aeff-c1073e02253f",
   "metadata": {},
   "source": [
    "###  Accessing elements by 'for loop':\n"
   ]
  },
  {
   "cell_type": "code",
   "execution_count": 57,
   "id": "8408a56a-f00e-42e1-8d2f-9054c9d37f0e",
   "metadata": {},
   "outputs": [
    {
     "name": "stdout",
     "output_type": "stream",
     "text": [
      "Elements in Array: [1 2]\n",
      "Elements in Array: [3 4]\n",
      "Elements in Array: 1\n",
      "Elements in Array: 2\n",
      "Elements in Array: 3\n",
      "Elements in Array: 4\n"
     ]
    }
   ],
   "source": [
    "arr=np.array([[1,2],[3,4]])\n",
    "for i in arr:\n",
    "    print(\"Elements in Array:\",i)\n",
    "\n",
    "for i in arr:\n",
    "    for j in i:\n",
    "        print(\"Elements in Array:\",j)"
   ]
  },
  {
   "cell_type": "markdown",
   "id": "fce437d0-abcb-4623-88f5-84ca03a7a63b",
   "metadata": {},
   "source": [
    "## 2) np.nditer(): The function nditer() is a helping function that can be used from very basic to very advanced iterations"
   ]
  },
  {
   "cell_type": "code",
   "execution_count": 61,
   "id": "ca0bbea8-3406-427b-90d7-7a8958e3e1d4",
   "metadata": {},
   "outputs": [
    {
     "name": "stdout",
     "output_type": "stream",
     "text": [
      "Elements in Array: 1\n",
      "Elements in Array: 2\n",
      "Elements in Array: 3\n",
      "Elements in Array: 4\n"
     ]
    }
   ],
   "source": [
    "arr=np.array([1,2,3,4])\n",
    "\n",
    "for i in np.nditer(arr):\n",
    "    print(\"Elements in Array:\",i)\n"
   ]
  },
  {
   "cell_type": "markdown",
   "id": "386a3518-033e-453c-b9a3-a2ae448e9445",
   "metadata": {},
   "source": [
    "### 3) np.ndenumerate(): Enumeration means mentioning  sequence number of somethings one by one"
   ]
  },
  {
   "cell_type": "code",
   "execution_count": 62,
   "id": "12c8a8c9-7d4b-4fbf-a4b3-7e3f1deacc6c",
   "metadata": {},
   "outputs": [
    {
     "name": "stdout",
     "output_type": "stream",
     "text": [
      "0 H\n",
      "1 i\n"
     ]
    }
   ],
   "source": [
    "for i,j in enumerate(list(\"Hi\")):\n",
    "    print(i,j)"
   ]
  },
  {
   "cell_type": "code",
   "execution_count": 63,
   "id": "d7214f8b-c809-48e7-a49d-8d98e460860b",
   "metadata": {},
   "outputs": [
    {
     "name": "stdout",
     "output_type": "stream",
     "text": [
      "0 B\n",
      "1 Y\n",
      "2 E\n"
     ]
    }
   ],
   "source": [
    "arr=np.array(['B','Y','E'])\n",
    "for i,j in enumerate(arr):\n",
    "    print(i,j)"
   ]
  },
  {
   "cell_type": "code",
   "execution_count": 64,
   "id": "4983caf1-a732-49fa-96f3-5a773f7b9d34",
   "metadata": {},
   "outputs": [
    {
     "name": "stdout",
     "output_type": "stream",
     "text": [
      "(0,) B\n",
      "(1,) Y\n",
      "(2,) E\n"
     ]
    }
   ],
   "source": [
    "import numpy as np\n",
    "arr=np.array(['B','Y','E'])\n",
    "for i,j in np.ndenumerate(arr):\n",
    "    print(i,j)"
   ]
  },
  {
   "cell_type": "markdown",
   "id": "bd4ade09-a6c3-45f7-8487-9e83fd84431f",
   "metadata": {},
   "source": [
    "###  4) zeros(): Return an Array with all zero elements"
   ]
  },
  {
   "cell_type": "code",
   "execution_count": 65,
   "id": "8a5b5f2e-afbe-4a36-a743-bd31b79cc393",
   "metadata": {},
   "outputs": [
    {
     "data": {
      "text/plain": [
       "array([0, 0, 0])"
      ]
     },
     "execution_count": 65,
     "metadata": {},
     "output_type": "execute_result"
    }
   ],
   "source": [
    "np.zeros(3,int)"
   ]
  },
  {
   "cell_type": "code",
   "execution_count": 69,
   "id": "a292e52e-463c-4a8a-97a0-cec15793e9a7",
   "metadata": {},
   "outputs": [
    {
     "data": {
      "text/plain": [
       "array([[0, 0, 0],\n",
       "       [0, 0, 0]])"
      ]
     },
     "execution_count": 69,
     "metadata": {},
     "output_type": "execute_result"
    }
   ],
   "source": [
    "arr=np.zeros((2,3),int)\n",
    "arr"
   ]
  },
  {
   "cell_type": "markdown",
   "id": "3691166b-3786-4d09-ab9e-1a0e84dc9366",
   "metadata": {},
   "source": [
    "###  5) ones(): Return an array with all elements as one"
   ]
  },
  {
   "cell_type": "code",
   "execution_count": 68,
   "id": "2c9de59a-c948-4c5c-8e4d-8bc45c53571d",
   "metadata": {},
   "outputs": [
    {
     "data": {
      "text/plain": [
       "array([1, 1, 1, 1])"
      ]
     },
     "execution_count": 68,
     "metadata": {},
     "output_type": "execute_result"
    }
   ],
   "source": [
    "np.ones(4,int)"
   ]
  },
  {
   "cell_type": "markdown",
   "id": "332328bc-29ab-41b9-ba8c-aaf9260c7984",
   "metadata": {},
   "source": [
    "### 6) arange(): NumPy arange() is one of the array creation routines based on numerical ranges"
   ]
  },
  {
   "cell_type": "raw",
   "id": "1eb4ce48-f703-4601-b4b6-d81bd0287a36",
   "metadata": {},
   "source": [
    "arr=np.arange(5)\n",
    "arr"
   ]
  },
  {
   "cell_type": "code",
   "execution_count": 70,
   "id": "1fc807c4-072b-4d02-969d-020f5613e964",
   "metadata": {},
   "outputs": [
    {
     "data": {
      "text/plain": [
       "array([0, 1, 2, 3, 4])"
      ]
     },
     "execution_count": 70,
     "metadata": {},
     "output_type": "execute_result"
    }
   ],
   "source": [
    "arr=np.arange(5)\n",
    "arr"
   ]
  },
  {
   "cell_type": "code",
   "execution_count": 72,
   "id": "d45ea2c9-8ac5-489a-9bd4-27c14a85d7d6",
   "metadata": {},
   "outputs": [
    {
     "data": {
      "text/plain": [
       "array([1, 6])"
      ]
     },
     "execution_count": 72,
     "metadata": {},
     "output_type": "execute_result"
    }
   ],
   "source": [
    "arr=np.arange(1,10,5)\n",
    "arr"
   ]
  },
  {
   "cell_type": "code",
   "execution_count": 73,
   "id": "fde2d835-3fbc-4a6f-908c-c0ca6137e604",
   "metadata": {},
   "outputs": [
    {
     "data": {
      "text/plain": [
       "array([1, 4, 7])"
      ]
     },
     "execution_count": 73,
     "metadata": {},
     "output_type": "execute_result"
    }
   ],
   "source": [
    "arr=np.arange(1,9,3)\n",
    "arr"
   ]
  },
  {
   "cell_type": "markdown",
   "id": "99e9147d-5d1c-4422-9a27-30cc28a27502",
   "metadata": {},
   "source": [
    "### 7) linspace(): Returns evenly spaced values\n"
   ]
  },
  {
   "cell_type": "code",
   "execution_count": 81,
   "id": "1702bdd2-f879-4b7a-a52f-b074407de98a",
   "metadata": {},
   "outputs": [
    {
     "data": {
      "text/plain": [
       "array([ 1.,  2.,  3.,  4.,  5.,  6.,  7.,  8.,  9., 10.])"
      ]
     },
     "execution_count": 81,
     "metadata": {},
     "output_type": "execute_result"
    }
   ],
   "source": [
    "arr=np.linspace(1,10,num=10)\n",
    "arr"
   ]
  },
  {
   "cell_type": "markdown",
   "id": "839b13bb-aa2c-4a85-ac94-ff1dfd5778d9",
   "metadata": {},
   "source": [
    "### 8) eye(): It will return an array with ones on diagonal and zeros elsewhere"
   ]
  },
  {
   "cell_type": "code",
   "execution_count": 83,
   "id": "e566df14-c184-4c24-8234-b6251f9ca7bb",
   "metadata": {},
   "outputs": [
    {
     "data": {
      "text/plain": [
       "array([[1., 0., 0.],\n",
       "       [0., 1., 0.],\n",
       "       [0., 0., 1.]])"
      ]
     },
     "execution_count": 83,
     "metadata": {},
     "output_type": "execute_result"
    }
   ],
   "source": [
    "\n",
    "arr=np.eye(3)\n",
    "arr"
   ]
  },
  {
   "cell_type": "markdown",
   "id": "9764062c-72b2-46a0-83e6-1afcfb0d8ace",
   "metadata": {},
   "source": [
    "### identity(): Identity matrix will be returned (i.e No of Column = No of Rows)"
   ]
  },
  {
   "cell_type": "code",
   "execution_count": 84,
   "id": "f0bc0864-0116-40e2-9ca5-abc7af508f19",
   "metadata": {},
   "outputs": [
    {
     "data": {
      "text/plain": [
       "array([[1., 0., 0., 0.],\n",
       "       [0., 1., 0., 0.],\n",
       "       [0., 0., 1., 0.],\n",
       "       [0., 0., 0., 1.]])"
      ]
     },
     "execution_count": 84,
     "metadata": {},
     "output_type": "execute_result"
    }
   ],
   "source": [
    "arr=np.identity(4)\n",
    "arr"
   ]
  },
  {
   "cell_type": "code",
   "execution_count": 85,
   "id": "bea00990-6cfa-4bc8-9838-625a6ae13630",
   "metadata": {},
   "outputs": [
    {
     "ename": "TypeError",
     "evalue": "Cannot interpret '3' as a data type",
     "output_type": "error",
     "traceback": [
      "\u001b[1;31m---------------------------------------------------------------------------\u001b[0m",
      "\u001b[1;31mTypeError\u001b[0m                                 Traceback (most recent call last)",
      "Cell \u001b[1;32mIn[85], line 1\u001b[0m\n\u001b[1;32m----> 1\u001b[0m arr\u001b[38;5;241m=\u001b[39m\u001b[43mnp\u001b[49m\u001b[38;5;241;43m.\u001b[39;49m\u001b[43midentity\u001b[49m\u001b[43m(\u001b[49m\u001b[38;5;241;43m4\u001b[39;49m\u001b[43m,\u001b[49m\u001b[38;5;241;43m3\u001b[39;49m\u001b[43m)\u001b[49m\n\u001b[0;32m      2\u001b[0m arr\n",
      "File \u001b[1;32m~\\AppData\\Local\\Programs\\Python\\Python312\\Lib\\site-packages\\numpy\\_core\\numeric.py:2243\u001b[0m, in \u001b[0;36midentity\u001b[1;34m(n, dtype, like)\u001b[0m\n\u001b[0;32m   2240\u001b[0m     \u001b[38;5;28;01mreturn\u001b[39;00m _identity_with_like(like, n, dtype\u001b[38;5;241m=\u001b[39mdtype)\n\u001b[0;32m   2242\u001b[0m \u001b[38;5;28;01mfrom\u001b[39;00m \u001b[38;5;21;01mnumpy\u001b[39;00m \u001b[38;5;28;01mimport\u001b[39;00m eye\n\u001b[1;32m-> 2243\u001b[0m \u001b[38;5;28;01mreturn\u001b[39;00m \u001b[43meye\u001b[49m\u001b[43m(\u001b[49m\u001b[43mn\u001b[49m\u001b[43m,\u001b[49m\u001b[43m \u001b[49m\u001b[43mdtype\u001b[49m\u001b[38;5;241;43m=\u001b[39;49m\u001b[43mdtype\u001b[49m\u001b[43m,\u001b[49m\u001b[43m \u001b[49m\u001b[43mlike\u001b[49m\u001b[38;5;241;43m=\u001b[39;49m\u001b[43mlike\u001b[49m\u001b[43m)\u001b[49m\n",
      "File \u001b[1;32m~\\AppData\\Local\\Programs\\Python\\Python312\\Lib\\site-packages\\numpy\\lib\\_twodim_base_impl.py:224\u001b[0m, in \u001b[0;36meye\u001b[1;34m(N, M, k, dtype, order, device, like)\u001b[0m\n\u001b[0;32m    222\u001b[0m \u001b[38;5;28;01mif\u001b[39;00m M \u001b[38;5;129;01mis\u001b[39;00m \u001b[38;5;28;01mNone\u001b[39;00m:\n\u001b[0;32m    223\u001b[0m     M \u001b[38;5;241m=\u001b[39m N\n\u001b[1;32m--> 224\u001b[0m m \u001b[38;5;241m=\u001b[39m \u001b[43mzeros\u001b[49m\u001b[43m(\u001b[49m\u001b[43m(\u001b[49m\u001b[43mN\u001b[49m\u001b[43m,\u001b[49m\u001b[43m \u001b[49m\u001b[43mM\u001b[49m\u001b[43m)\u001b[49m\u001b[43m,\u001b[49m\u001b[43m \u001b[49m\u001b[43mdtype\u001b[49m\u001b[38;5;241;43m=\u001b[39;49m\u001b[43mdtype\u001b[49m\u001b[43m,\u001b[49m\u001b[43m \u001b[49m\u001b[43morder\u001b[49m\u001b[38;5;241;43m=\u001b[39;49m\u001b[43morder\u001b[49m\u001b[43m,\u001b[49m\u001b[43m \u001b[49m\u001b[43mdevice\u001b[49m\u001b[38;5;241;43m=\u001b[39;49m\u001b[43mdevice\u001b[49m\u001b[43m)\u001b[49m\n\u001b[0;32m    225\u001b[0m \u001b[38;5;28;01mif\u001b[39;00m k \u001b[38;5;241m>\u001b[39m\u001b[38;5;241m=\u001b[39m M:\n\u001b[0;32m    226\u001b[0m     \u001b[38;5;28;01mreturn\u001b[39;00m m\n",
      "\u001b[1;31mTypeError\u001b[0m: Cannot interpret '3' as a data type"
     ]
    }
   ],
   "source": [
    "arr=np.identity(4,3)\n",
    "arr"
   ]
  },
  {
   "cell_type": "markdown",
   "id": "6e46935a-37e8-4ead-968d-64107760a3fe",
   "metadata": {},
   "source": [
    "### 10) Random: Used to generate random values of array\n",
    " • i) rand()\n",
    " • ii) randint()\n",
    " • iii) randn()\n",
    " • iv) ranf()"
   ]
  },
  {
   "cell_type": "markdown",
   "id": "fcdc0e8a-4c25-46a2-8391-979bbf8dba5d",
   "metadata": {},
   "source": [
    "### i) rand(): It will return values between 0 and 1\n",
    " • Syntax:\n",
    " • np.random.rand(shape"
   ]
  },
  {
   "cell_type": "code",
   "execution_count": 86,
   "id": "4e3a9e4d-d42e-4230-b47f-c8c6edbd8f28",
   "metadata": {},
   "outputs": [
    {
     "data": {
      "text/plain": [
       "array([0.61292974, 0.9385572 , 0.511972  , 0.79310657])"
      ]
     },
     "execution_count": 86,
     "metadata": {},
     "output_type": "execute_result"
    }
   ],
   "source": [
    "arr=np.random.rand(4)\n",
    "arr"
   ]
  },
  {
   "cell_type": "code",
   "execution_count": 87,
   "id": "770c8533-6330-41ac-b89c-01b59456fc9d",
   "metadata": {},
   "outputs": [
    {
     "data": {
      "text/plain": [
       "array([[0.48838235, 0.89251909, 0.19799764],\n",
       "       [0.61746991, 0.23022748, 0.89149067],\n",
       "       [0.64239082, 0.10410822, 0.62444315],\n",
       "       [0.48542549, 0.41825247, 0.57854216]])"
      ]
     },
     "execution_count": 87,
     "metadata": {},
     "output_type": "execute_result"
    }
   ],
   "source": [
    "arr=np.random.rand(4,3)\n",
    "arr"
   ]
  },
  {
   "cell_type": "markdown",
   "id": "f1ab478a-8482-4191-96ca-866a0af7a0fc",
   "metadata": {},
   "source": [
    "###  ii) randint(): The randint() method takes a size parameter where you can specify the shape of an array\n",
    " • Syntax:\n",
    " • np.random.randint(range,size=(value)"
   ]
  },
  {
   "cell_type": "code",
   "execution_count": 88,
   "id": "ba57d39f-bc99-45f7-85dc-d7b151d91387",
   "metadata": {},
   "outputs": [
    {
     "data": {
      "text/plain": [
       "array([2, 2, 3], dtype=int32)"
      ]
     },
     "execution_count": 88,
     "metadata": {},
     "output_type": "execute_result"
    }
   ],
   "source": [
    "arr=np.random.randint(1,4,size=3)\n",
    "arr"
   ]
  },
  {
   "cell_type": "code",
   "execution_count": 91,
   "id": "a7dc18fa-93a2-44bf-8327-e5e3fe4e381d",
   "metadata": {},
   "outputs": [
    {
     "data": {
      "text/plain": [
       "array([[3, 3],\n",
       "       [3, 2],\n",
       "       [2, 1]], dtype=int32)"
      ]
     },
     "execution_count": 91,
     "metadata": {},
     "output_type": "execute_result"
    }
   ],
   "source": [
    "arr=np.random.randint(1,4,size=(3,2))\n",
    "arr"
   ]
  },
  {
   "cell_type": "markdown",
   "id": "3fea3218-bfb6-4cfd-aae6-b44d10fc0003",
   "metadata": {},
   "source": [
    "### iii) randn(): It will return values which are normally distributed\n",
    " • mean = 0 and variance = 1\n",
    " • Syntax:\n",
    " • np.random.randn(shape)"
   ]
  },
  {
   "cell_type": "code",
   "execution_count": 93,
   "id": "7691004f-4022-4bf5-80e4-473bb700cfc1",
   "metadata": {},
   "outputs": [
    {
     "data": {
      "text/plain": [
       "array([-0.15328104,  0.96549019, -1.32819934])"
      ]
     },
     "execution_count": 93,
     "metadata": {},
     "output_type": "execute_result"
    }
   ],
   "source": [
    "arr=np.random.randn(3)\n",
    "arr"
   ]
  },
  {
   "cell_type": "markdown",
   "id": "7b37632e-3874-4016-a4a8-1e55dfd52254",
   "metadata": {},
   "source": [
    "### ` iv) ranf(): Return values between 0 and 1\n"
   ]
  },
  {
   "cell_type": "code",
   "execution_count": 96,
   "id": "4d1f0d79-8979-408e-bc10-510903cf65b1",
   "metadata": {},
   "outputs": [
    {
     "data": {
      "text/plain": [
       "array([0.9337721 , 0.27007387, 0.4936592 , 0.48212028, 0.10738511])"
      ]
     },
     "execution_count": 96,
     "metadata": {},
     "output_type": "execute_result"
    }
   ],
   "source": [
    "arr=np.random.ranf(5)\n",
    "arr"
   ]
  },
  {
   "cell_type": "markdown",
   "id": "72e8e81d-77f3-4d2d-b1d3-4d603a532072",
   "metadata": {},
   "source": [
    "### 11) sort(): Sorting means putting elements in an ordered sequence\n",
    "• Syntax:\n",
    " • np.sort(name)\n",
    " • axis 0--> Columns\n",
    " • axis 1--> Rows"
   ]
  },
  {
   "cell_type": "code",
   "execution_count": 106,
   "id": "dc1ae00d-a354-4387-ad6b-0f7ca4f1df37",
   "metadata": {},
   "outputs": [
    {
     "name": "stdout",
     "output_type": "stream",
     "text": [
      "Array : [5 5 8 2 7]\n"
     ]
    },
    {
     "data": {
      "text/plain": [
       "array([2, 5, 5, 7, 8], dtype=int32)"
      ]
     },
     "execution_count": 106,
     "metadata": {},
     "output_type": "execute_result"
    }
   ],
   "source": [
    "arr=np.random.randint(1,10,size=5)\n",
    "print(\"Array :\",arr)\n",
    "np.sort(arr)\n"
   ]
  },
  {
   "cell_type": "code",
   "execution_count": 105,
   "id": "4ff78397-9efd-46be-8b7b-03fecf133e2f",
   "metadata": {},
   "outputs": [
    {
     "name": "stdout",
     "output_type": "stream",
     "text": [
      "Array : [[3 4]\n",
      " [5 5]\n",
      " [1 2]\n",
      " [3 1]\n",
      " [3 6]]\n"
     ]
    },
    {
     "data": {
      "text/plain": [
       "array([[1, 1],\n",
       "       [3, 2],\n",
       "       [3, 4],\n",
       "       [3, 5],\n",
       "       [5, 6]], dtype=int32)"
      ]
     },
     "execution_count": 105,
     "metadata": {},
     "output_type": "execute_result"
    }
   ],
   "source": [
    "arr=np.random.randint(1,10,size=(5,2))\n",
    "print(\"Array :\",arr)\n",
    "np.sort(arr,axis=0)\n"
   ]
  },
  {
   "cell_type": "code",
   "execution_count": 107,
   "id": "e09df476-2a53-47e8-a1f8-cb06654390c2",
   "metadata": {},
   "outputs": [
    {
     "name": "stdout",
     "output_type": "stream",
     "text": [
      "Array : [[7 1]\n",
      " [3 5]\n",
      " [4 5]\n",
      " [1 9]\n",
      " [3 9]]\n"
     ]
    },
    {
     "data": {
      "text/plain": [
       "array([[1, 7],\n",
       "       [3, 5],\n",
       "       [4, 5],\n",
       "       [1, 9],\n",
       "       [3, 9]], dtype=int32)"
      ]
     },
     "execution_count": 107,
     "metadata": {},
     "output_type": "execute_result"
    }
   ],
   "source": [
    "arr=np.random.randint(1,10,size=(5,2))\n",
    "print(\"Array :\",arr)\n",
    "np.sort(arr,axis=1)"
   ]
  },
  {
   "cell_type": "markdown",
   "id": "dfd56a7e-2357-487b-b37f-29ea11f0e207",
   "metadata": {},
   "source": [
    "###  12) append()\n",
    " • Syntax:\n",
    " • np.append(arry1,array2,axis=None)\n",
    " • axis = 1 --> Columns\n",
    " • axis = 0 --> Rows"
   ]
  },
  {
   "cell_type": "code",
   "execution_count": 109,
   "id": "0d8521cb-a374-4a90-9122-6a51642302fa",
   "metadata": {},
   "outputs": [
    {
     "data": {
      "text/plain": [
       "array([1, 2, 3, 4, 5])"
      ]
     },
     "execution_count": 109,
     "metadata": {},
     "output_type": "execute_result"
    }
   ],
   "source": [
    "arr1=np.array([1,2,3])\n",
    "arr2=np.array([4,5])\n",
    "newarr=np.append(arr1,arr2,axis=None)\n",
    "newarr"
   ]
  },
  {
   "cell_type": "markdown",
   "id": "72f2bdd3-6fa2-4bbb-9665-46ad2ce633c0",
   "metadata": {},
   "source": [
    "### 13) ceil(): The ceil() function rounds off decimal to nearest upper integer.\n",
    " • Syntax:\n",
    " • np.ceil(value)\n",
    " • 5.1 --> 6\n",
    " • 5.9 --> 6\n",
    " • 6.5 --> 7"
   ]
  },
  {
   "cell_type": "code",
   "execution_count": 110,
   "id": "b07fdc4a-aba4-4a43-b896-9c2346bf4301",
   "metadata": {},
   "outputs": [
    {
     "name": "stdout",
     "output_type": "stream",
     "text": [
      "6.0\n",
      "6.0\n"
     ]
    }
   ],
   "source": [
    "print(np.ceil(5.1))\n",
    "print(np.ceil(5.9))"
   ]
  },
  {
   "cell_type": "code",
   "execution_count": 111,
   "id": "ff994cd0-43dc-4628-b42b-aa01e3002af9",
   "metadata": {},
   "outputs": [
    {
     "data": {
      "text/plain": [
       "array([2, 3, 4, 5, 6])"
      ]
     },
     "execution_count": 111,
     "metadata": {},
     "output_type": "execute_result"
    }
   ],
   "source": [
    "np.array(np.ceil([1.1, 2.3, 3.6, 4.9, 5.99]),int)"
   ]
  },
  {
   "cell_type": "markdown",
   "id": "72cd95a7-1e94-417e-9a31-2a4f9e6dab4b",
   "metadata": {},
   "source": [
    "### 14) floor(): The floor() function rounds off decimal to nearest lower integer.\n",
    " • Syntax:\n",
    " • np.floor()\n",
    " • 5.1--> 5\n",
    " • 5.9--> 5"
   ]
  },
  {
   "cell_type": "code",
   "execution_count": 113,
   "id": "d1ddc6fc-dbcd-477d-a5bb-a8dfc9bd290d",
   "metadata": {},
   "outputs": [
    {
     "data": {
      "text/plain": [
       "array([1, 2, 3, 4, 5])"
      ]
     },
     "execution_count": 113,
     "metadata": {},
     "output_type": "execute_result"
    }
   ],
   "source": [
    "np.array(np.floor([1.6,2.8,3.3,4.8,5.3]))"
   ]
  },
  {
   "cell_type": "markdown",
   "id": "cd394f78-92f3-40d2-8200-3b41adb52a4e",
   "metadata": {},
   "source": [
    "###  15) around(): The around() function increments preceding digit or decimal by 1 if >=5 else do nothing"
   ]
  },
  {
   "cell_type": "code",
   "execution_count": 114,
   "id": "83c917f6-7d3e-4a45-82dc-d407458ded4a",
   "metadata": {},
   "outputs": [
    {
     "data": {
      "text/plain": [
       "np.float64(2.6)"
      ]
     },
     "execution_count": 114,
     "metadata": {},
     "output_type": "execute_result"
    }
   ],
   "source": [
    "arr=np.around(2.61110,1)\n",
    "arr"
   ]
  },
  {
   "cell_type": "code",
   "execution_count": 115,
   "id": "2995b481-da1d-411d-abad-5013eda8b77a",
   "metadata": {},
   "outputs": [
    {
     "data": {
      "text/plain": [
       "array([3., 5., 7., 9.])"
      ]
     },
     "execution_count": 115,
     "metadata": {},
     "output_type": "execute_result"
    }
   ],
   "source": [
    "arr=np.around([2.61, 4.57, 6.79, 8.97])\n",
    "arr"
   ]
  },
  {
   "cell_type": "code",
   "execution_count": null,
   "id": "7c4dc742-39c6-46c4-95c9-25ffc7d36cd0",
   "metadata": {},
   "outputs": [],
   "source": []
  },
  {
   "cell_type": "code",
   "execution_count": 118,
   "id": "993e2938-3c02-4fc6-bb48-f2c9ce24efc7",
   "metadata": {},
   "outputs": [
    {
     "name": "stdout",
     "output_type": "stream",
     "text": [
      "['P' 'y' 't' 'h' 'o' 'n' ' ' 'a' 'n' 'd' ' ' 'D' 'a' 't' 'a' ' ' 'S' 'c'\n",
      " 'i' 'e' 'n' 'c' 'e']\n",
      "(array([ 7, 12, 14]),)\n"
     ]
    }
   ],
   "source": [
    "str1=\"Python and Data Science\"\n",
    "arr=np.array(list(str1))\n",
    "print(arr)\n",
    "where_command=np.where(arr==\"a\");\n",
    "print(where_command)"
   ]
  },
  {
   "cell_type": "code",
   "execution_count": null,
   "id": "ca871643-3a50-420d-a245-1b670b8cd9ee",
   "metadata": {},
   "outputs": [],
   "source": []
  }
 ],
 "metadata": {
  "kernelspec": {
   "display_name": "Python 3 (ipykernel)",
   "language": "python",
   "name": "python3"
  },
  "language_info": {
   "codemirror_mode": {
    "name": "ipython",
    "version": 3
   },
   "file_extension": ".py",
   "mimetype": "text/x-python",
   "name": "python",
   "nbconvert_exporter": "python",
   "pygments_lexer": "ipython3",
   "version": "3.12.4"
  }
 },
 "nbformat": 4,
 "nbformat_minor": 5
}
