{
 "cells": [
  {
   "cell_type": "code",
   "execution_count": null,
   "id": "05a53b93-7f87-4759-b964-f82e26130f01",
   "metadata": {},
   "outputs": [],
   "source": [
    "import numpy as np"
   ]
  },
  {
   "cell_type": "code",
   "execution_count": 2,
   "id": "57942d54-dc2c-4e44-b83c-eca52912d1a3",
   "metadata": {},
   "outputs": [
    {
     "name": "stdout",
     "output_type": "stream",
     "text": [
      "<class 'numpy.ndarray'>\n"
     ]
    },
    {
     "data": {
      "text/plain": [
       "array([ 1, 22, 89, 33])"
      ]
     },
     "execution_count": 2,
     "metadata": {},
     "output_type": "execute_result"
    }
   ],
   "source": [
    "import numpy as np\n",
    "arr=np.array([1,22,89,33])\n",
    "print(type(arr))\n",
    "arr"
   ]
  },
  {
   "cell_type": "markdown",
   "id": "e867e635-f008-4ea1-bee7-01ab31fd409c",
   "metadata": {},
   "source": [
    "# Change Data type\n"
   ]
  },
  {
   "cell_type": "code",
   "execution_count": 3,
   "id": "d487b114-90c8-4c6f-9e64-d5d3a9d7175b",
   "metadata": {},
   "outputs": [
    {
     "name": "stdout",
     "output_type": "stream",
     "text": [
      "[11. 22. 33. 44.]\n"
     ]
    }
   ],
   "source": [
    "import numpy as np\n",
    "li=[11,22,33,44]\n",
    "arr=np.array(li,dtype=float)\n",
    "print(arr)"
   ]
  },
  {
   "cell_type": "code",
   "execution_count": 4,
   "id": "3fe2e594-b448-4910-a611-13f9fbda02a8",
   "metadata": {},
   "outputs": [
    {
     "name": "stdout",
     "output_type": "stream",
     "text": [
      "[11.+0.j 22.+0.j 33.+0.j 44.+0.j]\n"
     ]
    }
   ],
   "source": [
    "import numpy as np\n",
    "li=[11,22,33,44]\n",
    "arr=np.array(li,dtype=complex)\n",
    "print(arr)"
   ]
  },
  {
   "cell_type": "code",
   "execution_count": 6,
   "id": "fe16a40b-76b3-43d4-950d-86063258c800",
   "metadata": {},
   "outputs": [
    {
     "name": "stdout",
     "output_type": "stream",
     "text": [
      "[11 22 33 44]\n"
     ]
    }
   ],
   "source": [
    "import numpy as np\n",
    "li=[11.09,22.33,33.76,44.67]\n",
    "arr=np.array(li,dtype=int)\n",
    "print(arr)"
   ]
  },
  {
   "cell_type": "code",
   "execution_count": 7,
   "id": "3ec365fd-585e-431a-ae5d-7a06c9d3c998",
   "metadata": {},
   "outputs": [
    {
     "name": "stdout",
     "output_type": "stream",
     "text": [
      "[11.09+0.j 22.33+0.j 33.76+0.j 44.67+0.j]\n"
     ]
    }
   ],
   "source": [
    "import numpy as np\n",
    "li=[11.09,22.33,33.76,44.67]\n",
    "arr=np.array(li,dtype=complex)\n",
    "print(arr)"
   ]
  },
  {
   "cell_type": "code",
   "execution_count": 9,
   "id": "5a6acb1d-b89a-40e0-ad17-a0e1e7b736bd",
   "metadata": {},
   "outputs": [
    {
     "ename": "TypeError",
     "evalue": "int() argument must be a string, a bytes-like object or a real number, not 'complex'",
     "output_type": "error",
     "traceback": [
      "\u001b[1;31m---------------------------------------------------------------------------\u001b[0m",
      "\u001b[1;31mTypeError\u001b[0m                                 Traceback (most recent call last)",
      "Cell \u001b[1;32mIn[9], line 3\u001b[0m\n\u001b[0;32m      1\u001b[0m \u001b[38;5;28;01mimport\u001b[39;00m \u001b[38;5;21;01mnumpy\u001b[39;00m \u001b[38;5;28;01mas\u001b[39;00m \u001b[38;5;21;01mnp\u001b[39;00m\n\u001b[0;32m      2\u001b[0m li\u001b[38;5;241m=\u001b[39m[\u001b[38;5;241m11.09\u001b[39m\u001b[38;5;241m+\u001b[39m\u001b[38;5;241m0.\u001b[39mj,\u001b[38;5;241m22.33\u001b[39m\u001b[38;5;241m+\u001b[39m\u001b[38;5;241m0.\u001b[39mj,\u001b[38;5;241m33.76\u001b[39m\u001b[38;5;241m+\u001b[39m\u001b[38;5;241m0.\u001b[39mj,\u001b[38;5;241m44.67\u001b[39m\u001b[38;5;241m+\u001b[39m\u001b[38;5;241m0.\u001b[39mj]\n\u001b[1;32m----> 3\u001b[0m arr\u001b[38;5;241m=\u001b[39m\u001b[43mnp\u001b[49m\u001b[38;5;241;43m.\u001b[39;49m\u001b[43marray\u001b[49m\u001b[43m(\u001b[49m\u001b[43mli\u001b[49m\u001b[43m,\u001b[49m\u001b[43mdtype\u001b[49m\u001b[38;5;241;43m=\u001b[39;49m\u001b[38;5;28;43mint\u001b[39;49m\u001b[43m)\u001b[49m\n\u001b[0;32m      4\u001b[0m \u001b[38;5;28mprint\u001b[39m(arr)\n",
      "\u001b[1;31mTypeError\u001b[0m: int() argument must be a string, a bytes-like object or a real number, not 'complex'"
     ]
    }
   ],
   "source": [
    "import numpy as np\n",
    "li=[11.09+0.j,22.33+0.j,33.76+0.j,44.67+0.j]\n",
    "arr=np.array(li,dtype=int)\n",
    "print(arr)"
   ]
  },
  {
   "cell_type": "code",
   "execution_count": 10,
   "id": "cb4923a8-cb00-4d29-b4fa-c5bbcc48fb27",
   "metadata": {},
   "outputs": [
    {
     "ename": "TypeError",
     "evalue": "float() argument must be a string or a real number, not 'complex'",
     "output_type": "error",
     "traceback": [
      "\u001b[1;31m---------------------------------------------------------------------------\u001b[0m",
      "\u001b[1;31mTypeError\u001b[0m                                 Traceback (most recent call last)",
      "Cell \u001b[1;32mIn[10], line 3\u001b[0m\n\u001b[0;32m      1\u001b[0m \u001b[38;5;28;01mimport\u001b[39;00m \u001b[38;5;21;01mnumpy\u001b[39;00m \u001b[38;5;28;01mas\u001b[39;00m \u001b[38;5;21;01mnp\u001b[39;00m\n\u001b[0;32m      2\u001b[0m li\u001b[38;5;241m=\u001b[39m[\u001b[38;5;241m11.09\u001b[39m\u001b[38;5;241m+\u001b[39m\u001b[38;5;241m0.\u001b[39mj,\u001b[38;5;241m22.33\u001b[39m\u001b[38;5;241m+\u001b[39m\u001b[38;5;241m0.\u001b[39mj,\u001b[38;5;241m33.76\u001b[39m\u001b[38;5;241m+\u001b[39m\u001b[38;5;241m0.\u001b[39mj,\u001b[38;5;241m44.67\u001b[39m\u001b[38;5;241m+\u001b[39m\u001b[38;5;241m0.\u001b[39mj]\n\u001b[1;32m----> 3\u001b[0m arr\u001b[38;5;241m=\u001b[39m\u001b[43mnp\u001b[49m\u001b[38;5;241;43m.\u001b[39;49m\u001b[43marray\u001b[49m\u001b[43m(\u001b[49m\u001b[43mli\u001b[49m\u001b[43m,\u001b[49m\u001b[43mdtype\u001b[49m\u001b[38;5;241;43m=\u001b[39;49m\u001b[38;5;28;43mfloat\u001b[39;49m\u001b[43m)\u001b[49m\n\u001b[0;32m      4\u001b[0m \u001b[38;5;28mprint\u001b[39m(arr)\n",
      "\u001b[1;31mTypeError\u001b[0m: float() argument must be a string or a real number, not 'complex'"
     ]
    }
   ],
   "source": [
    "import numpy as np\n",
    "li=[11.09+0.j,22.33+0.j,33.76+0.j,44.67+0.j]\n",
    "arr=np.array(li,dtype=float)\n",
    "print(arr)"
   ]
  },
  {
   "cell_type": "markdown",
   "id": "663b2ea0-8184-443f-9395-568cbeda12d5",
   "metadata": {},
   "source": [
    "# Dimensions in Array "
   ]
  },
  {
   "cell_type": "markdown",
   "id": "bd849f03-bdab-4bbd-afc9-a2693d0f51e5",
   "metadata": {},
   "source": [
    "### 1) 0-D Array:"
   ]
  },
  {
   "cell_type": "code",
   "execution_count": 11,
   "id": "c23a2e96-ef03-44c5-a840-0f9f33cb0d12",
   "metadata": {},
   "outputs": [
    {
     "name": "stdout",
     "output_type": "stream",
     "text": [
      "Array: 100\n",
      "Dimension of Array: 0\n"
     ]
    }
   ],
   "source": [
    "arr=np.array(100)\n",
    "print(\"Array:\",arr)\n",
    "print(\"Dimension of Array:\",arr.ndim) "
   ]
  },
  {
   "cell_type": "markdown",
   "id": "fc3bb27e-d0ef-47aa-8d84-3d12347e1e2c",
   "metadata": {},
   "source": [
    "###  2) 1-D Array (uni-dimensional):"
   ]
  },
  {
   "cell_type": "code",
   "execution_count": 12,
   "id": "ad290710-f7aa-4595-87e9-ecb490cd2487",
   "metadata": {},
   "outputs": [
    {
     "name": "stdout",
     "output_type": "stream",
     "text": [
      "Array: [100]\n",
      "Dimension of Array: 1\n",
      "Array: [100.]\n",
      "Dimension of Array 1\n"
     ]
    }
   ],
   "source": [
    " arr=np.array([100])\n",
    " print(\"Array:\",arr)\n",
    " print(\"Dimension of Array:\",arr.ndim)\n",
    "\n",
    "\n",
    " arr=np.array([100],float)\n",
    " print(\"Array:\",arr)\n",
    " print(\"Dimension of Array\",arr.ndim)\n"
   ]
  },
  {
   "cell_type": "code",
   "execution_count": 14,
   "id": "6253873d-e644-457b-a4bf-95eb21cdb98a",
   "metadata": {},
   "outputs": [
    {
     "name": "stdout",
     "output_type": "stream",
     "text": [
      "Array: [100 200 300]\n",
      "Dimension of Array: 1\n"
     ]
    }
   ],
   "source": [
    "arr=np.array([100,200,300])\n",
    "print(\"Array:\",arr)\n",
    "print(\"Dimension of Array:\",arr.ndim)"
   ]
  },
  {
   "cell_type": "markdown",
   "id": "43e6afe3-9b39-465f-8424-eadcaeca9060",
   "metadata": {},
   "source": [
    "###  3) 2-D Array:"
   ]
  },
  {
   "cell_type": "code",
   "execution_count": 16,
   "id": "f57d4a5c-d12a-4727-ad0b-747f969c94b7",
   "metadata": {},
   "outputs": [
    {
     "name": "stdout",
     "output_type": "stream",
     "text": [
      "Array:\n",
      "[[1 2]\n",
      " [3 4]\n",
      " [5 6]]\n",
      "Dimension of Array:2\n",
      "Shape of Array:(3, 2)\n"
     ]
    }
   ],
   "source": [
    "arr=np.array([[1,2],[3,4],[5,6]])\n",
    "print(f\"Array:\\n{arr}\")\n",
    "print(f\"Dimension of Array:{arr.ndim}\")\n",
    "print(f\"Shape of Array:{arr.shape}\")"
   ]
  },
  {
   "cell_type": "code",
   "execution_count": 19,
   "id": "797abab3-d0cc-471d-88b3-c2bc11d2ef9d",
   "metadata": {},
   "outputs": [
    {
     "ename": "ValueError",
     "evalue": "setting an array element with a sequence. The requested array has an inhomogeneous shape after 1 dimensions. The detected shape was (2,) + inhomogeneous part.",
     "output_type": "error",
     "traceback": [
      "\u001b[1;31m---------------------------------------------------------------------------\u001b[0m",
      "\u001b[1;31mValueError\u001b[0m                                Traceback (most recent call last)",
      "Cell \u001b[1;32mIn[19], line 1\u001b[0m\n\u001b[1;32m----> 1\u001b[0m arr\u001b[38;5;241m=\u001b[39m\u001b[43mnp\u001b[49m\u001b[38;5;241;43m.\u001b[39;49m\u001b[43marray\u001b[49m\u001b[43m(\u001b[49m\u001b[43m[\u001b[49m\u001b[43m[\u001b[49m\u001b[38;5;241;43m1\u001b[39;49m\u001b[43m,\u001b[49m\u001b[38;5;241;43m2\u001b[39;49m\u001b[43m]\u001b[49m\u001b[43m,\u001b[49m\u001b[43m[\u001b[49m\u001b[38;5;241;43m3\u001b[39;49m\u001b[43m,\u001b[49m\u001b[43m]\u001b[49m\u001b[43m]\u001b[49m\u001b[43m)\u001b[49m\n\u001b[0;32m      2\u001b[0m \u001b[38;5;28mprint\u001b[39m(\u001b[38;5;124mf\u001b[39m\u001b[38;5;124m\"\u001b[39m\u001b[38;5;124mArray:\u001b[39m\u001b[38;5;130;01m\\n\u001b[39;00m\u001b[38;5;132;01m{\u001b[39;00marr\u001b[38;5;132;01m}\u001b[39;00m\u001b[38;5;124m\"\u001b[39m)\n\u001b[0;32m      3\u001b[0m \u001b[38;5;28mprint\u001b[39m(\u001b[38;5;124mf\u001b[39m\u001b[38;5;124m\"\u001b[39m\u001b[38;5;124mDimension of Array:\u001b[39m\u001b[38;5;132;01m{\u001b[39;00marr\u001b[38;5;241m.\u001b[39mndim\u001b[38;5;132;01m}\u001b[39;00m\u001b[38;5;124m\"\u001b[39m)\n",
      "\u001b[1;31mValueError\u001b[0m: setting an array element with a sequence. The requested array has an inhomogeneous shape after 1 dimensions. The detected shape was (2,) + inhomogeneous part."
     ]
    }
   ],
   "source": [
    "arr=np.array([[1,2],[3,]])\n",
    "print(f\"Array:\\n{arr}\")\n",
    "print(f\"Dimension of Array:{arr.ndim}\")\n",
    "print(f\"Shape of Array:{arr.shape}\")"
   ]
  },
  {
   "cell_type": "markdown",
   "id": "9f6d2171-cdae-4f61-a933-0190323d899d",
   "metadata": {},
   "source": [
    "### 4) 3-D Array:"
   ]
  },
  {
   "cell_type": "code",
   "execution_count": 20,
   "id": "4cdc1701-aacb-4fb4-8b3d-c6c304f05a4b",
   "metadata": {},
   "outputs": [
    {
     "name": "stdout",
     "output_type": "stream",
     "text": [
      "Array:\n",
      "[[[1 2]\n",
      "  [3 4]\n",
      "  [5 6]]]\n",
      "Dimension of Array:3\n",
      "Shape of Array:(1, 3, 2)\n"
     ]
    }
   ],
   "source": [
    "arr=np.array([[[1,2],[3,4],[5,6]]])\n",
    "print(f\"Array:\\n{arr}\")\n",
    "print(f\"Dimension of Array:{arr.ndim}\")\n",
    "print(f\"Shape of Array:{arr.shape}\")"
   ]
  },
  {
   "cell_type": "code",
   "execution_count": 22,
   "id": "95ee645b-c359-4300-af8e-9c650c43b4d4",
   "metadata": {},
   "outputs": [
    {
     "name": "stdout",
     "output_type": "stream",
     "text": [
      "Array:\n",
      "[[[1 2]\n",
      "  [3 4]\n",
      "  [5 6]]\n",
      "\n",
      " [[1 2]\n",
      "  [3 4]\n",
      "  [5 6]]]\n",
      "Dimension of Array:3\n",
      "Shape of Array:(2, 3, 2)\n"
     ]
    }
   ],
   "source": [
    "arr=np.array([[[1,2],[3,4],[5,6]],[[1,2],[3,4],[5,6]]])\n",
    "print(f\"Array:\\n{arr}\")\n",
    "print(f\"Dimension of Array:{arr.ndim}\")\n",
    "print(f\"Shape of Array:{arr.shape}\")"
   ]
  },
  {
   "cell_type": "code",
   "execution_count": 26,
   "id": "205893a5-1aa8-496a-9796-a249ba6eba45",
   "metadata": {},
   "outputs": [
    {
     "name": "stdout",
     "output_type": "stream",
     "text": [
      "3\n"
     ]
    }
   ],
   "source": [
    "arr=np.array([1,2,3,4,5])\n",
    "print(arr[2])\n"
   ]
  },
  {
   "cell_type": "code",
   "execution_count": 28,
   "id": "a9ac5ded-e233-40e9-8724-1ad57208db88",
   "metadata": {},
   "outputs": [
    {
     "name": "stdout",
     "output_type": "stream",
     "text": [
      "[2 3]\n"
     ]
    }
   ],
   "source": [
    "arr=np.array([1,2,3,4,5])\n",
    "print(arr[1:3])\n"
   ]
  },
  {
   "cell_type": "code",
   "execution_count": 30,
   "id": "60b4a6f1-5102-49a9-95b7-a0188cb6e138",
   "metadata": {},
   "outputs": [
    {
     "name": "stdout",
     "output_type": "stream",
     "text": [
      "[[   1    2    3    4    5    6    7    8    9   10]\n",
      " [  10   20   30   40   50   60   70   80   90  100]\n",
      " [ 100  200  300  400  500  600  700  800  900 1000]]\n",
      "[[30 40]]\n",
      "[[ 30  40]\n",
      " [300 400]]\n"
     ]
    }
   ],
   "source": [
    "\n",
    "arr=np.array([[1,2,3,4,5,6,7,8,9,10],\n",
    "             [10,20,30,40,50,60,70,80,90,100],\n",
    "             [100,200,300,400,500,600,700,800,900,1000]])\n",
    "print(arr)\n",
    "print(arr[1:2,2:4])\n",
    "print(arr[1:,2:4])"
   ]
  },
  {
   "cell_type": "code",
   "execution_count": 33,
   "id": "06dfd41c-fa54-4e32-858d-b83f8a635cfc",
   "metadata": {},
   "outputs": [
    {
     "name": "stdout",
     "output_type": "stream",
     "text": [
      "[[ 60  70  80  90 100]]\n",
      "[[   6    7    8    9   10]\n",
      " [  60   70   80   90  100]\n",
      " [ 600  700  800  900 1000]]\n"
     ]
    }
   ],
   "source": [
    "arr=np.array([[1,2,3,4,5,6,7,8,9,10],\n",
    "             [10,20,30,40,50,60,70,80,90,100],\n",
    "             [100,200,300,400,500,600,700,800,900,1000]])\n",
    "print(arr[1:2,5:])\n",
    "print(arr[0:,5:])"
   ]
  },
  {
   "cell_type": "markdown",
   "id": "f977c2c3-7420-4b32-ae44-93ffd6439c68",
   "metadata": {},
   "source": [
    "#  NumPy Functions:"
   ]
  },
  {
   "cell_type": "markdown",
   "id": "69c06008-51d2-4226-a8f5-a5f67d108815",
   "metadata": {},
   "source": [
    "###  Convert to n-D Array:"
   ]
  },
  {
   "cell_type": "code",
   "execution_count": 35,
   "id": "75c77220-a231-4b72-ae25-8ceb9dd4952d",
   "metadata": {},
   "outputs": [
    {
     "name": "stdout",
     "output_type": "stream",
     "text": [
      "Array : [11  2  5  7  9]\n",
      "Dimenstion of array : 1\n",
      "Length of array : 5\n",
      "Shape of Array  : (5,)\n"
     ]
    }
   ],
   "source": [
    "arr=np.array([11,2,5,7,9])\n",
    "print(\"Array :\",arr)\n",
    "print(\"Dimenstion of array :\",arr.ndim)\n",
    "print(\"Length of array :\",len(arr))\n",
    "print(\"Shape of Array  :\",arr.shape)"
   ]
  },
  {
   "cell_type": "code",
   "execution_count": 37,
   "id": "87a9b033-7e54-42b7-9195-d6ad3e4908ef",
   "metadata": {},
   "outputs": [
    {
     "name": "stdout",
     "output_type": "stream",
     "text": [
      "Array : [[11  2  5  7  9]]\n",
      "Dimenstion of array : 2\n",
      "Length of array : 1\n",
      "Shape of Array  : (1, 5)\n"
     ]
    }
   ],
   "source": [
    "arr=np.array([11,2,5,7,9],ndmin=2)\n",
    "print(\"Array :\",arr)\n",
    "print(\"Dimenstion of array :\",arr.ndim)\n",
    "print(\"Length of array :\",len(arr))\n",
    "print(\"Shape of Array  :\",arr.shape)"
   ]
  },
  {
   "cell_type": "code",
   "execution_count": 38,
   "id": "17bb9698-7af2-488d-ba25-a33c7370a56d",
   "metadata": {},
   "outputs": [
    {
     "name": "stdout",
     "output_type": "stream",
     "text": [
      "Array : [[[11  2  5  7  9]]]\n",
      "Dimenstion of array : 3\n",
      "Length of array : 1\n",
      "Shape of Array  : (1, 1, 5)\n"
     ]
    }
   ],
   "source": [
    "arr=np.array([11,2,5,7,9],ndmin=3)\n",
    "print(\"Array :\",arr)\n",
    "print(\"Dimenstion of array :\",arr.ndim)\n",
    "print(\"Length of array :\",len(arr))\n",
    "print(\"Shape of Array  :\",arr.shape)"
   ]
  },
  {
   "cell_type": "markdown",
   "id": "39a9b6d6-c7c5-4a99-b6ae-20fb26673c3c",
   "metadata": {},
   "source": [
    "### 1) reshape(): Reshaping means changing the shape of an array"
   ]
  },
  {
   "cell_type": "code",
   "execution_count": 43,
   "id": "45898063-34ff-4420-a1bc-f344967bea17",
   "metadata": {},
   "outputs": [
    {
     "name": "stdout",
     "output_type": "stream",
     "text": [
      "Array: [1 2 3 4]\n",
      "Dimension of Array: 1\n",
      "Length of Array: 4\n",
      "Shape of Array: (4,)\n",
      "Reshape of Array: \n",
      "[[1 2]\n",
      " [3 4]]\n"
     ]
    }
   ],
   "source": [
    " import numpy as np\n",
    " arr=np.array([1,2,3,4])\n",
    " print(f\"Array: {arr}\")\n",
    " print(f\"Dimension of Array: {arr.ndim}\")\n",
    " print(f\"Length of Array: {len(arr)}\")\n",
    " print(f\"Shape of Array: {arr.shape}\")\n",
    " print(f\"Reshape of Array: \\n{arr.reshape(2,2)}\")\n"
   ]
  },
  {
   "cell_type": "code",
   "execution_count": 44,
   "id": "806c2142-0ba3-4862-96c3-e368f0ed1729",
   "metadata": {},
   "outputs": [
    {
     "name": "stdout",
     "output_type": "stream",
     "text": [
      "Array: [1 2 3 4]\n",
      "Dimension of Array: 1\n",
      "Length of Array: 4\n",
      "Shape of Array: (4,)\n",
      "Reshape of Array: \n",
      "[[1]\n",
      " [2]\n",
      " [3]\n",
      " [4]]\n"
     ]
    }
   ],
   "source": [
    " import numpy as np\n",
    " arr=np.array([1,2,3,4])\n",
    " print(f\"Array: {arr}\")\n",
    " print(f\"Dimension of Array: {arr.ndim}\")\n",
    " print(f\"Length of Array: {len(arr)}\")\n",
    " print(f\"Shape of Array: {arr.shape}\")\n",
    " print(f\"Reshape of Array: \\n{arr.reshape(4,1)}\")\n"
   ]
  },
  {
   "cell_type": "code",
   "execution_count": 45,
   "id": "c3aae5be-c6ba-40cd-ab7a-79bd988ae063",
   "metadata": {},
   "outputs": [
    {
     "name": "stdout",
     "output_type": "stream",
     "text": [
      "Array: [1 2 3 4]\n",
      "Dimension of Array: 1\n",
      "Length of Array: 4\n",
      "Shape of Array: (4,)\n",
      "Reshape of Array: \n",
      "[[[1 2 3 4]]]\n"
     ]
    }
   ],
   "source": [
    " import numpy as np\n",
    " arr=np.array([1,2,3,4])\n",
    " print(f\"Array: {arr}\")\n",
    " print(f\"Dimension of Array: {arr.ndim}\")\n",
    " print(f\"Length of Array: {len(arr)}\")\n",
    " print(f\"Shape of Array: {arr.shape}\")\n",
    " print(f\"Reshape of Array: \\n{arr.reshape(1,1,4)}\")\n"
   ]
  },
  {
   "cell_type": "code",
   "execution_count": 47,
   "id": "83f9679a-3b53-4855-9865-b221bd734a3e",
   "metadata": {},
   "outputs": [
    {
     "name": "stdout",
     "output_type": "stream",
     "text": [
      "Array: [1 2 3 4]\n",
      "Dimension of Array: 1\n",
      "Length of Array: 4\n",
      "Shape of Array: (4,)\n",
      "Reshape of Array: \n",
      "[[[1 2]]\n",
      "\n",
      " [[3 4]]]\n"
     ]
    }
   ],
   "source": [
    " import numpy as np\n",
    " arr=np.array([1,2,3,4])\n",
    " print(f\"Array: {arr}\")\n",
    " print(f\"Dimension of Array: {arr.ndim}\")\n",
    " print(f\"Length of Array: {len(arr)}\")\n",
    " print(f\"Shape of Array: {arr.shape}\")\n",
    " print(f\"Reshape of Array: \\n{arr.reshape(2,1,2)}\")\n"
   ]
  },
  {
   "cell_type": "code",
   "execution_count": 48,
   "id": "f1fb9c86-1649-4473-a44f-d901ba57afa4",
   "metadata": {},
   "outputs": [
    {
     "name": "stdout",
     "output_type": "stream",
     "text": [
      "Array: [1 2 3 4]\n",
      "Dimension of Array: 1\n",
      "Length of Array: 4\n",
      "Shape of Array: (4,)\n",
      "Reshape of Array: \n",
      "[1 2 3 4]\n"
     ]
    }
   ],
   "source": [
    " import numpy as np\n",
    " arr=np.array([1,2,3,4])\n",
    " print(f\"Array: {arr}\")\n",
    " print(f\"Dimension of Array: {arr.ndim}\")\n",
    " print(f\"Length of Array: {len(arr)}\")\n",
    " print(f\"Shape of Array: {arr.shape}\")\n",
    " print(f\"Reshape of Array: \\n{arr.reshape(4,)}\")\n"
   ]
  },
  {
   "cell_type": "code",
   "execution_count": 51,
   "id": "db7b4e53-74ca-44a8-a244-c9faa69d2c3f",
   "metadata": {},
   "outputs": [
    {
     "name": "stdout",
     "output_type": "stream",
     "text": [
      "Array: [1 2 3 4 5 6 7 8 9 0]\n",
      "Dimension of Array: 1\n",
      "Length of Array: 10\n",
      "Shape of Array: (10,)\n",
      "Reshape of Array: \n",
      "[[[1 2]]\n",
      "\n",
      " [[3 4]]\n",
      "\n",
      " [[5 6]]\n",
      "\n",
      " [[7 8]]\n",
      "\n",
      " [[9 0]]]\n"
     ]
    }
   ],
   "source": [
    "import numpy as np\n",
    "arr=np.array([1,2,3,4,5,6,7,8,9,0])\n",
    "print(f\"Array: {arr}\")\n",
    "print(f\"Dimension of Array: {arr.ndim}\")\n",
    "print(f\"Length of Array: {len(arr)}\")\n",
    "print(f\"Shape of Array: {arr.shape}\")\n",
    "print(f\"Reshape of Array: \\n{arr.reshape(5,1,2)}\")\n"
   ]
  },
  {
   "cell_type": "markdown",
   "id": "b0c5b3ee-b0a8-4281-bd26-9d229951f526",
   "metadata": {},
   "source": [
    "###  Accessing elements by 'for loop':"
   ]
  },
  {
   "cell_type": "code",
   "execution_count": 54,
   "id": "971dd283-678c-477b-aa46-272422b7008e",
   "metadata": {},
   "outputs": [
    {
     "name": "stdout",
     "output_type": "stream",
     "text": [
      "Element in array : [1 2]\n",
      "Element in array : [3 4]\n"
     ]
    }
   ],
   "source": [
    "arr=np.array([[1,2],[3,4]])\n",
    "for i in arr:\n",
    "    print(\"Element in array :\",i)"
   ]
  },
  {
   "cell_type": "code",
   "execution_count": 56,
   "id": "94a91508-e020-4231-ba16-71d355715756",
   "metadata": {},
   "outputs": [
    {
     "name": "stdout",
     "output_type": "stream",
     "text": [
      "Element in array : 1\n",
      "Element in array : 2\n",
      "Element in array : 3\n",
      "Element in array : 4\n"
     ]
    }
   ],
   "source": [
    "arr=np.array([[1,2],[3,4]])\n",
    "for i in arr:\n",
    "    for j in i:\n",
    "        print(\"Element in array :\",j)"
   ]
  },
  {
   "cell_type": "code",
   "execution_count": 59,
   "id": "db3e5358-e195-46e5-9508-0a4d4e192538",
   "metadata": {},
   "outputs": [
    {
     "name": "stdout",
     "output_type": "stream",
     "text": [
      "Element in array : [[1 2]]\n",
      "Element in array : [[3 4]]\n",
      "Element in array : [[5 6]]\n",
      "Element in array : [[7 8]]\n",
      "Element in array : [[9 0]]\n"
     ]
    }
   ],
   "source": [
    "arr=np.array([[[1,2]],[[3,4]],[[5,6]],[[7,8]],[[9,0]]])\n",
    "for i in arr:\n",
    "    print(\"Element in array :\",i)"
   ]
  },
  {
   "cell_type": "code",
   "execution_count": 62,
   "id": "b03de93f-669b-4cb5-ac5d-3a9549cbe861",
   "metadata": {},
   "outputs": [
    {
     "name": "stdout",
     "output_type": "stream",
     "text": [
      "Element in array : [1 2]\n",
      "Element in array : [3 4]\n",
      "Element in array : [5 6]\n",
      "Element in array : [7 8]\n",
      "Element in array : [9 0]\n"
     ]
    }
   ],
   "source": [
    "arr=np.array([[[1,2]],[[3,4]],[[5,6]],[[7,8]],[[9,0]]])\n",
    "for i in arr:\n",
    "    for j in i:\n",
    "        print(\"Element in array :\",j)"
   ]
  },
  {
   "cell_type": "code",
   "execution_count": 63,
   "id": "38009d08-c001-4e43-b603-d13e92f30e0a",
   "metadata": {},
   "outputs": [
    {
     "name": "stdout",
     "output_type": "stream",
     "text": [
      "Element in array : 1\n",
      "Element in array : 2\n",
      "Element in array : 3\n",
      "Element in array : 4\n",
      "Element in array : 5\n",
      "Element in array : 6\n",
      "Element in array : 7\n",
      "Element in array : 8\n",
      "Element in array : 9\n",
      "Element in array : 0\n"
     ]
    }
   ],
   "source": [
    "arr=np.array([[[1,2]],[[3,4]],[[5,6]],[[7,8]],[[9,0]]])\n",
    "for i in arr:\n",
    "    for j in i:\n",
    "        for k in j:\n",
    "            print(\"Element in array :\",k)"
   ]
  },
  {
   "cell_type": "markdown",
   "id": "585be696-914b-4df6-8d96-80d38772c98a",
   "metadata": {},
   "source": [
    "### 2) np.nditer(): The function nditer() is a helping function that can be used from very basic to very advanced iterations"
   ]
  },
  {
   "cell_type": "code",
   "execution_count": 64,
   "id": "54f88c81-c2ea-4b56-a4ae-2a365a70f546",
   "metadata": {},
   "outputs": [
    {
     "name": "stdout",
     "output_type": "stream",
     "text": [
      "Elements in Array: 1\n",
      "Elements in Array: 2\n",
      "Elements in Array: 3\n",
      "Elements in Array: 4\n"
     ]
    }
   ],
   "source": [
    "arr=np.array([1,2,3,4])\n",
    "for i in np.nditer(arr):\n",
    "    print(\"Elements in Array:\",i)"
   ]
  },
  {
   "cell_type": "code",
   "execution_count": 65,
   "id": "8841ad04-7324-47c6-86b9-ea0e298dba09",
   "metadata": {},
   "outputs": [
    {
     "name": "stdout",
     "output_type": "stream",
     "text": [
      "Element in array : 1\n",
      "Element in array : 2\n",
      "Element in array : 3\n",
      "Element in array : 4\n",
      "Element in array : 5\n",
      "Element in array : 6\n",
      "Element in array : 7\n",
      "Element in array : 8\n",
      "Element in array : 9\n",
      "Element in array : 0\n"
     ]
    }
   ],
   "source": [
    "arr=np.array([[[1,2]],[[3,4]],[[5,6]],[[7,8]],[[9,0]]])\n",
    "for i in  np.nditer(arr):\n",
    "    print(\"Element in array :\",i)"
   ]
  },
  {
   "cell_type": "markdown",
   "id": "2cd753e6-251c-4ae5-81fd-e3b61aa39292",
   "metadata": {},
   "source": [
    "### 3) np.ndenumerate(): Enumeration means mentioning sequence number of somethings one by one."
   ]
  },
  {
   "cell_type": "code",
   "execution_count": 67,
   "id": "3ba328f5-4f13-4685-ba5e-c0414fb3243e",
   "metadata": {},
   "outputs": [
    {
     "name": "stdout",
     "output_type": "stream",
     "text": [
      "0 A\n",
      "1 N\n",
      "2 I\n",
      "3 K\n",
      "4 E\n",
      "5 T\n"
     ]
    }
   ],
   "source": [
    "for i,j in enumerate(list(\"ANIKET\")):\n",
    "    print(i,j)"
   ]
  },
  {
   "cell_type": "code",
   "execution_count": 68,
   "id": "0705ae37-25c1-4e63-83f2-532850d1d0ec",
   "metadata": {},
   "outputs": [
    {
     "name": "stdout",
     "output_type": "stream",
     "text": [
      "0 B\n",
      "1 Y\n",
      "2 E\n"
     ]
    }
   ],
   "source": [
    "arr=np.array(['B','Y','E'])\n",
    "for i,j in enumerate(arr):\n",
    "    print(i,j)"
   ]
  },
  {
   "cell_type": "code",
   "execution_count": 70,
   "id": "ea11e0ff-8898-4a3a-abb4-557a538683da",
   "metadata": {},
   "outputs": [
    {
     "name": "stdout",
     "output_type": "stream",
     "text": [
      "(0,) B\n",
      "(1,) Y\n",
      "(2,) E\n"
     ]
    }
   ],
   "source": [
    "arr=np.array(['B','Y','E'])\n",
    "for i,j in np.ndenumerate(arr):\n",
    "    print(i,j)"
   ]
  },
  {
   "cell_type": "code",
   "execution_count": 76,
   "id": "2558b9d3-24ee-43a5-9689-48bced984f95",
   "metadata": {},
   "outputs": [
    {
     "name": "stdout",
     "output_type": "stream",
     "text": [
      "(0, 0) B\n",
      "(0, 1) Y\n",
      "(0, 2) E\n"
     ]
    }
   ],
   "source": [
    "arr=np.array([['B','Y','E']])\n",
    "for i,j in np.ndenumerate(arr):\n",
    "    print(i,j)"
   ]
  },
  {
   "cell_type": "markdown",
   "id": "02f997da-6249-4c2a-a064-0909e2c788cc",
   "metadata": {},
   "source": [
    "### 4) zeros(): Return an Array with all zero elements"
   ]
  },
  {
   "cell_type": "code",
   "execution_count": 77,
   "id": "020394c5-0416-4908-aa0b-a8d80a764a4f",
   "metadata": {},
   "outputs": [
    {
     "data": {
      "text/plain": [
       "array([0, 0, 0])"
      ]
     },
     "execution_count": 77,
     "metadata": {},
     "output_type": "execute_result"
    }
   ],
   "source": [
    "np.zeros(3,int)"
   ]
  },
  {
   "cell_type": "code",
   "execution_count": 79,
   "id": "08e7f2ce-ade6-4095-a4a8-78b28da6eab5",
   "metadata": {},
   "outputs": [
    {
     "name": "stdout",
     "output_type": "stream",
     "text": [
      "[[0 0 0]\n",
      " [0 0 0]]\n"
     ]
    }
   ],
   "source": [
    "arr=np.zeros((2,3),int)\n",
    "print(arr)"
   ]
  },
  {
   "cell_type": "markdown",
   "id": "8641d24f-4129-4281-ae09-3c6d6583f4ff",
   "metadata": {},
   "source": [
    "### 5) ones(): Return an array with all elements as one"
   ]
  },
  {
   "cell_type": "code",
   "execution_count": 80,
   "id": "cf670149-4069-4dc4-858e-10958be2c9ca",
   "metadata": {},
   "outputs": [
    {
     "data": {
      "text/plain": [
       "array([1, 1, 1, 1])"
      ]
     },
     "execution_count": 80,
     "metadata": {},
     "output_type": "execute_result"
    }
   ],
   "source": [
    "np.ones(4,int)"
   ]
  },
  {
   "cell_type": "code",
   "execution_count": 81,
   "id": "b4bc93e8-d153-4b2a-a0c8-7b53b7f63cc7",
   "metadata": {},
   "outputs": [
    {
     "name": "stdout",
     "output_type": "stream",
     "text": [
      "[[[1 1 1 1]\n",
      "  [1 1 1 1]]\n",
      "\n",
      " [[1 1 1 1]\n",
      "  [1 1 1 1]]\n",
      "\n",
      " [[1 1 1 1]\n",
      "  [1 1 1 1]]]\n"
     ]
    }
   ],
   "source": [
    "arr=np.ones((3,2,4),int)\n",
    "print(arr)"
   ]
  },
  {
   "cell_type": "markdown",
   "id": "75fb63e1-81bb-4921-9aa3-5fa9b090780f",
   "metadata": {},
   "source": [
    "###  6) arange(): NumPy arange() is one of the array creation routines based on numerical ranges"
   ]
  },
  {
   "cell_type": "code",
   "execution_count": 82,
   "id": "004ccc4b-cac7-407e-9b19-18f22b0fda65",
   "metadata": {},
   "outputs": [
    {
     "name": "stdout",
     "output_type": "stream",
     "text": [
      "[0 1 2 3 4]\n"
     ]
    }
   ],
   "source": [
    "arr=np.arange(5)\n",
    "print(arr)"
   ]
  },
  {
   "cell_type": "code",
   "execution_count": 84,
   "id": "d922afdb-3b23-418c-aa08-ebd7012b02fd",
   "metadata": {},
   "outputs": [
    {
     "data": {
      "text/plain": [
       "array([2])"
      ]
     },
     "execution_count": 84,
     "metadata": {},
     "output_type": "execute_result"
    }
   ],
   "source": [
    "arr=np.arange(2,3,4)\n",
    "arr"
   ]
  },
  {
   "cell_type": "code",
   "execution_count": 85,
   "id": "5bf705fc-7d3e-4b59-9b6a-81a34b41f393",
   "metadata": {},
   "outputs": [
    {
     "data": {
      "text/plain": [
       "array([0, 1, 2, 3, 4, 5, 6, 7, 8, 9])"
      ]
     },
     "execution_count": 85,
     "metadata": {},
     "output_type": "execute_result"
    }
   ],
   "source": [
    "arr=np.arange(10)\n",
    "arr"
   ]
  },
  {
   "cell_type": "code",
   "execution_count": 87,
   "id": "e6f605c1-d7b0-4931-885e-c586cd4347c9",
   "metadata": {},
   "outputs": [
    {
     "name": "stdout",
     "output_type": "stream",
     "text": [
      "[1 3 5]\n"
     ]
    }
   ],
   "source": [
    "arr=np.arange(1,6,2)\n",
    "print(arr)\n",
    "\n"
   ]
  },
  {
   "cell_type": "markdown",
   "id": "d05c76fa-9b1b-48dd-8dfc-d70a73a06b8f",
   "metadata": {},
   "source": [
    "###  7) linspace(): Returns evenly spaced values"
   ]
  },
  {
   "cell_type": "code",
   "execution_count": 88,
   "id": "ec40df6e-110a-47b1-ad02-7b7fe0f88fda",
   "metadata": {},
   "outputs": [
    {
     "name": "stdout",
     "output_type": "stream",
     "text": [
      "[ 1.  2.  3.  4.  5.  6.  7.  8.  9. 10.]\n"
     ]
    }
   ],
   "source": [
    "# np.linspace(start,end,num = 50)\n",
    "arr=np.linspace(1,10,num=10)\n",
    "print(arr)"
   ]
  },
  {
   "cell_type": "code",
   "execution_count": 89,
   "id": "7bcd19ea-14e8-4d52-899e-46c4a13b3c5b",
   "metadata": {},
   "outputs": [
    {
     "data": {
      "text/plain": [
       "array([2.        , 2.22222222, 2.44444444, 2.66666667, 2.88888889,\n",
       "       3.11111111, 3.33333333, 3.55555556, 3.77777778, 4.        ])"
      ]
     },
     "execution_count": 89,
     "metadata": {},
     "output_type": "execute_result"
    }
   ],
   "source": [
    "arr=np.linspace(2,4,num=10)\n",
    "arr"
   ]
  },
  {
   "cell_type": "markdown",
   "id": "af9fc303-d74b-4d1a-9d46-ad11a048112e",
   "metadata": {},
   "source": [
    "###  8) eye(): It will return an array with ones on diagonal and zeros elsewhere"
   ]
  },
  {
   "cell_type": "code",
   "execution_count": 90,
   "id": "fc4708b4-8a44-4078-ab52-92d1ec1b0428",
   "metadata": {},
   "outputs": [
    {
     "name": "stdout",
     "output_type": "stream",
     "text": [
      "[[1. 0. 0.]\n",
      " [0. 1. 0.]\n",
      " [0. 0. 1.]]\n"
     ]
    }
   ],
   "source": [
    "#• np.eye(shape,dtype=int/float/complex) # by default it is float\n",
    " \n",
    "arr=np.eye(3)\n",
    "print(arr)"
   ]
  },
  {
   "cell_type": "code",
   "execution_count": 91,
   "id": "f28c752a-8a8c-41b9-8bc2-d6ba7863103c",
   "metadata": {},
   "outputs": [
    {
     "name": "stdout",
     "output_type": "stream",
     "text": [
      "[[1. 0.]\n",
      " [0. 1.]\n",
      " [0. 0.]]\n"
     ]
    }
   ],
   "source": [
    "arr=np.eye(3,2)\n",
    "print(arr)"
   ]
  },
  {
   "cell_type": "code",
   "execution_count": 97,
   "id": "9ecfbdc3-8cce-4f89-ba72-49ae7e2cb0ee",
   "metadata": {},
   "outputs": [
    {
     "name": "stdout",
     "output_type": "stream",
     "text": [
      "[[1. 0. 0.]\n",
      " [0. 1. 0.]\n",
      " [0. 0. 1.]]\n"
     ]
    }
   ],
   "source": [
    "arr=np.eye(3,3)\n",
    "print(arr)"
   ]
  },
  {
   "cell_type": "code",
   "execution_count": 98,
   "id": "9879edef-2114-44a5-84de-ecaf94127a5f",
   "metadata": {},
   "outputs": [
    {
     "data": {
      "text/plain": [
       "array([[1.+0.j, 0.+0.j, 0.+0.j],\n",
       "       [0.+0.j, 1.+0.j, 0.+0.j],\n",
       "       [0.+0.j, 0.+0.j, 1.+0.j]])"
      ]
     },
     "execution_count": 98,
     "metadata": {},
     "output_type": "execute_result"
    }
   ],
   "source": [
    "arr=np.eye(3,dtype=complex)\n",
    "arr\n"
   ]
  },
  {
   "cell_type": "markdown",
   "id": "c79f64a8-e60e-479d-a4cb-7fb1bf1c42ab",
   "metadata": {},
   "source": [
    "### 9) identity(): Identity matrix will be returned (i.e No of Column = No of Rows)"
   ]
  },
  {
   "cell_type": "code",
   "execution_count": 99,
   "id": "eb74cccf-77d3-43f7-8bd7-968e80bc2773",
   "metadata": {},
   "outputs": [
    {
     "data": {
      "text/plain": [
       "array([[1., 0., 0., 0.],\n",
       "       [0., 1., 0., 0.],\n",
       "       [0., 0., 1., 0.],\n",
       "       [0., 0., 0., 1.]])"
      ]
     },
     "execution_count": 99,
     "metadata": {},
     "output_type": "execute_result"
    }
   ],
   "source": [
    " arr=np.identity(4)\n",
    " arr"
   ]
  },
  {
   "cell_type": "code",
   "execution_count": 103,
   "id": "df62e2ac-ad70-409e-a1b6-12f17ddfa95c",
   "metadata": {},
   "outputs": [
    {
     "data": {
      "text/plain": [
       "array([[1, 0, 0],\n",
       "       [0, 1, 0],\n",
       "       [0, 0, 1]])"
      ]
     },
     "execution_count": 103,
     "metadata": {},
     "output_type": "execute_result"
    }
   ],
   "source": [
    " arr=np.identity(3,int)\n",
    " arr"
   ]
  },
  {
   "cell_type": "markdown",
   "id": "5036e527-280a-43ba-9357-960d473f42ea",
   "metadata": {},
   "source": [
    "### 10) Random: Used to generate random values of array"
   ]
  },
  {
   "cell_type": "code",
   "execution_count": 105,
   "id": "1fb9f0e9-da45-47c7-a720-ecb0c087c2fe",
   "metadata": {},
   "outputs": [
    {
     "name": "stdout",
     "output_type": "stream",
     "text": [
      "[0.29981489 0.12057783 0.16262935 0.73532037 0.34708344]\n"
     ]
    }
   ],
   "source": [
    "arr=np.random.rand(5)\n",
    "print(arr)"
   ]
  },
  {
   "cell_type": "code",
   "execution_count": 106,
   "id": "77f599cd-2a04-4e8e-9d5f-3f9491c741d2",
   "metadata": {},
   "outputs": [
    {
     "name": "stdout",
     "output_type": "stream",
     "text": [
      "[[0.09523449 0.73410197 0.97378394 0.87013785 0.20761697]\n",
      " [0.56127296 0.60887859 0.45485252 0.63134702 0.08500807]\n",
      " [0.85053493 0.54299104 0.77379135 0.78441265 0.99932106]]\n"
     ]
    }
   ],
   "source": [
    "arr=np.random.rand(3,5)\n",
    "print(arr)"
   ]
  },
  {
   "cell_type": "code",
   "execution_count": 109,
   "id": "c1aff309-bb17-49a0-b8c0-dfd1d8fa1f02",
   "metadata": {},
   "outputs": [
    {
     "name": "stdout",
     "output_type": "stream",
     "text": [
      "[1 1 1 2]\n"
     ]
    }
   ],
   "source": [
    " arr=np.random.randint(1,3,size=4)\n",
    " print(arr)"
   ]
  },
  {
   "cell_type": "code",
   "execution_count": 110,
   "id": "3630fdcb-1e42-4bb3-8366-18f9b9e09d97",
   "metadata": {},
   "outputs": [
    {
     "name": "stdout",
     "output_type": "stream",
     "text": [
      "[[4 8 7 7 2]\n",
      " [8 1 1 4 5]\n",
      " [2 1 4 9 4]]\n"
     ]
    }
   ],
   "source": [
    " arr=np.random.randint(1,10,size=(3,5))\n",
    " print(arr)\n"
   ]
  },
  {
   "cell_type": "code",
   "execution_count": 111,
   "id": "7c368b92-f017-463a-bccc-8c0861f3036c",
   "metadata": {},
   "outputs": [
    {
     "name": "stdout",
     "output_type": "stream",
     "text": [
      "[[-1.41904194  0.27152764 -0.44563054]\n",
      " [ 1.0237392  -2.17061831 -1.89996541]]\n"
     ]
    }
   ],
   "source": [
    " arr=np.random.randn(2,3)\n",
    " print(arr)"
   ]
  },
  {
   "cell_type": "code",
   "execution_count": 112,
   "id": "31dc6c46-1931-443c-9e45-a46d2e77d453",
   "metadata": {},
   "outputs": [
    {
     "data": {
      "text/plain": [
       "array([0.03668781, 0.81029295, 0.22257397, 0.09249749, 0.80494974,\n",
       "       0.65627053])"
      ]
     },
     "execution_count": 112,
     "metadata": {},
     "output_type": "execute_result"
    }
   ],
   "source": [
    " arr=np.random.ranf(6)\n",
    " arr"
   ]
  },
  {
   "cell_type": "markdown",
   "id": "3dc6d54f-a8d6-4a48-83f0-4743ed787d56",
   "metadata": {},
   "source": [
    "### 11) sort(): Sorting means putting elements in an ordered sequence."
   ]
  },
  {
   "cell_type": "code",
   "execution_count": 115,
   "id": "ae04be16-bb19-4e86-820a-4e7a50d9dec8",
   "metadata": {},
   "outputs": [
    {
     "name": "stdout",
     "output_type": "stream",
     "text": [
      "[9 7 8 4 6]\n"
     ]
    },
    {
     "data": {
      "text/plain": [
       "array([4, 6, 7, 8, 9], dtype=int32)"
      ]
     },
     "execution_count": 115,
     "metadata": {},
     "output_type": "execute_result"
    }
   ],
   "source": [
    " arr=np.random.randint(1,10,size=5)\n",
    " print(arr)\n",
    " np.sort(arr)\n"
   ]
  },
  {
   "cell_type": "code",
   "execution_count": 119,
   "id": "9c0e380d-5307-438f-b32c-29f1e539f9b0",
   "metadata": {},
   "outputs": [
    {
     "name": "stdout",
     "output_type": "stream",
     "text": [
      "[[8 2]\n",
      " [7 9]\n",
      " [5 4]\n",
      " [4 9]\n",
      " [3 1]]\n"
     ]
    },
    {
     "data": {
      "text/plain": [
       "array([[3, 1],\n",
       "       [4, 2],\n",
       "       [5, 4],\n",
       "       [7, 9],\n",
       "       [8, 9]], dtype=int32)"
      ]
     },
     "execution_count": 119,
     "metadata": {},
     "output_type": "execute_result"
    }
   ],
   "source": [
    "arr=np.random.randint(1,10,size=(5,2))\n",
    "print(arr)\n",
    "np.sort(arr,axis=0)"
   ]
  },
  {
   "cell_type": "code",
   "execution_count": 120,
   "id": "a6538580-2d7d-422d-874c-9f850bfe1dbb",
   "metadata": {},
   "outputs": [
    {
     "name": "stdout",
     "output_type": "stream",
     "text": [
      "[[7 7]\n",
      " [2 2]\n",
      " [9 1]\n",
      " [3 1]\n",
      " [1 4]]\n"
     ]
    },
    {
     "data": {
      "text/plain": [
       "array([[7, 7],\n",
       "       [2, 2],\n",
       "       [1, 9],\n",
       "       [1, 3],\n",
       "       [1, 4]], dtype=int32)"
      ]
     },
     "execution_count": 120,
     "metadata": {},
     "output_type": "execute_result"
    }
   ],
   "source": [
    "arr=np.random.randint(1,10,size=(5,2))\n",
    "print(arr)\n",
    "np.sort(arr,axis=1)"
   ]
  },
  {
   "cell_type": "markdown",
   "id": "7eda4f11-91d7-49d8-bb2c-9dd7ecdb399d",
   "metadata": {},
   "source": [
    "###  12) append()"
   ]
  },
  {
   "cell_type": "code",
   "execution_count": 121,
   "id": "4fa6a26a-634f-400a-bb64-612c3b133f20",
   "metadata": {},
   "outputs": [
    {
     "data": {
      "text/plain": [
       "array([1, 2, 3, 4, 5])"
      ]
     },
     "execution_count": 121,
     "metadata": {},
     "output_type": "execute_result"
    }
   ],
   "source": [
    " arr1=np.array([1,2,3])\n",
    " arr2=np.array([4,5])\n",
    " new_arr=np.append(arr1,arr2,axis=None)\n",
    " new_arr"
   ]
  },
  {
   "cell_type": "code",
   "execution_count": 124,
   "id": "ff89ad14-b890-416b-817d-3183bce893a9",
   "metadata": {},
   "outputs": [
    {
     "ename": "AxisError",
     "evalue": "axis 1 is out of bounds for array of dimension 1",
     "output_type": "error",
     "traceback": [
      "\u001b[1;31m---------------------------------------------------------------------------\u001b[0m",
      "\u001b[1;31mAxisError\u001b[0m                                 Traceback (most recent call last)",
      "Cell \u001b[1;32mIn[124], line 3\u001b[0m\n\u001b[0;32m      1\u001b[0m arr1\u001b[38;5;241m=\u001b[39mnp\u001b[38;5;241m.\u001b[39marray([\u001b[38;5;241m1\u001b[39m,\u001b[38;5;241m2\u001b[39m,\u001b[38;5;241m3\u001b[39m])\n\u001b[0;32m      2\u001b[0m arr2\u001b[38;5;241m=\u001b[39mnp\u001b[38;5;241m.\u001b[39marray([\u001b[38;5;241m4\u001b[39m,\u001b[38;5;241m5\u001b[39m])\n\u001b[1;32m----> 3\u001b[0m new_arr\u001b[38;5;241m=\u001b[39m\u001b[43mnp\u001b[49m\u001b[38;5;241;43m.\u001b[39;49m\u001b[43mappend\u001b[49m\u001b[43m(\u001b[49m\u001b[43marr1\u001b[49m\u001b[43m,\u001b[49m\u001b[43marr2\u001b[49m\u001b[43m,\u001b[49m\u001b[43maxis\u001b[49m\u001b[38;5;241;43m=\u001b[39;49m\u001b[38;5;241;43m1\u001b[39;49m\n\u001b[0;32m      4\u001b[0m \u001b[43m                 \u001b[49m\u001b[43m)\u001b[49m\n\u001b[0;32m      5\u001b[0m new_arr\n",
      "File \u001b[1;32m~\\AppData\\Local\\Programs\\Python\\Python312\\Lib\\site-packages\\numpy\\lib\\_function_base_impl.py:5685\u001b[0m, in \u001b[0;36mappend\u001b[1;34m(arr, values, axis)\u001b[0m\n\u001b[0;32m   5683\u001b[0m     values \u001b[38;5;241m=\u001b[39m ravel(values)\n\u001b[0;32m   5684\u001b[0m     axis \u001b[38;5;241m=\u001b[39m arr\u001b[38;5;241m.\u001b[39mndim\u001b[38;5;241m-\u001b[39m\u001b[38;5;241m1\u001b[39m\n\u001b[1;32m-> 5685\u001b[0m \u001b[38;5;28;01mreturn\u001b[39;00m \u001b[43mconcatenate\u001b[49m\u001b[43m(\u001b[49m\u001b[43m(\u001b[49m\u001b[43marr\u001b[49m\u001b[43m,\u001b[49m\u001b[43m \u001b[49m\u001b[43mvalues\u001b[49m\u001b[43m)\u001b[49m\u001b[43m,\u001b[49m\u001b[43m \u001b[49m\u001b[43maxis\u001b[49m\u001b[38;5;241;43m=\u001b[39;49m\u001b[43maxis\u001b[49m\u001b[43m)\u001b[49m\n",
      "\u001b[1;31mAxisError\u001b[0m: axis 1 is out of bounds for array of dimension 1"
     ]
    }
   ],
   "source": [
    "arr1=np.array([1,2,3])\n",
    "arr2=np.array([4,5])\n",
    "new_arr=np.append(arr1,arr2,axis=1\n",
    "                 )\n",
    "new_arr\n"
   ]
  },
  {
   "cell_type": "markdown",
   "id": "a8c46c1c-1353-41bf-acc8-a1dd7c4e93e8",
   "metadata": {},
   "source": [
    "### 13) ceil(): The ceil() function rounds off decimal to nearest upper integer."
   ]
  },
  {
   "cell_type": "code",
   "execution_count": 125,
   "id": "1df25e9c-8576-4965-bfc9-75040c62e071",
   "metadata": {},
   "outputs": [
    {
     "name": "stdout",
     "output_type": "stream",
     "text": [
      "6.0\n"
     ]
    }
   ],
   "source": [
    "print(np.ceil(5.67))"
   ]
  },
  {
   "cell_type": "code",
   "execution_count": 126,
   "id": "03338f07-8eee-428b-ad37-59d0ec0d64b8",
   "metadata": {},
   "outputs": [
    {
     "name": "stdout",
     "output_type": "stream",
     "text": [
      "6.0\n"
     ]
    }
   ],
   "source": [
    "print(np.ceil(5.3))"
   ]
  },
  {
   "cell_type": "code",
   "execution_count": 127,
   "id": "6b2aeec1-ae83-4107-a70f-73db37bb3e7f",
   "metadata": {},
   "outputs": [
    {
     "data": {
      "text/plain": [
       "array([2, 3, 4, 5, 6])"
      ]
     },
     "execution_count": 127,
     "metadata": {},
     "output_type": "execute_result"
    }
   ],
   "source": [
    " np.array(np.ceil([1.1, 2.3, 3.6, 4.9, 5.99]),int)"
   ]
  },
  {
   "cell_type": "markdown",
   "id": "e59108ce-4ade-4a05-b50c-bb87280ce757",
   "metadata": {},
   "source": [
    "###  14) floor(): The floor() function rounds off decimal to nearest lower integer."
   ]
  },
  {
   "cell_type": "code",
   "execution_count": 128,
   "id": "59380146-9f75-4a3d-8968-0929f5d3c885",
   "metadata": {},
   "outputs": [
    {
     "name": "stdout",
     "output_type": "stream",
     "text": [
      "5.0\n",
      "5.0\n"
     ]
    }
   ],
   "source": [
    " print(np.floor(5.1))\n",
    " print(np.floor(5.9))"
   ]
  },
  {
   "cell_type": "code",
   "execution_count": 129,
   "id": "ab13988a-eafa-4b68-8d9b-19185f0358ea",
   "metadata": {},
   "outputs": [
    {
     "data": {
      "text/plain": [
       "array([1, 2, 3, 4])"
      ]
     },
     "execution_count": 129,
     "metadata": {},
     "output_type": "execute_result"
    }
   ],
   "source": [
    " np.array(np.floor([1,2,3,4]),int)\n"
   ]
  },
  {
   "cell_type": "markdown",
   "id": "c592fff2-3982-44e2-89e8-f7dd866cce8c",
   "metadata": {},
   "source": [
    "###  15) around(): The around() function increments preceding digit or decimal by 1 if >=5 else do nothing"
   ]
  },
  {
   "cell_type": "code",
   "execution_count": 132,
   "id": "a9d95131-aac5-445f-8d72-b205c244be1e",
   "metadata": {},
   "outputs": [
    {
     "name": "stdout",
     "output_type": "stream",
     "text": [
      "2.6\n"
     ]
    }
   ],
   "source": [
    " arr=np.around(2.61110,1)\n",
    "print(arr)"
   ]
  },
  {
   "cell_type": "code",
   "execution_count": 134,
   "id": "3c64b0a6-b0e4-461b-9a54-7409af4a1cd3",
   "metadata": {},
   "outputs": [
    {
     "name": "stdout",
     "output_type": "stream",
     "text": [
      "[2.61 4.57 6.79 8.97]\n"
     ]
    }
   ],
   "source": [
    "arr=np.around(np.array([2.61110,4.56789,6.7890,8.9653]),2)\n",
    "print(arr)"
   ]
  },
  {
   "cell_type": "markdown",
   "id": "9c6a0f35-529c-4809-ac38-5a36e02a3497",
   "metadata": {},
   "source": [
    "###  16) where(): Return elements chosen from x or y depending on condition."
   ]
  },
  {
   "cell_type": "code",
   "execution_count": 136,
   "id": "830032c2-e0b4-4bf3-8994-1f484179ae1f",
   "metadata": {},
   "outputs": [
    {
     "name": "stdout",
     "output_type": "stream",
     "text": [
      "['P' 'y' 't' 'h' 'o' 'n' ' ' 'a' 'n' 'd' ' ' 'D' 'a' 't' 'a' ' ' 'S' 'c'\n",
      " 'i' 'e' 'n' 'c' 'e']\n",
      "(array([ 7, 12, 14]),)\n"
     ]
    }
   ],
   "source": [
    "str1=\"Python and Data Science\"\n",
    "arr=np.array(list(str1))\n",
    "print(arr)\n",
    "where_command=np.where(arr=='a')\n",
    "print(where_command)"
   ]
  },
  {
   "cell_type": "code",
   "execution_count": null,
   "id": "7d54f732-757e-4f28-9b9a-9911a9f4b558",
   "metadata": {},
   "outputs": [],
   "source": []
  }
 ],
 "metadata": {
  "kernelspec": {
   "display_name": "Python 3 (ipykernel)",
   "language": "python",
   "name": "python3"
  },
  "language_info": {
   "codemirror_mode": {
    "name": "ipython",
    "version": 3
   },
   "file_extension": ".py",
   "mimetype": "text/x-python",
   "name": "python",
   "nbconvert_exporter": "python",
   "pygments_lexer": "ipython3",
   "version": "3.12.4"
  }
 },
 "nbformat": 4,
 "nbformat_minor": 5
}
