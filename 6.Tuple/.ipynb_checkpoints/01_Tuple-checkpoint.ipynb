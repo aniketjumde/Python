{
 "cells": [
  {
   "cell_type": "code",
   "execution_count": null,
   "id": "56815a98-0ab1-454b-8069-02d1096ca506",
   "metadata": {},
   "outputs": [],
   "source": [
    "#Tuple is Sequence data type\n",
    "# Homogeneous and Heterogeneous element store\n",
    "#It is immutable data type"
   ]
  },
  {
   "cell_type": "code",
   "execution_count": 1,
   "id": "8f684fab-133b-4d72-9551-14dacd332e4d",
   "metadata": {},
   "outputs": [
    {
     "name": "stdout",
     "output_type": "stream",
     "text": [
      "(11, 22, 33, 44, 55, 66, 77, 88, 99)\n",
      "<class 'tuple'>\n",
      "2827610510768\n",
      "(11, 22, 'A', 'Pradeep', None)\n",
      "<class 'tuple'>\n",
      "2827610525104\n"
     ]
    }
   ],
   "source": [
    "t=(11,22,33,44,55,66,77,88,99)  #Homogeneous\n",
    "print(t)\n",
    "print(type(t))\n",
    "print(id(t))\n",
    "t=(11,22,\"A\",\"Pradeep\",None)  #Heterogeneous\n",
    "print(t)\n",
    "print(type(t))\n",
    "print(id(t))"
   ]
  },
  {
   "cell_type": "code",
   "execution_count": 13,
   "id": "c92deb83-1ae0-4eb5-9702-6dcd1df83cd4",
   "metadata": {},
   "outputs": [
    {
     "name": "stdout",
     "output_type": "stream",
     "text": [
      "(10, 20, 30)\n",
      "<class 'tuple'>\n"
     ]
    }
   ],
   "source": [
    "#Tuples Representation\n",
    "T = (10,20,30)\n",
    "print(T)\n",
    "print(type(T))"
   ]
  },
  {
   "cell_type": "code",
   "execution_count": 11,
   "id": "3183f964-8118-4002-b08e-422d96d55775",
   "metadata": {},
   "outputs": [
    {
     "name": "stdout",
     "output_type": "stream",
     "text": [
      "(10, 20, 30)\n",
      "<class 'tuple'>\n"
     ]
    }
   ],
   "source": [
    "T=10,20,30\n",
    "print(T)\n",
    "print(type(T))"
   ]
  },
  {
   "cell_type": "code",
   "execution_count": 14,
   "id": "9980a0a4-b8a4-48f2-90c4-1b9a1678e838",
   "metadata": {},
   "outputs": [
    {
     "name": "stdout",
     "output_type": "stream",
     "text": [
      "()\n",
      "<class 'tuple'>\n"
     ]
    }
   ],
   "source": [
    "T=()\n",
    "print(T)\n",
    "print(type(T))"
   ]
  },
  {
   "cell_type": "code",
   "execution_count": 15,
   "id": "54eabbd1-fc3c-4dae-943f-d03613eed29f",
   "metadata": {},
   "outputs": [
    {
     "name": "stdout",
     "output_type": "stream",
     "text": [
      "11\n",
      "<class 'int'>\n"
     ]
    }
   ],
   "source": [
    "T=11\n",
    "print(T)\n",
    "print(type(T))"
   ]
  },
  {
   "cell_type": "code",
   "execution_count": 16,
   "id": "80998401-3d84-4ed3-a72a-028f8c55e1d7",
   "metadata": {},
   "outputs": [
    {
     "name": "stdout",
     "output_type": "stream",
     "text": [
      "(11,)\n",
      "<class 'tuple'>\n"
     ]
    }
   ],
   "source": [
    "#Accept one value in tuple\n",
    "T=11,\n",
    "print(T)\n",
    "print(type(T))\n"
   ]
  },
  {
   "cell_type": "code",
   "execution_count": null,
   "id": "0841a198-1d26-4745-948c-7bc17d1171ca",
   "metadata": {},
   "outputs": [],
   "source": [
    " L = [11,22,33]\n",
    " L.reverse()\n",
    " print(L)"
   ]
  },
  {
   "cell_type": "code",
   "execution_count": null,
   "id": "6ae07b16-e9ee-439e-bb19-069df08ff7b7",
   "metadata": {},
   "outputs": [],
   "source": [
    " L = [11,22,33]\n",
    " L.reverse()\n",
    " print(L)"
   ]
  },
  {
   "cell_type": "code",
   "execution_count": 5,
   "id": "b7e8005d-c9a9-4d0f-ab97-75cb8bfd3ae0",
   "metadata": {},
   "outputs": [
    {
     "ename": "AttributeError",
     "evalue": "'tuple' object has no attribute 'reverse'",
     "output_type": "error",
     "traceback": [
      "\u001b[1;31m---------------------------------------------------------------------------\u001b[0m",
      "\u001b[1;31mAttributeError\u001b[0m                            Traceback (most recent call last)",
      "Cell \u001b[1;32mIn[5], line 2\u001b[0m\n\u001b[0;32m      1\u001b[0m T\u001b[38;5;241m=\u001b[39m (\u001b[38;5;241m11\u001b[39m,\u001b[38;5;241m22\u001b[39m,\u001b[38;5;241m33\u001b[39m)\n\u001b[1;32m----> 2\u001b[0m \u001b[43mT\u001b[49m\u001b[38;5;241;43m.\u001b[39;49m\u001b[43mreverse\u001b[49m()\n\u001b[0;32m      3\u001b[0m \u001b[38;5;28mprint\u001b[39m(T)\n",
      "\u001b[1;31mAttributeError\u001b[0m: 'tuple' object has no attribute 'reverse'"
     ]
    }
   ],
   "source": [
    " T= (11,22,33)\n",
    " T.reverse() # can not do this bcz tuple is immtuabl\n",
    " print(T)"
   ]
  },
  {
   "cell_type": "code",
   "execution_count": 2,
   "id": "a19ba5a4-29ec-430b-8952-bde50a128517",
   "metadata": {},
   "outputs": [
    {
     "name": "stdout",
     "output_type": "stream",
     "text": [
      "[11, 33, 55]\n"
     ]
    }
   ],
   "source": [
    " L = [33,55,11]\n",
    " L.sort()\n",
    " print(L)"
   ]
  },
  {
   "cell_type": "code",
   "execution_count": 3,
   "id": "5257a05a-549e-4f40-b3c1-1d52edb1555a",
   "metadata": {},
   "outputs": [
    {
     "ename": "AttributeError",
     "evalue": "'tuple' object has no attribute 'sort'",
     "output_type": "error",
     "traceback": [
      "\u001b[1;31m---------------------------------------------------------------------------\u001b[0m",
      "\u001b[1;31mAttributeError\u001b[0m                            Traceback (most recent call last)",
      "Cell \u001b[1;32mIn[3], line 2\u001b[0m\n\u001b[0;32m      1\u001b[0m T\u001b[38;5;241m=\u001b[39m(\u001b[38;5;241m11\u001b[39m,\u001b[38;5;241m22\u001b[39m,\u001b[38;5;241m33\u001b[39m)\n\u001b[1;32m----> 2\u001b[0m \u001b[43mT\u001b[49m\u001b[38;5;241;43m.\u001b[39;49m\u001b[43msort\u001b[49m()\n\u001b[0;32m      3\u001b[0m \u001b[38;5;28mprint\u001b[39m(T)\n",
      "\u001b[1;31mAttributeError\u001b[0m: 'tuple' object has no attribute 'sort'"
     ]
    }
   ],
   "source": [
    "T=(11,22,33)\n",
    "T.sort()    # can do this bcz tuple is immuable\n",
    "print(T)"
   ]
  },
  {
   "cell_type": "code",
   "execution_count": 7,
   "id": "bec15e9a-99c0-422a-bf56-bcd03e81e91d",
   "metadata": {},
   "outputs": [
    {
     "name": "stdout",
     "output_type": "stream",
     "text": [
      "(11, 44, 33, 22)\n",
      "[11, 22, 33, 44]\n"
     ]
    }
   ],
   "source": [
    "T=(11,44,33,22)\n",
    "a=sorted(T)\n",
    "print(T)\n",
    "print(a)"
   ]
  },
  {
   "cell_type": "code",
   "execution_count": 8,
   "id": "45ede2f0-ecf2-4018-a575-c1a6bcccde03",
   "metadata": {},
   "outputs": [
    {
     "name": "stdout",
     "output_type": "stream",
     "text": [
      "(11, 44, 33, 22)\n",
      "<class 'tuple'>\n",
      "2827616919664\n",
      "[11, 22, 33, 44]\n",
      "<class 'list'>\n",
      "2827610774656\n"
     ]
    }
   ],
   "source": [
    "T=(11,44,33,22)\n",
    "a=sorted(T)\n",
    "print(T)\n",
    "print(type(T))\n",
    "print(id(T))\n",
    "print(a)\n",
    "print(type(a))\n",
    "print(id(a))"
   ]
  },
  {
   "cell_type": "code",
   "execution_count": 10,
   "id": "d2a2c814-691c-416e-a857-46b532b49f12",
   "metadata": {},
   "outputs": [
    {
     "name": "stdout",
     "output_type": "stream",
     "text": [
      "22\n"
     ]
    },
    {
     "ename": "TypeError",
     "evalue": "'tuple' object does not support item assignment",
     "output_type": "error",
     "traceback": [
      "\u001b[1;31m---------------------------------------------------------------------------\u001b[0m",
      "\u001b[1;31mTypeError\u001b[0m                                 Traceback (most recent call last)",
      "Cell \u001b[1;32mIn[10], line 3\u001b[0m\n\u001b[0;32m      1\u001b[0m T \u001b[38;5;241m=\u001b[39m(\u001b[38;5;241m11\u001b[39m,\u001b[38;5;241m22\u001b[39m,\u001b[38;5;241m33\u001b[39m)\n\u001b[0;32m      2\u001b[0m \u001b[38;5;28mprint\u001b[39m(T[\u001b[38;5;241m1\u001b[39m])    \u001b[38;5;66;03m# Tuple is sequence type\u001b[39;00m\n\u001b[1;32m----> 3\u001b[0m \u001b[43mT\u001b[49m\u001b[43m[\u001b[49m\u001b[38;5;241;43m1\u001b[39;49m\u001b[43m]\u001b[49m \u001b[38;5;241m=\u001b[39m \u001b[38;5;241m44\u001b[39m      \u001b[38;5;66;03m# Tuple is immutable\u001b[39;00m\n\u001b[0;32m      4\u001b[0m \u001b[38;5;28mprint\u001b[39m(T)\n",
      "\u001b[1;31mTypeError\u001b[0m: 'tuple' object does not support item assignment"
     ]
    }
   ],
   "source": [
    " T =(11,22,33)\n",
    " print(T[1])    # Tuple is sequence type\n",
    " T[1] = 44      # Tuple is immutable\n",
    " print(T)"
   ]
  },
  {
   "cell_type": "code",
   "execution_count": 1,
   "id": "46a5125c-6335-4026-90aa-09c7637d6625",
   "metadata": {},
   "outputs": [
    {
     "name": "stdout",
     "output_type": "stream",
     "text": [
      "(11, 22, 33, 44, 55, 66)\n",
      "(77, 88, 99, 100)\n",
      "(11, 22, 33, 44, 55, 66, 77, 88, 99, 100)\n"
     ]
    }
   ],
   "source": [
    "#Tuple Concatenation\n",
    "t1=(11,22,33,44,55,66)\n",
    "t2=(77,88,99,100)\n",
    "T=t1+t2\n",
    "print(t1)\n",
    "print(t2)\n",
    "print(T)"
   ]
  },
  {
   "cell_type": "code",
   "execution_count": 5,
   "id": "279d6bd0-263e-44bf-9040-772794be25bb",
   "metadata": {},
   "outputs": [
    {
     "name": "stdout",
     "output_type": "stream",
     "text": [
      "(1, 3, 4, 7)\n",
      "1709094682768\n",
      "(1, 3, 4, 7, 1, 3, 4, 7)\n",
      "1709091251392\n"
     ]
    }
   ],
   "source": [
    "#Tuple Repetation\n",
    "t=(1,3,4,7)\n",
    "print(t)\n",
    "print(id(t))\n",
    "t=t*2\n",
    "print(t)\n",
    "print(id(t))"
   ]
  },
  {
   "cell_type": "code",
   "execution_count": 7,
   "id": "7e7e0c05-1f4a-44a8-8be1-461d847d10e9",
   "metadata": {},
   "outputs": [
    {
     "name": "stdout",
     "output_type": "stream",
     "text": [
      "(11, 22, 33, 44, 55, 66)\n",
      "33\n",
      "55\n",
      "11\n"
     ]
    }
   ],
   "source": [
    "#Element can access using Index\n",
    "T=(11,22,33,44,55,66)\n",
    "print(T)\n",
    "print(T[2])\n",
    "print(T[4])\n",
    "print(T[0])"
   ]
  },
  {
   "cell_type": "code",
   "execution_count": 20,
   "id": "9eced799-0c9f-4369-ac52-a8c89c0f6d3a",
   "metadata": {},
   "outputs": [
    {
     "name": "stdout",
     "output_type": "stream",
     "text": [
      "(11, 22, 33, 44, 55, 66, 77)\n",
      "(11, 22, 33, 44, 55, 66, 77)\n",
      "(11, 22)\n",
      "(77, 66, 55, 44, 33, 22, 11)\n",
      "(44, 55, 66, 77)\n",
      "(11, 33, 55, 77)\n"
     ]
    }
   ],
   "source": [
    "#Slice Operator\n",
    "T=(11,22,33,44,55,66,77)\n",
    "print(T)\n",
    "print(T[0:len(T):1])\n",
    "print(T[0:2:1])\n",
    "print(T[-1::-1])\n",
    "print(T[3:len(T):1])\n",
    "print(T[0::2])"
   ]
  },
  {
   "cell_type": "code",
   "execution_count": 23,
   "id": "f6eebed9-85f3-43d5-96ab-b2e64125faba",
   "metadata": {},
   "outputs": [
    {
     "name": "stdout",
     "output_type": "stream",
     "text": [
      "[11, 22, 33, 44, 55]\n",
      "<class 'list'>\n",
      "\n",
      "(11, 22, 33, 44, 55)\n",
      "<class 'tuple'>\n",
      "\n",
      "{33, 11, 44, 22, 55}\n",
      "<class 'set'>\n",
      "\n"
     ]
    }
   ],
   "source": [
    "#TO Convert Element\n",
    "L=[11,22,33,44,55]\n",
    "print(L)\n",
    "print(type(L))\n",
    "print()\n",
    "\n",
    "T=tuple(L)\n",
    "print(T)\n",
    "print(type(T))\n",
    "print()\n",
    "\n",
    "S=set(T)\n",
    "print(S)\n",
    "print(type(S))\n",
    "print()\n"
   ]
  },
  {
   "cell_type": "code",
   "execution_count": 24,
   "id": "bd82b230-3893-4f78-9bb3-32f45d865a88",
   "metadata": {},
   "outputs": [
    {
     "name": "stdout",
     "output_type": "stream",
     "text": [
      "(1, 2, 46, 78, 3, 13, 46)\n",
      "7\n"
     ]
    }
   ],
   "source": [
    "#Len() Function\n",
    "T=(1,2,46,78,3,13,46)\n",
    "print(T)\n",
    "print(len(T))"
   ]
  },
  {
   "cell_type": "code",
   "execution_count": 25,
   "id": "c40bbad1-f9e7-4781-8fed-d1b682c52ef6",
   "metadata": {},
   "outputs": [
    {
     "name": "stdout",
     "output_type": "stream",
     "text": [
      "(1, 2, 46, 78, 2, 3, 13, 46, 2)\n",
      "3\n"
     ]
    }
   ],
   "source": [
    "#count() Function\n",
    "T=(1,2,46,78,2,3,13,46,2)\n",
    "print(T)\n",
    "print(T.count(2))"
   ]
  },
  {
   "cell_type": "code",
   "execution_count": 26,
   "id": "24a15d03-61f2-42ff-a7ac-8d2b15d30cac",
   "metadata": {},
   "outputs": [
    {
     "name": "stdout",
     "output_type": "stream",
     "text": [
      "(1, 2, 46, 78, 2, 3, 13, 46, 2)\n",
      "3\n"
     ]
    }
   ],
   "source": [
    "#index() Function\n",
    "T=(1,2,46,78,2,3,13,46,2)\n",
    "print(T)\n",
    "print(T.index(78))"
   ]
  },
  {
   "cell_type": "code",
   "execution_count": 29,
   "id": "e5265b25-d00c-417b-abc5-065cd98f5440",
   "metadata": {},
   "outputs": [
    {
     "name": "stdout",
     "output_type": "stream",
     "text": [
      "(1, 2, 46, 78, 2, 3, 13, 46, 2)\n",
      "1\n",
      "78\n"
     ]
    }
   ],
   "source": [
    "#min()  & max() Function\n",
    "T=(1,2,46,78,2,3,13,46,2)\n",
    "print(T)\n",
    "print(min(T))\n",
    "print(max(T))"
   ]
  },
  {
   "cell_type": "code",
   "execution_count": 30,
   "id": "90e1ff08-dbc2-4843-9386-a9b220a6743b",
   "metadata": {},
   "outputs": [
    {
     "name": "stdout",
     "output_type": "stream",
     "text": [
      "(10, 26, 67)\n",
      "<class 'tuple'>\n"
     ]
    }
   ],
   "source": [
    "#Tuple packing\n",
    "a=10\n",
    "b=26\n",
    "c=67\n",
    "\n",
    "T=a,b,c\n",
    "print(T)\n",
    "print(type(T))"
   ]
  },
  {
   "cell_type": "code",
   "execution_count": 34,
   "id": "f8cdc038-3539-4c17-bb0b-5de83cebc226",
   "metadata": {},
   "outputs": [
    {
     "name": "stdout",
     "output_type": "stream",
     "text": [
      "10\n",
      "<class 'int'>\n",
      "20\n",
      "<class 'int'>\n",
      "30\n",
      "<class 'int'>\n"
     ]
    }
   ],
   "source": [
    "# Unpacking\n",
    "T = (10,20,30)\n",
    "a,b,c = T   #Unpacking\n",
    "print(a)\n",
    "print(type(a))\n",
    "print(b)\n",
    "print(type(b))\n",
    "print(c)\n",
    "print(type(c))"
   ]
  },
  {
   "cell_type": "code",
   "execution_count": null,
   "id": "0f5ab433-a912-46ed-b147-27051d20ba3d",
   "metadata": {},
   "outputs": [],
   "source": [
    "#swaaping of two Number\n",
    " a = int(input(\"Enter the First  Number : \"))\n",
    " b = int(input(\"Enter the Second Number :\"))\n",
    " print(f'Before swap F:{a} and S:{b}')\n",
    " t =  a\n",
    " a =  b\n",
    " b =  t \n",
    "print(f'Aftre swap F:{a} and S:{b}')"
   ]
  },
  {
   "cell_type": "code",
   "execution_count": 40,
   "id": "c379eadb-3e9a-4b96-a2b7-e59f88a92066",
   "metadata": {},
   "outputs": [
    {
     "name": "stdin",
     "output_type": "stream",
     "text": [
      "Enter the number : 4\n",
      "Enter the number : 78\n"
     ]
    },
    {
     "name": "stdout",
     "output_type": "stream",
     "text": [
      "Before swapping 4 and 78\n",
      "After swapping 78 and 4\n"
     ]
    }
   ],
   "source": [
    "# Accepting numberv from user and Swap them\n",
    "num1=int(input(\"Enter the number :\"))\n",
    "num2=int(input(\"Enter the number :\"))        \n",
    "\n",
    "print(f\"Before swapping {num1} and {num2}\")\n",
    "num1,num2=num2,num1   #Unpacking\n",
    "\n",
    "print(f\"After swapping {num1} and {num2}\")"
   ]
  },
  {
   "cell_type": "code",
   "execution_count": 41,
   "id": "b5f995fa-fc67-414a-a8eb-3f8dfb214af7",
   "metadata": {},
   "outputs": [
    {
     "name": "stdin",
     "output_type": "stream",
     "text": [
      "Enter the First  Number :  4\n",
      "Enter the Second Number : 5\n"
     ]
    },
    {
     "name": "stdout",
     "output_type": "stream",
     "text": [
      "140733329898008\n",
      "140733329898040\n",
      "Before swap F:4 and S:5\n",
      "Aftre swap F:5 and S:4\n",
      "140733329898040\n",
      "140733329898008\n"
     ]
    }
   ],
   "source": [
    "#swaaping of two Number\n",
    "a = int(input(\"Enter the First  Number : \"))\n",
    "b = int(input(\"Enter the Second Number :\"))\n",
    "print(id(a))\n",
    "print(id(b))\n",
    "print(f'Before swap F:{a} and S:{b}')  # 3 5\n",
    "a,b = b,a\n",
    "print(f'Aftre swap F:{a} and S:{b}')\n",
    "print(id(a))\n",
    "print(id(b))"
   ]
  },
  {
   "cell_type": "code",
   "execution_count": 42,
   "id": "eea2e420-43ec-4bdf-bff8-56c93e43fbcd",
   "metadata": {},
   "outputs": [
    {
     "name": "stdout",
     "output_type": "stream",
     "text": [
      "[0, 1, 4, 9, 16]\n",
      "<class 'list'>\n"
     ]
    }
   ],
   "source": [
    "L = [ data * data for data in range(5)]\n",
    "print(L)\n",
    "print(type(L))"
   ]
  },
  {
   "cell_type": "code",
   "execution_count": 43,
   "id": "bab3c517-40eb-41c6-98ba-39e1edb8b470",
   "metadata": {},
   "outputs": [
    {
     "name": "stdout",
     "output_type": "stream",
     "text": [
      "<generator object <genexpr> at 0x0000018DEE0CCD40>\n",
      "0\n",
      "1\n",
      "4\n",
      "9\n",
      "16\n"
     ]
    }
   ],
   "source": [
    " # Tuple Comprehension is not supported by Python.\n",
    "T = (  data * data for data in range(5)  )  # 0 1 4 9 16\n",
    "print(T)\n",
    "for data in T:\n",
    "  print(data)"
   ]
  },
  {
   "cell_type": "code",
   "execution_count": 44,
   "id": "276141d8-2cbb-4cfe-ac0d-63527824f1a4",
   "metadata": {},
   "outputs": [
    {
     "name": "stdout",
     "output_type": "stream",
     "text": [
      "<generator object <genexpr> at 0x0000018DEE0CD970>\n",
      "(0, 1, 4, 9, 16)\n",
      "[0, 1, 4, 9, 16]\n"
     ]
    }
   ],
   "source": [
    " # Tuple Comprehension is not supported by Python.\n",
    "G = (  data * data for data in range(5)  )  # 0 1 4 9 16\n",
    "print(G)\n",
    "T = tuple(G)\n",
    "print(T)\n",
    "L =list(T)\n",
    "print(L)"
   ]
  },
  {
   "cell_type": "code",
   "execution_count": 45,
   "id": "0b699b8d-b8ae-4866-b6c1-b6577f62d41f",
   "metadata": {},
   "outputs": [
    {
     "name": "stdout",
     "output_type": "stream",
     "text": [
      "range(0, 5)\n",
      "(0, 1, 2, 3, 4)\n"
     ]
    }
   ],
   "source": [
    "r = range(5)\n",
    "print(r)\n",
    "T = tuple(r)\n",
    "print(T)"
   ]
  },
  {
   "cell_type": "code",
   "execution_count": 47,
   "id": "4eb242e2-b77c-409d-bb21-d037ad716b91",
   "metadata": {},
   "outputs": [
    {
     "name": "stdout",
     "output_type": "stream",
     "text": [
      "range(0, 5)\n",
      "[0, 1, 2, 3, 4]\n"
     ]
    }
   ],
   "source": [
    "r = range(5)\n",
    "print(r)\n",
    "L= list(r)\n",
    "print(L)"
   ]
  },
  {
   "cell_type": "code",
   "execution_count": 49,
   "id": "ea8a53d1-83e9-4a91-88d4-edecc212158e",
   "metadata": {},
   "outputs": [
    {
     "name": "stdout",
     "output_type": "stream",
     "text": [
      "range(0, 5)\n",
      "0\n",
      "1\n",
      "2\n",
      "3\n",
      "4\n"
     ]
    }
   ],
   "source": [
    "r = range(5)\n",
    "print(r)\n",
    "for data in r:\n",
    "    print(data)"
   ]
  },
  {
   "cell_type": "code",
   "execution_count": 50,
   "id": "9387720c-dc95-4473-b6d6-eea790767f6a",
   "metadata": {},
   "outputs": [
    {
     "name": "stdout",
     "output_type": "stream",
     "text": [
      "range(0, 5)\n",
      "(0, 1, 2, 3, 4)\n",
      "[0, 1, 2, 3, 4]\n"
     ]
    }
   ],
   "source": [
    "r = range(5)\n",
    "print(r)\n",
    "T = tuple(r)\n",
    "print(T)\n",
    "L = list(r)\n",
    "print(L)"
   ]
  },
  {
   "cell_type": "code",
   "execution_count": 51,
   "id": "8f99f308-cf87-4938-a6dc-e1a91375e487",
   "metadata": {},
   "outputs": [
    {
     "name": "stdout",
     "output_type": "stream",
     "text": [
      "[(101, 'AAA', 60), (102, 'BBB', 70), (103, 'CCC', 80)]\n"
     ]
    }
   ],
   "source": [
    " # zip()\n",
    "rno  = (101,102,103) \n",
    "name = ('AAA','BBB','CCC')\n",
    "per  = (60,70,80)\n",
    "z    = zip(rno,name,per)\n",
    "L    = list(z)\n",
    "print(L)"
   ]
  },
  {
   "cell_type": "code",
   "execution_count": 54,
   "id": "6b7d48b7-9a7f-4b57-b151-615034e6b062",
   "metadata": {},
   "outputs": [
    {
     "name": "stdout",
     "output_type": "stream",
     "text": [
      "Befor : (11, 22, [44, 55])\n",
      "1709095736576\n",
      "After : (11, 22, [44, 88])\n",
      "1709095736576\n"
     ]
    }
   ],
   "source": [
    "#Tuple is immutable but element are not immutable\n",
    "\n",
    "T=(11,22,[44,55])\n",
    "print(\"Befor :\",T)\n",
    "print(id(T))\n",
    "\n",
    "T[2][1]=88\n",
    "print(\"After :\",T)\n",
    "print(id(T))"
   ]
  },
  {
   "cell_type": "code",
   "execution_count": 57,
   "id": "06b8d9bc-3b10-42cc-bcb9-c2044587f1d0",
   "metadata": {},
   "outputs": [
    {
     "name": "stdout",
     "output_type": "stream",
     "text": [
      "False\n",
      "False\n",
      "True\n"
     ]
    }
   ],
   "source": [
    "#Reletional opertator is used in Tuple\n",
    "t1=(11,22,33,44,55,66)\n",
    "t2=(77,88,99)\n",
    "print(t1==t2)\n",
    "print(t1>t2)\n",
    "print(t1<t2)"
   ]
  },
  {
   "cell_type": "code",
   "execution_count": 60,
   "id": "bf4168b7-e526-491b-816f-a76d27b73fde",
   "metadata": {},
   "outputs": [
    {
     "name": "stdout",
     "output_type": "stream",
     "text": [
      "yes\n"
     ]
    }
   ],
   "source": [
    "#Membership operator used in Tuple\n",
    "\n",
    "T=(11,22,33,44,55,66)\n",
    "\n",
    "if 22 in T:\n",
    "    print(\"yes\")\n",
    "else :\n",
    "    print(\"NO\")"
   ]
  },
  {
   "cell_type": "code",
   "execution_count": 61,
   "id": "a8fb02cf-0f25-44a3-b485-78d2c97f6f6f",
   "metadata": {},
   "outputs": [
    {
     "name": "stdout",
     "output_type": "stream",
     "text": [
      "NO\n"
     ]
    }
   ],
   "source": [
    "#Membership operator used in Tuple\n",
    "\n",
    "T=(11,22,33,44,55,66)\n",
    "\n",
    "if 22 not in T:\n",
    "    print(\"yes\")\n",
    "else :\n",
    "    print(\"NO\")"
   ]
  },
  {
   "cell_type": "code",
   "execution_count": 64,
   "id": "ba4a01bf-2606-432a-9176-7355736254df",
   "metadata": {},
   "outputs": [
    {
     "name": "stdout",
     "output_type": "stream",
     "text": [
      "START\n",
      "(10, 20)\n",
      "<class 'tuple'>\n",
      "(11, 22, 33, 44)\n",
      "<class 'tuple'>\n",
      "()\n",
      "<class 'tuple'>\n",
      "END\n"
     ]
    }
   ],
   "source": [
    "# Here in 'a' tuple packing is happening\n",
    "# variable length parameter function means function is ready to accept any number o\n",
    "def display(*a):   # a = 10,20 ... Here in 'a' tuple packing is happening  \n",
    "    print(a)\n",
    "    print(type(a))\n",
    " # main script\n",
    "print(\"START\")\n",
    "display(10,20)\n",
    "display(11,22,33,44)\n",
    "display()   # 'display' callable object\n",
    "print(\"END\")"
   ]
  },
  {
   "cell_type": "code",
   "execution_count": null,
   "id": "801ed966-11e6-425c-a89e-a83361cd5613",
   "metadata": {},
   "outputs": [],
   "source": []
  }
 ],
 "metadata": {
  "kernelspec": {
   "display_name": "Python 3 (ipykernel)",
   "language": "python",
   "name": "python3"
  },
  "language_info": {
   "codemirror_mode": {
    "name": "ipython",
    "version": 3
   },
   "file_extension": ".py",
   "mimetype": "text/x-python",
   "name": "python",
   "nbconvert_exporter": "python",
   "pygments_lexer": "ipython3",
   "version": "3.12.4"
  }
 },
 "nbformat": 4,
 "nbformat_minor": 5
}
