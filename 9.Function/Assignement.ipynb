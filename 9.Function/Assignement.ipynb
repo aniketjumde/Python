{
 "cells": [
  {
   "cell_type": "code",
   "execution_count": 1,
   "id": "ffc43f42-5240-4a58-a8ff-5b89ca162134",
   "metadata": {},
   "outputs": [
    {
     "name": "stdout",
     "output_type": "stream",
     "text": [
      "Good Morning\n"
     ]
    }
   ],
   "source": [
    "#1: Create a function in Python\n",
    "\n",
    "def display(m):\n",
    "    print(m)\n",
    "\n",
    "display(\"Good Morning\")"
   ]
  },
  {
   "cell_type": "code",
   "execution_count": 5,
   "id": "38909099-a3cd-4be0-93c5-2f932135ac65",
   "metadata": {},
   "outputs": [
    {
     "name": "stdout",
     "output_type": "stream",
     "text": [
      "(1, 2, 3, 4, 5, 6, 7, 8)\n"
     ]
    }
   ],
   "source": [
    "# 2: Create a function with variable length of arguments\n",
    "\n",
    "def display(*a):\n",
    "    print(a)\n",
    "\n",
    "display(1,2,3,4,5,6,7,8)"
   ]
  },
  {
   "cell_type": "code",
   "execution_count": 6,
   "id": "763198af-dc16-4bc9-9e29-748b2434fbdd",
   "metadata": {},
   "outputs": [
    {
     "name": "stdout",
     "output_type": "stream",
     "text": [
      "Addition is :  30\n",
      "substraction is : -10\n",
      "Multiplication is : 200\n"
     ]
    }
   ],
   "source": [
    "#  3: Return multiple values from a function\n",
    "\n",
    "def calculate(a,b):\n",
    "    add=a+b\n",
    "    sub=a-b\n",
    "    mul=a*b\n",
    "\n",
    "    return add,sub,mul   #Packing\n",
    "\n",
    "add,sub,mul=calculate(10,20)   #Unpacking\n",
    "print(\"Addition is : \",add)\n",
    "print(\"substraction is :\",sub)\n",
    "print(\"Multiplication is :\",mul)\n"
   ]
  },
  {
   "cell_type": "code",
   "execution_count": 13,
   "id": "5d2a8071-7c6e-453f-be39-15ed4636f604",
   "metadata": {},
   "outputs": [
    {
     "name": "stdout",
     "output_type": "stream",
     "text": [
      "Hello Well come\n",
      "ANIKET Well come\n",
      "hi Good night\n"
     ]
    }
   ],
   "source": [
    "# 4: Create a function with a default argument\n",
    "\n",
    "def arg(a=\"Hello\",b=\"Well come\"):\n",
    "        print(a,b)\n",
    "arg()\n",
    "arg(\"ANIKET\")\n",
    "arg(\"hi\",\"Good night\")"
   ]
  },
  {
   "cell_type": "code",
   "execution_count": 15,
   "id": "bf528816-2aa2-4816-aa10-dc76d4c21185",
   "metadata": {},
   "outputs": [
    {
     "name": "stdout",
     "output_type": "stream",
     "text": [
      "Sum is : 60\n"
     ]
    }
   ],
   "source": [
    "# Create an inner function to calculate the addition in the following way\n",
    "\n",
    "def outerfunction(a,b):\n",
    "    def inner_function():\n",
    "        return a+b\n",
    "    return inner_function()\n",
    "\n",
    "ans=outerfunction(15,45)\n",
    "print(\"Sum is :\",ans)"
   ]
  },
  {
   "cell_type": "code",
   "execution_count": 19,
   "id": "b8c203da-9f1a-4407-b87b-49fe967f82f7",
   "metadata": {},
   "outputs": [
    {
     "name": "stdin",
     "output_type": "stream",
     "text": [
      "Enter the number : 5\n"
     ]
    },
    {
     "name": "stdout",
     "output_type": "stream",
     "text": [
      "factorial of  5  : 120\n"
     ]
    }
   ],
   "source": [
    "# Create a recursive function\n",
    "def fact(n):\n",
    "        if n==0 or n==1:\n",
    "            return 1\n",
    "        else:\n",
    "            return n*fact(n-1)\n",
    "n=int(input(\"Enter the number :\"))\n",
    "ans=fact(n)\n",
    "print(\"factorial of \",n,\" :\",ans)\n"
   ]
  },
  {
   "cell_type": "code",
   "execution_count": 21,
   "id": "17ab6cf3-9b0c-49f9-91fa-5ac69828a2a1",
   "metadata": {},
   "outputs": [
    {
     "name": "stdout",
     "output_type": "stream",
     "text": [
      "This is the original function...!\n",
      "This is the original function...!\n"
     ]
    }
   ],
   "source": [
    "#  Assign a different name to function and call it through the new name\n",
    "\n",
    "def orignal_function():\n",
    "    print(\"This is the original function...!\")\n",
    "\n",
    "new_fun_name=orignal_function\n",
    "\n",
    "new_fun_name()\n",
    "\n",
    "orignal_function()"
   ]
  },
  {
   "cell_type": "code",
   "execution_count": null,
   "id": "167f63a7-89be-4f2b-b590-44fd2f01920f",
   "metadata": {},
   "outputs": [],
   "source": []
  }
 ],
 "metadata": {
  "kernelspec": {
   "display_name": "Python 3 (ipykernel)",
   "language": "python",
   "name": "python3"
  },
  "language_info": {
   "codemirror_mode": {
    "name": "ipython",
    "version": 3
   },
   "file_extension": ".py",
   "mimetype": "text/x-python",
   "name": "python",
   "nbconvert_exporter": "python",
   "pygments_lexer": "ipython3",
   "version": "3.12.4"
  }
 },
 "nbformat": 4,
 "nbformat_minor": 5
}
