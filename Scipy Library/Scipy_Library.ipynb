{
 "cells": [
  {
   "cell_type": "code",
   "execution_count": 1,
   "id": "1f5780f7-0baa-423e-ad41-de3b9a9f2828",
   "metadata": {},
   "outputs": [],
   "source": [
    "import scipy\n",
    "import pandas as pd\n",
    "import numpy as np"
   ]
  },
  {
   "cell_type": "markdown",
   "id": "51daf63d-40ab-432e-a3d6-c095045e45ba",
   "metadata": {},
   "source": [
    "###  1)Scipy Constants:\n"
   ]
  },
  {
   "cell_type": "code",
   "execution_count": 4,
   "id": "045edb2d-2eaa-4e37-be65-c43cb74da96a",
   "metadata": {},
   "outputs": [
    {
     "name": "stdout",
     "output_type": "stream",
     "text": [
      "Scipy Functions  3.141592653589793\n"
     ]
    }
   ],
   "source": [
    "from scipy.constants import pi\n",
    "print(\"Scipy Functions \",scipy.constants.pi)"
   ]
  },
  {
   "cell_type": "code",
   "execution_count": 8,
   "id": "4c75e724-82b0-4c2b-9e46-e2c2368d7013",
   "metadata": {},
   "outputs": [
    {
     "name": "stdout",
     "output_type": "stream",
     "text": [
      "Scipy Functions  9.80665\n"
     ]
    }
   ],
   "source": [
    "from scipy.constants import kgf\n",
    "print(\"Scipy Functions \",scipy.constants.kgf)"
   ]
  },
  {
   "cell_type": "code",
   "execution_count": 12,
   "id": "c9bf3430-ab7f-415c-bdf0-64610643fec5",
   "metadata": {},
   "outputs": [
    {
     "name": "stdout",
     "output_type": "stream",
     "text": [
      "['Avogadro', 'Boltzmann', 'Btu', 'Btu_IT', 'Btu_th', 'ConstantWarning', 'G', 'Julian_year', 'N_A', 'Planck', 'R', 'Rydberg', 'Stefan_Boltzmann', 'Wien', '__all__', '__builtins__', '__cached__', '__doc__', '__file__', '__loader__', '__name__', '__package__', '__path__', '__spec__', '_codata', '_constants', '_obsolete_constants', 'acre', 'alpha', 'angstrom', 'arcmin', 'arcminute', 'arcsec', 'arcsecond', 'astronomical_unit', 'atm', 'atmosphere', 'atomic_mass', 'atto', 'au', 'bar', 'barrel', 'bbl', 'blob', 'c', 'calorie', 'calorie_IT', 'calorie_th', 'carat', 'centi', 'codata', 'constants', 'convert_temperature', 'day', 'deci', 'degree', 'degree_Fahrenheit', 'deka', 'dyn', 'dyne', 'e', 'eV', 'electron_mass', 'electron_volt', 'elementary_charge', 'epsilon_0', 'erg', 'exa', 'exbi', 'femto', 'fermi', 'find', 'fine_structure', 'fluid_ounce', 'fluid_ounce_US', 'fluid_ounce_imp', 'foot', 'g', 'gallon', 'gallon_US', 'gallon_imp', 'gas_constant', 'gibi', 'giga', 'golden', 'golden_ratio', 'grain', 'gram', 'gravitational_constant', 'h', 'hbar', 'hectare', 'hecto', 'horsepower', 'hour', 'hp', 'inch', 'k', 'kgf', 'kibi', 'kilo', 'kilogram_force', 'kmh', 'knot', 'lambda2nu', 'lb', 'lbf', 'light_year', 'liter', 'litre', 'long_ton', 'm_e', 'm_n', 'm_p', 'm_u', 'mach', 'mebi', 'mega', 'metric_ton', 'micro', 'micron', 'mil', 'mile', 'milli', 'minute', 'mmHg', 'mph', 'mu_0', 'nano', 'nautical_mile', 'neutron_mass', 'nu2lambda', 'ounce', 'oz', 'parsec', 'pebi', 'peta', 'physical_constants', 'pi', 'pico', 'point', 'pound', 'pound_force', 'precision', 'proton_mass', 'psi', 'pt', 'quecto', 'quetta', 'ronna', 'ronto', 'short_ton', 'sigma', 'slinch', 'slug', 'speed_of_light', 'speed_of_sound', 'stone', 'survey_foot', 'survey_mile', 'tebi', 'tera', 'test', 'ton_TNT', 'torr', 'troy_ounce', 'troy_pound', 'u', 'unit', 'value', 'week', 'yard', 'year', 'yobi', 'yocto', 'yotta', 'zebi', 'zepto', 'zero_Celsius', 'zetta']\n"
     ]
    }
   ],
   "source": [
    "from scipy import constants\n",
    "print(dir(constants))"
   ]
  },
  {
   "cell_type": "code",
   "execution_count": 14,
   "id": "b0aacbe8-68c0-4f35-89ff-c02c04628c36",
   "metadata": {},
   "outputs": [
    {
     "name": "stdout",
     "output_type": "stream",
     "text": [
      "1000.0\n"
     ]
    }
   ],
   "source": [
    "from scipy import constants\n",
    "print(constants.kilo)"
   ]
  },
  {
   "cell_type": "code",
   "execution_count": 16,
   "id": "d9fd1f98-108a-4091-8443-786ec451f10c",
   "metadata": {},
   "outputs": [
    {
     "name": "stdout",
     "output_type": "stream",
     "text": [
      "1024\n"
     ]
    }
   ],
   "source": [
    "from scipy import constants\n",
    "print(constants.kibi)"
   ]
  },
  {
   "cell_type": "code",
   "execution_count": 18,
   "id": "ccc34d01-6027-4b2b-9527-202e72247ffa",
   "metadata": {},
   "outputs": [
    {
     "name": "stdout",
     "output_type": "stream",
     "text": [
      "0.001\n"
     ]
    }
   ],
   "source": [
    "from scipy import constants\n",
    "print(constants.gram)"
   ]
  },
  {
   "cell_type": "code",
   "execution_count": 20,
   "id": "b12b4e43-03d3-4718-afac-9bd785be3610",
   "metadata": {},
   "outputs": [
    {
     "name": "stdout",
     "output_type": "stream",
     "text": [
      "0.017453292519943295\n"
     ]
    }
   ],
   "source": [
    "from scipy import constants\n",
    "print(constants.degree)"
   ]
  },
  {
   "cell_type": "code",
   "execution_count": 26,
   "id": "441e098f-fd86-4b0d-86cd-3c74ccb851f7",
   "metadata": {},
   "outputs": [
    {
     "name": "stdout",
     "output_type": "stream",
     "text": [
      "60.0\n"
     ]
    }
   ],
   "source": [
    "from scipy import constants\n",
    "print(constants.minute)"
   ]
  },
  {
   "cell_type": "code",
   "execution_count": 28,
   "id": "07360f31-e158-45b4-b871-03471facc983",
   "metadata": {},
   "outputs": [
    {
     "name": "stdout",
     "output_type": "stream",
     "text": [
      "3600.0\n"
     ]
    }
   ],
   "source": [
    "from scipy import constants\n",
    "print(constants.hour)"
   ]
  },
  {
   "cell_type": "markdown",
   "id": "7f8e93e3-2df1-4b3e-881c-c1d8765d1df2",
   "metadata": {},
   "source": [
    "### 1️⃣ Finding the Square Root using scipy.sqrt\n"
   ]
  },
  {
   "cell_type": "code",
   "execution_count": 77,
   "id": "44394204-d68e-4061-adf9-46ea4dc9f6f0",
   "metadata": {},
   "outputs": [
    {
     "name": "stdout",
     "output_type": "stream",
     "text": [
      "4.0\n"
     ]
    }
   ],
   "source": [
    "import numpy as np\n",
    "print(np.sqrt(16))  # Output: 4.0\n"
   ]
  },
  {
   "cell_type": "code",
   "execution_count": 62,
   "id": "2e472537-6b01-4b8e-bab9-30b30f7d014a",
   "metadata": {},
   "outputs": [
    {
     "name": "stdout",
     "output_type": "stream",
     "text": [
      "[10.-0.j -2.+2.j -2.-0.j -2.-2.j]\n"
     ]
    }
   ],
   "source": [
    "from scipy.fft import fft\n",
    "x=np.array([1,2,3,4])\n",
    "X=fft(x)\n",
    "print(X)"
   ]
  },
  {
   "cell_type": "markdown",
   "id": "a8fd2ddb-0e6f-4ba4-a91b-f499193fd529",
   "metadata": {},
   "source": [
    "### 5️⃣ Interpolation using scipy.interpolate\n"
   ]
  },
  {
   "cell_type": "code",
   "execution_count": 75,
   "id": "fc6dfdf9-ead6-44dd-9023-dd755387c253",
   "metadata": {},
   "outputs": [
    {
     "name": "stdout",
     "output_type": "stream",
     "text": [
      "3.0\n"
     ]
    }
   ],
   "source": [
    "from scipy.interpolate import interp1d\n",
    "\n",
    "x=np.array([0,1,2,3])\n",
    "y=np.array([0,2,4,6,])\n",
    "\n",
    "f=interp1d(x,y)\n",
    "print(f(1.5))"
   ]
  },
  {
   "cell_type": "markdown",
   "id": "de33ac51-1bd3-4ba0-bbd2-fb2ffe9da6f8",
   "metadata": {},
   "source": [
    "### Optimizers in SciPy\n"
   ]
  },
  {
   "cell_type": "code",
   "execution_count": 80,
   "id": "1006e363-df1c-4438-a4b7-122eba67ac80",
   "metadata": {},
   "outputs": [
    {
     "name": "stdout",
     "output_type": "stream",
     "text": [
      "  message: Optimization terminated successfully.\n",
      "  success: True\n",
      "   status: 0\n",
      "      fun: 1.75\n",
      "        x: [-5.000e-01]\n",
      "      nit: 2\n",
      "      jac: [ 0.000e+00]\n",
      " hess_inv: [[ 5.000e-01]]\n",
      "     nfev: 8\n",
      "     njev: 4\n"
     ]
    }
   ],
   "source": [
    "from scipy.optimize import minimize\n",
    "\n",
    "def eqn(x):\n",
    "    return x**2+x+2\n",
    "\n",
    "mymin=minimize(eqn,0)\n",
    "\n",
    "print(mymin)"
   ]
  },
  {
   "cell_type": "markdown",
   "id": "4ec05369-250e-49f7-ae67-de7b06ec9de9",
   "metadata": {},
   "source": [
    "###  4) Discrete Cosine Transform:\n"
   ]
  },
  {
   "cell_type": "code",
   "execution_count": 83,
   "id": "3c51e525-0386-4654-8edb-377a9b6e40d7",
   "metadata": {},
   "outputs": [
    {
     "name": "stdout",
     "output_type": "stream",
     "text": [
      "[ 3.00000000e+01 -9.95959314e+00  1.11022302e-16 -8.98055953e-01\n",
      "  8.88178420e-16]\n"
     ]
    }
   ],
   "source": [
    "from scipy.fftpack import dct\n",
    "print(dct(np.array([1,2,3,4,5])))"
   ]
  },
  {
   "cell_type": "code",
   "execution_count": null,
   "id": "ced1a7af-31ac-4ce7-ab15-a4f7558c0f6c",
   "metadata": {},
   "outputs": [],
   "source": []
  },
  {
   "cell_type": "code",
   "execution_count": null,
   "id": "24b706bd-927a-42b7-9593-71a6bd322e14",
   "metadata": {},
   "outputs": [],
   "source": []
  }
 ],
 "metadata": {
  "kernelspec": {
   "display_name": "Python [conda env:anaconda3]",
   "language": "python",
   "name": "conda-env-anaconda3-py"
  },
  "language_info": {
   "codemirror_mode": {
    "name": "ipython",
    "version": 3
   },
   "file_extension": ".py",
   "mimetype": "text/x-python",
   "name": "python",
   "nbconvert_exporter": "python",
   "pygments_lexer": "ipython3",
   "version": "3.12.7"
  }
 },
 "nbformat": 4,
 "nbformat_minor": 5
}
