{
 "cells": [
  {
   "cell_type": "code",
   "execution_count": null,
   "id": "b4005494-a9f6-4aad-95f2-fa32f4d992ed",
   "metadata": {},
   "outputs": [],
   "source": [
    "#List is a sequence data Type\n",
    "#List can hold Homogeneous as well as heterogeneous element\n",
    "#Lec27\n",
    "#List is follw Insrertion Order"
   ]
  },
  {
   "cell_type": "code",
   "execution_count": 2,
   "id": "4252b928-c1d5-4d4c-ae8e-c87bbdbd60d9",
   "metadata": {},
   "outputs": [
    {
     "name": "stdout",
     "output_type": "stream",
     "text": [
      "4\n",
      "AAA\n",
      "BBB\n",
      "CCC\n",
      "DDD\n"
     ]
    }
   ],
   "source": [
    "L=[\"AAA\",\"BBB\",\"CCC\",\"DDD\"]\n",
    "print(len(L))\n",
    "print(L[0])\n",
    "print(L[1])\n",
    "print(L[2])\n",
    "print(L[3])\n",
    "print(L[-1])\n",
    "print(L[-2])\n",
    "print(L[-3])\n",
    "\n",
    "\n"
   ]
  },
  {
   "cell_type": "code",
   "execution_count": null,
   "id": "599a9eaa-8fb9-4836-bc59-667c0bf70604",
   "metadata": {},
   "outputs": [],
   "source": [
    "print(len(\"TCA\")"
   ]
  },
  {
   "cell_type": "code",
   "execution_count": 7,
   "id": "0d383034-d1fa-4678-ad84-208c7a453f0c",
   "metadata": {},
   "outputs": [
    {
     "name": "stdin",
     "output_type": "stream",
     "text": [
      "Enter the number : 1\n"
     ]
    },
    {
     "name": "stdout",
     "output_type": "stream",
     "text": [
      "1\n",
      "<class 'int'>\n"
     ]
    }
   ],
   "source": [
    "#Accept list from user\n",
    "#eval()\n",
    "#String is not accepted another type cann accept\n",
    "L=eval(input(\"Enter the number :\"))\n",
    "print(L)\n",
    "print(type(L))"
   ]
  },
  {
   "cell_type": "code",
   "execution_count": 13,
   "id": "3d6becde-e2a3-4596-9fdf-4ca954a60f3f",
   "metadata": {},
   "outputs": [
    {
     "name": "stdout",
     "output_type": "stream",
     "text": [
      "['AAA', 'BBB', 'CCC', 'DDD']\n",
      "AAA\n",
      "BBB\n",
      "CCC\n",
      "DDD\n",
      "\n",
      "AAA\n",
      "BBB\n",
      "CCC\n",
      "DDD\n",
      "\n",
      "AAA\n",
      "BBB\n",
      "CCC\n",
      "DDD\n"
     ]
    }
   ],
   "source": [
    "#To retrive element in list use both loop\n",
    "L=['AAA','BBB','CCC','DDD']\n",
    "print(L)\n",
    "\n",
    "for i in range(0,len(L)):\n",
    "    print(L[i])\n",
    "print()\n",
    "\n",
    "for i in L:\n",
    "    print(i)\n",
    "print()\n",
    "\n",
    "i=0\n",
    "while i<len(L):\n",
    "    print(L[i])\n",
    "    i=i+1"
   ]
  },
  {
   "cell_type": "code",
   "execution_count": 18,
   "id": "f75ada61-f374-42cd-9af6-3587d3e6d844",
   "metadata": {},
   "outputs": [
    {
     "name": "stdout",
     "output_type": "stream",
     "text": [
      "['A', 'B', 'C', 'D']\n",
      "[1, 2, 3, 4, 5, 6]\n",
      "[1.2, 2.3, 4.5, 5.5, 8.9]\n",
      "[1.2, 'A', 'C', 3, 'ANIKET']\n"
     ]
    }
   ],
   "source": [
    "#List can hold Homogeneous as well as heterogeneous element\n",
    "l1=[\"A\",\"B\",\"C\",\"D\"]\n",
    "l2=[1,2,3,4,5,6]\n",
    "l3=[1.2,2.3,4.5,5.5,8.9]\n",
    "l4=[1.2,'A','C',3,\"ANIKET\"]\n",
    "print(l1)\n",
    "print(l2)\n",
    "print(l3)\n",
    "print(l4)"
   ]
  },
  {
   "cell_type": "code",
   "execution_count": 20,
   "id": "87f2ea9b-c83c-4941-ac48-dd67ff9672b6",
   "metadata": {},
   "outputs": [
    {
     "name": "stdout",
     "output_type": "stream",
     "text": [
      "['AA', 'BB', 'CC', 'D']\n",
      "['AA', 'BB', 'CC', 'D']\n",
      "2261434362048\n",
      "2261434362048\n"
     ]
    }
   ],
   "source": [
    "#ASSIGNEMENT with an List (=)\n",
    "L1=[\"AA\",\"BB\",\"CC\",\"D\"]\n",
    "L2=L1\n",
    "print(L1)\n",
    "print(L2)\n",
    "print(id(L1))\n",
    "print(id(L2)) # Another memorey is not allocated reference will change L1 to L2"
   ]
  },
  {
   "cell_type": "code",
   "execution_count": 32,
   "id": "423fc06c-5173-4e63-bf0f-ed32a24317c0",
   "metadata": {},
   "outputs": [
    {
     "name": "stdout",
     "output_type": "stream",
     "text": [
      "Before Sorting :  ['Aniket', 'Pradeep', 'Abhishek', 'Suyash', 'Vedatnt', 'Onkar']\n",
      "Ascending Sorting :  ['Abhishek', 'Aniket', 'Onkar', 'Pradeep', 'Suyash', 'Vedatnt']\n",
      "Ascending Sorting :  ['Abhishek', 'Aniket', 'Onkar', 'Pradeep', 'Suyash', 'Vedatnt']\n",
      "descending Sorting :  ['Vedatnt', 'Suyash', 'Pradeep', 'Onkar', 'Aniket', 'Abhishek']\n",
      "Assending Sort based on length : ['Onkar', 'Suyash', 'Aniket', 'Vedatnt', 'Pradeep', 'Abhishek']\n",
      "desending Sort based on length : ['Abhishek', 'Vedatnt', 'Pradeep', 'Suyash', 'Aniket', 'Onkar']\n"
     ]
    }
   ],
   "source": [
    "#Sort()\n",
    "L=[\"Aniket\",\"Pradeep\",\"Abhishek\",\"Suyash\",\"Vedatnt\",\"Onkar\"]\n",
    "print(\"Before Sorting : \",L)\n",
    "L.sort()\n",
    "print(\"Ascending Sorting : \", L) #By default assending sorting\n",
    "L.sort(reverse=False)\n",
    "print(\"Ascending Sorting : \", L) #Assending sort\n",
    "L.sort(reverse=True)\n",
    "print(\"descending Sorting : \", L)#Desending\n",
    "L.sort(key=len)\n",
    "print(\"Assending Sort based on length :\",L)\n",
    "L.sort(key=len,reverse=True)\n",
    "print(\"desending Sort based on length :\",L)\n",
    "\n",
    "\n",
    "\n"
   ]
  },
  {
   "cell_type": "code",
   "execution_count": 33,
   "id": "b8283de0-7d9c-4405-a151-53b0fb92cb9c",
   "metadata": {},
   "outputs": [
    {
     "name": "stdout",
     "output_type": "stream",
     "text": [
      "['AAA', 'BBB', 'CCC', 'AAA', 'BBB', 'DDD']\n"
     ]
    }
   ],
   "source": [
    "#List all Duplicate Element\n",
    "L=[\"AAA\",\"BBB\",\"CCC\",\"AAA\",\"BBB\",\"DDD\"]\n",
    "print(L)"
   ]
  },
  {
   "cell_type": "code",
   "execution_count": 34,
   "id": "30e3627c-7112-4087-bc45-14dc554aa022",
   "metadata": {},
   "outputs": [
    {
     "name": "stdout",
     "output_type": "stream",
     "text": [
      "[11, 22, 33]\n",
      "[11, 22, 33, 44]\n"
     ]
    }
   ],
   "source": [
    "#List FOllow insertion order\n",
    "L=[11,22,33 ]\n",
    "print(L)\n",
    "L.append(44)\n",
    "print(L)"
   ]
  },
  {
   "cell_type": "code",
   "execution_count": 35,
   "id": "3f594503-8237-4ee0-a306-4d621d1c5285",
   "metadata": {},
   "outputs": [
    {
     "ename": "TypeError",
     "evalue": "'str' object does not support item assignment",
     "output_type": "error",
     "traceback": [
      "\u001b[1;31m---------------------------------------------------------------------------\u001b[0m",
      "\u001b[1;31mTypeError\u001b[0m                                 Traceback (most recent call last)",
      "Cell \u001b[1;32mIn[35], line 3\u001b[0m\n\u001b[0;32m      1\u001b[0m \u001b[38;5;66;03m#String are Imutable\u001b[39;00m\n\u001b[0;32m      2\u001b[0m s\u001b[38;5;241m=\u001b[39m\u001b[38;5;124m\"\u001b[39m\u001b[38;5;124mTCA\u001b[39m\u001b[38;5;124m\"\u001b[39m\n\u001b[1;32m----> 3\u001b[0m \u001b[43ms\u001b[49m\u001b[43m[\u001b[49m\u001b[38;5;241;43m0\u001b[39;49m\u001b[43m]\u001b[49m\u001b[38;5;241m=\u001b[39m\u001b[38;5;124m\"\u001b[39m\u001b[38;5;124mZ\u001b[39m\u001b[38;5;124m\"\u001b[39m\n\u001b[0;32m      4\u001b[0m \u001b[38;5;28mprint\u001b[39m(s) \u001b[38;5;66;03m# You can not modify string because string are Imutable\u001b[39;00m\n",
      "\u001b[1;31mTypeError\u001b[0m: 'str' object does not support item assignment"
     ]
    }
   ],
   "source": [
    "#String are Imutable\n",
    "s=\"TCA\"\n",
    "s[0]=\"Z\"\n",
    "print(s) # You can not modify string because string are Imutable"
   ]
  },
  {
   "cell_type": "code",
   "execution_count": 37,
   "id": "f60cec4c-78b8-4f77-a4e8-bf2ddf7514b7",
   "metadata": {},
   "outputs": [
    {
     "name": "stdout",
     "output_type": "stream",
     "text": [
      "[11, 22, 33, 44]\n",
      "[55, 22, 33, 44]\n"
     ]
    }
   ],
   "source": [
    "#List are Mutable\n",
    "#List allows to modify because of Mutable\n",
    "L=[11,22,33,44]\n",
    "print(L)\n",
    "L[0]=55\n",
    "print(L)"
   ]
  },
  {
   "cell_type": "code",
   "execution_count": 38,
   "id": "3cf8c16b-96b1-43d9-8fe0-f95cf5beb6de",
   "metadata": {},
   "outputs": [
    {
     "name": "stdout",
     "output_type": "stream",
     "text": [
      "(11, 22, 33, 44)\n"
     ]
    },
    {
     "ename": "TypeError",
     "evalue": "'tuple' object does not support item assignment",
     "output_type": "error",
     "traceback": [
      "\u001b[1;31m---------------------------------------------------------------------------\u001b[0m",
      "\u001b[1;31mTypeError\u001b[0m                                 Traceback (most recent call last)",
      "Cell \u001b[1;32mIn[38], line 4\u001b[0m\n\u001b[0;32m      2\u001b[0m T\u001b[38;5;241m=\u001b[39m(\u001b[38;5;241m11\u001b[39m,\u001b[38;5;241m22\u001b[39m,\u001b[38;5;241m33\u001b[39m,\u001b[38;5;241m44\u001b[39m)\n\u001b[0;32m      3\u001b[0m \u001b[38;5;28mprint\u001b[39m(T)\n\u001b[1;32m----> 4\u001b[0m \u001b[43mT\u001b[49m\u001b[43m[\u001b[49m\u001b[38;5;241;43m0\u001b[39;49m\u001b[43m]\u001b[49m\u001b[38;5;241m=\u001b[39m\u001b[38;5;241m55\u001b[39m\n\u001b[0;32m      5\u001b[0m \u001b[38;5;28mprint\u001b[39m(T)\n",
      "\u001b[1;31mTypeError\u001b[0m: 'tuple' object does not support item assignment"
     ]
    }
   ],
   "source": [
    "#Tuples are Imutable\n",
    "T=(11,22,33,44)\n",
    "print(T)\n",
    "T[0]=55\n",
    "print(T)"
   ]
  },
  {
   "cell_type": "code",
   "execution_count": 41,
   "id": "dfa6db82-16a9-40ba-bced-c857c640f1b8",
   "metadata": {},
   "outputs": [
    {
     "name": "stdout",
     "output_type": "stream",
     "text": [
      "2261434736576 ----- [11, 22, 33, 44]\n",
      "2261434736576 ----- [11, 22, 44]\n",
      "44\n"
     ]
    }
   ],
   "source": [
    "#del \n",
    "#It wii used to delete specific element\n",
    "L=[11,22,33,44]\n",
    "print(id(L),\"-----\",L)\n",
    "del L[2]\n",
    "print(id(L),\"-----\",L)\n",
    "print(L[2])"
   ]
  },
  {
   "cell_type": "code",
   "execution_count": null,
   "id": "4c391a6a-07a0-414a-bb90-fbd2cf8d13a6",
   "metadata": {},
   "outputs": [],
   "source": []
  }
 ],
 "metadata": {
  "kernelspec": {
   "display_name": "Python 3 (ipykernel)",
   "language": "python",
   "name": "python3"
  },
  "language_info": {
   "codemirror_mode": {
    "name": "ipython",
    "version": 3
   },
   "file_extension": ".py",
   "mimetype": "text/x-python",
   "name": "python",
   "nbconvert_exporter": "python",
   "pygments_lexer": "ipython3",
   "version": "3.12.4"
  }
 },
 "nbformat": 4,
 "nbformat_minor": 5
}
