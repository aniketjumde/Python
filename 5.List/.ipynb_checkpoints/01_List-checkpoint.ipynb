{
 "cells": [
  {
   "cell_type": "code",
   "execution_count": null,
   "id": "b4005494-a9f6-4aad-95f2-fa32f4d992ed",
   "metadata": {},
   "outputs": [],
   "source": [
    "#List is a sequence data Type\n",
    "#List can hold Homogeneous as well as heterogeneous element"
   ]
  },
  {
   "cell_type": "code",
   "execution_count": 2,
   "id": "4252b928-c1d5-4d4c-ae8e-c87bbdbd60d9",
   "metadata": {},
   "outputs": [
    {
     "name": "stdout",
     "output_type": "stream",
     "text": [
      "4\n",
      "AAA\n",
      "BBB\n",
      "CCC\n",
      "DDD\n"
     ]
    }
   ],
   "source": [
    "L=[\"AAA\",\"BBB\",\"CCC\",\"DDD\"]\n",
    "print(len(L))\n",
    "print(L[0])\n",
    "print(L[1])\n",
    "print(L[2])\n",
    "print(L[3])\n",
    "print(L[-1])\n",
    "print(L[-2])\n",
    "print(L[-3])\n",
    "\n",
    "\n"
   ]
  },
  {
   "cell_type": "code",
   "execution_count": null,
   "id": "599a9eaa-8fb9-4836-bc59-667c0bf70604",
   "metadata": {},
   "outputs": [],
   "source": [
    "print(len(\"TCA\")"
   ]
  },
  {
   "cell_type": "code",
   "execution_count": 7,
   "id": "0d383034-d1fa-4678-ad84-208c7a453f0c",
   "metadata": {},
   "outputs": [
    {
     "name": "stdin",
     "output_type": "stream",
     "text": [
      "Enter the number : 1\n"
     ]
    },
    {
     "name": "stdout",
     "output_type": "stream",
     "text": [
      "1\n",
      "<class 'int'>\n"
     ]
    }
   ],
   "source": [
    "#Accept list from user\n",
    "#eval()\n",
    "#String is not accepted another type cann accept\n",
    "L=eval(input(\"Enter the number :\"))\n",
    "print(L)\n",
    "print(type(L))"
   ]
  },
  {
   "cell_type": "code",
   "execution_count": 13,
   "id": "3d6becde-e2a3-4596-9fdf-4ca954a60f3f",
   "metadata": {},
   "outputs": [
    {
     "name": "stdout",
     "output_type": "stream",
     "text": [
      "['AAA', 'BBB', 'CCC', 'DDD']\n",
      "AAA\n",
      "BBB\n",
      "CCC\n",
      "DDD\n",
      "\n",
      "AAA\n",
      "BBB\n",
      "CCC\n",
      "DDD\n",
      "\n",
      "AAA\n",
      "BBB\n",
      "CCC\n",
      "DDD\n"
     ]
    }
   ],
   "source": [
    "#To retrive element in list use both loop\n",
    "L=['AAA','BBB','CCC','DDD']\n",
    "print(L)\n",
    "\n",
    "for i in range(0,len(L)):\n",
    "    print(L[i])\n",
    "print()\n",
    "\n",
    "for i in L:\n",
    "    print(i)\n",
    "print()\n",
    "\n",
    "i=0\n",
    "while i<len(L):\n",
    "    print(L[i])\n",
    "    i=i+1"
   ]
  },
  {
   "cell_type": "code",
   "execution_count": 18,
   "id": "f75ada61-f374-42cd-9af6-3587d3e6d844",
   "metadata": {},
   "outputs": [
    {
     "name": "stdout",
     "output_type": "stream",
     "text": [
      "['A', 'B', 'C', 'D']\n",
      "[1, 2, 3, 4, 5, 6]\n",
      "[1.2, 2.3, 4.5, 5.5, 8.9]\n",
      "[1.2, 'A', 'C', 3, 'ANIKET']\n"
     ]
    }
   ],
   "source": [
    "#List can hold Homogeneous as well as heterogeneous element\n",
    "l1=[\"A\",\"B\",\"C\",\"D\"]\n",
    "l2=[1,2,3,4,5,6]\n",
    "l3=[1.2,2.3,4.5,5.5,8.9]\n",
    "l4=[1.2,'A','C',3,\"ANIKET\"]\n",
    "print(l1)\n",
    "print(l2)\n",
    "print(l3)\n",
    "print(l4)"
   ]
  },
  {
   "cell_type": "code",
   "execution_count": 20,
   "id": "87f2ea9b-c83c-4941-ac48-dd67ff9672b6",
   "metadata": {},
   "outputs": [
    {
     "name": "stdout",
     "output_type": "stream",
     "text": [
      "['AA', 'BB', 'CC', 'D']\n",
      "['AA', 'BB', 'CC', 'D']\n",
      "2261434362048\n",
      "2261434362048\n"
     ]
    }
   ],
   "source": [
    "#ASSIGNEMENT with an List (=)\n",
    "L1=[\"AA\",\"BB\",\"CC\",\"D\"]\n",
    "L2=L1\n",
    "print(L1)\n",
    "print(L2)\n",
    "print(id(L1))\n",
    "print(id(L2)) # Another memorey is not allocated reference will change L1 to L2"
   ]
  },
  {
   "cell_type": "code",
   "execution_count": null,
   "id": "423fc06c-5173-4e63-bf0f-ed32a24317c0",
   "metadata": {},
   "outputs": [],
   "source": []
  }
 ],
 "metadata": {
  "kernelspec": {
   "display_name": "Python 3 (ipykernel)",
   "language": "python",
   "name": "python3"
  },
  "language_info": {
   "codemirror_mode": {
    "name": "ipython",
    "version": 3
   },
   "file_extension": ".py",
   "mimetype": "text/x-python",
   "name": "python",
   "nbconvert_exporter": "python",
   "pygments_lexer": "ipython3",
   "version": "3.12.4"
  }
 },
 "nbformat": 4,
 "nbformat_minor": 5
}
