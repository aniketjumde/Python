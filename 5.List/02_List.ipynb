{
 "cells": [
  {
   "cell_type": "code",
   "execution_count": 1,
   "id": "b4005494-a9f6-4aad-95f2-fa32f4d992ed",
   "metadata": {},
   "outputs": [
    {
     "name": "stdin",
     "output_type": "stream",
     "text": [
      "Enter the List : [4,18,78,5]\n"
     ]
    },
    {
     "name": "stdout",
     "output_type": "stream",
     "text": [
      "Maximum number  of  List : 78\n"
     ]
    }
   ],
   "source": [
    "#Write a program to find maximum number of List\n",
    "L=eval(input(\"Enter the List :\"))\n",
    "if len(L)==0:\n",
    "    print(\"List is Empty\")\n",
    "    exit()\n",
    "    \n",
    "m=L[0]\n",
    "for i in L:\n",
    "        if i > m:\n",
    "            m=i\n",
    "print(\"Maximum number  of  List :\",m)"
   ]
  },
  {
   "cell_type": "code",
   "execution_count": 4,
   "id": "5c378094-cb47-46c6-8a15-40264336cd35",
   "metadata": {},
   "outputs": [
    {
     "name": "stdin",
     "output_type": "stream",
     "text": [
      "Enter the List :  [4,5,8,4]\n"
     ]
    },
    {
     "name": "stdout",
     "output_type": "stream",
     "text": [
      "21\n"
     ]
    }
   ],
   "source": [
    " # Accept the list of Numbers & prints it sum\n",
    "L=eval(input(\"Enter the List : \"))\n",
    "\n",
    "sum=0\n",
    "for data in L:\n",
    "    sum +=data\n",
    "print(sum)"
   ]
  },
  {
   "cell_type": "code",
   "execution_count": null,
   "id": "7959230d-a9fd-4e18-9897-bd33406ef2e0",
   "metadata": {},
   "outputs": [],
   "source": [
    " # Slice Operaton on List --> It creates NEW List which is a sublist from Existing L\n",
    " # [start:end:step]"
   ]
  },
  {
   "cell_type": "code",
   "execution_count": 8,
   "id": "a16a8c1f-0a19-4b3e-9ed9-a80d36e61a30",
   "metadata": {},
   "outputs": [
    {
     "name": "stdout",
     "output_type": "stream",
     "text": [
      "['AAA', 'BBB', 'CCC', 'DDD', 'EEE', 'FFF', 'GGG']\n"
     ]
    }
   ],
   "source": [
    "L=['AAA','BBB','CCC','DDD','EEE','FFF','GGG']\n",
    "print(L[0:len(L):1])"
   ]
  },
  {
   "cell_type": "code",
   "execution_count": 9,
   "id": "2d4b55ab-76a7-4aa4-b5e8-412955024bd1",
   "metadata": {},
   "outputs": [
    {
     "name": "stdout",
     "output_type": "stream",
     "text": [
      "['GGG', 'FFF', 'EEE', 'DDD', 'CCC', 'BBB', 'AAA']\n"
     ]
    }
   ],
   "source": [
    "L=['AAA','BBB','CCC','DDD','EEE','FFF','GGG']\n",
    "print(L[-1:-(len(L)+1):-1])"
   ]
  },
  {
   "cell_type": "code",
   "execution_count": null,
   "id": "cc3fa135-432a-4440-873a-3f3a5ca77185",
   "metadata": {},
   "outputs": [],
   "source": [
    "L=['AAA','BBB','CCC','DDD','EEE','FFF','GGG']\n",
    "print(L[0::])"
   ]
  },
  {
   "cell_type": "code",
   "execution_count": 10,
   "id": "3f8c1742-cf0e-4e9a-b6ab-c403a1ec50e0",
   "metadata": {},
   "outputs": [
    {
     "name": "stdout",
     "output_type": "stream",
     "text": [
      "['GGG', 'FFF', 'EEE', 'DDD', 'CCC', 'BBB', 'AAA']\n"
     ]
    }
   ],
   "source": [
    "L=['AAA','BBB','CCC','DDD','EEE','FFF','GGG']\n",
    "print(L[-1::-1])"
   ]
  },
  {
   "cell_type": "code",
   "execution_count": 12,
   "id": "e2ab8716-bc92-4015-824c-fa75da61a4c1",
   "metadata": {},
   "outputs": [
    {
     "name": "stdout",
     "output_type": "stream",
     "text": [
      "['BBB', 'DDD', 'FFF']\n"
     ]
    }
   ],
   "source": [
    "#Print odd index List\n",
    "L=['AAA','BBB','CCC','DDD','EEE','FFF','GGG']\n",
    "print(L[1::2])"
   ]
  },
  {
   "cell_type": "code",
   "execution_count": 13,
   "id": "f3cb08df-7b8f-4209-96c1-3715f7509006",
   "metadata": {},
   "outputs": [
    {
     "name": "stdout",
     "output_type": "stream",
     "text": [
      "['AAA', 'CCC', 'EEE', 'GGG']\n"
     ]
    }
   ],
   "source": [
    "#Print even index List\n",
    "L=['AAA','BBB','CCC','DDD','EEE','FFF','GGG']\n",
    "print(L[0::2])"
   ]
  },
  {
   "cell_type": "code",
   "execution_count": 14,
   "id": "79102998-921d-4e83-8083-42cb99436fb9",
   "metadata": {},
   "outputs": [
    {
     "name": "stdout",
     "output_type": "stream",
     "text": [
      "[11, 2.3, 9.3, 'AAA', None, 9.8, 1, 8]\n",
      "Length of List :  8\n"
     ]
    }
   ],
   "source": [
    "#len()\n",
    "L=[11,2.3,9.3,\"AAA\",None,9.8,1,8]\n",
    "print(L)\n",
    "print(\"Length of List : \",len(L))"
   ]
  },
  {
   "cell_type": "code",
   "execution_count": null,
   "id": "40aa7d82-0482-4900-9315-de8c307c0444",
   "metadata": {},
   "outputs": [],
   "source": [
    "# '+' Concaneate Operator\n",
    "# Combine to string using concanete opertator"
   ]
  },
  {
   "cell_type": "code",
   "execution_count": 15,
   "id": "1954cdf1-15ae-4b83-a843-7d668f9ae1cd",
   "metadata": {},
   "outputs": [
    {
     "name": "stdout",
     "output_type": "stream",
     "text": [
      "[11, 22, 33, 44, 55]\n",
      "[66, 77, 88, 99]\n",
      "[11, 22, 33, 44, 55, 66, 77, 88, 99]\n"
     ]
    }
   ],
   "source": [
    "lst1=[11,22,33,44,55]\n",
    "lst2=[66,77,88,99]\n",
    "lst3=lst1+lst2\n",
    "print(lst1)\n",
    "print(lst2)\n",
    "print(lst3)"
   ]
  },
  {
   "cell_type": "code",
   "execution_count": 17,
   "id": "83047ff8-0368-4aec-a60b-ba50fba9bec2",
   "metadata": {},
   "outputs": [
    {
     "name": "stdout",
     "output_type": "stream",
     "text": [
      "[11, 22, 33, 44, 55]\n",
      "[11, 22, 33, 44, 55, 11, 22, 33, 44, 55, 11, 22, 33, 44, 55, 11, 22, 33, 44, 55, 11, 22, 33, 44, 55]\n",
      "[11, 22, 33, 44, 55, 11, 22, 33, 44, 55, 11, 22, 33, 44, 55]\n"
     ]
    }
   ],
   "source": [
    "# '*' Repet opertaor \n",
    "lst1=[11,22,33,44,55]\n",
    "print(lst1)\n",
    "print(lst1*5)\n",
    "print(lst1 * 3)"
   ]
  },
  {
   "cell_type": "code",
   "execution_count": null,
   "id": "e28c338a-4c4e-45c5-b191-f459baf977f1",
   "metadata": {},
   "outputs": [],
   "source": [
    "# insert() \n",
    "#This function is used to insert element at specific location"
   ]
  },
  {
   "cell_type": "code",
   "execution_count": 20,
   "id": "b34f4b95-8ee3-48ab-bac2-279dc90f5177",
   "metadata": {},
   "outputs": [
    {
     "name": "stdout",
     "output_type": "stream",
     "text": [
      "1459321996032\n",
      "[11, 22, 33, 44, 44]\n",
      "1459321996032\n"
     ]
    }
   ],
   "source": [
    "L=[11,22,33,44]\n",
    "print(id(L))\n",
    "L.insert(3,44)\n",
    "print(L)\n",
    "print(id(L))"
   ]
  },
  {
   "cell_type": "code",
   "execution_count": 21,
   "id": "93bb66ab-55ff-44eb-a695-78fdb1cda365",
   "metadata": {},
   "outputs": [
    {
     "name": "stdout",
     "output_type": "stream",
     "text": [
      "1\n"
     ]
    }
   ],
   "source": [
    "#index()\n",
    "# this  function is give to the indext of the element\n",
    "\n",
    "L=[11,22,33,44]\n",
    "print(L.index(22))"
   ]
  },
  {
   "cell_type": "code",
   "execution_count": 25,
   "id": "1dcb9ecc-cd83-488e-9c47-13c1986f8d79",
   "metadata": {},
   "outputs": [
    {
     "name": "stdout",
     "output_type": "stream",
     "text": [
      "[11, 33, 44]\n"
     ]
    }
   ],
   "source": [
    "#remove()\n",
    "# It is used to remove element in the list\n",
    "#  remove function Its  only one element is remove\n",
    "\n",
    "L=[11,22,33,44]\n",
    "L.remove(22)\n",
    "print(L)"
   ]
  },
  {
   "cell_type": "code",
   "execution_count": 2,
   "id": "dccf1905-7d66-4775-a35a-88371e265f08",
   "metadata": {},
   "outputs": [
    {
     "name": "stdout",
     "output_type": "stream",
     "text": [
      "['AAA', 'BBB', 'CCC', 'BBB', 'DDD', 'FFF', 'BBB', 'BBB']\n",
      "['AAA', 'CCC', 'DDD', 'FFF']\n"
     ]
    }
   ],
   "source": [
    "L=['AAA','BBB','CCC','BBB','DDD','FFF','BBB','BBB']\n",
    "print(L)\n",
    "cnt=L.count(\"BBB\")\n",
    "while cnt!=0:\n",
    "    L.remove(\"BBB\")\n",
    "    cnt=cnt-1\n",
    "print(L)"
   ]
  },
  {
   "cell_type": "code",
   "execution_count": 3,
   "id": "c1c0bf45-7a24-4477-9c2d-cffd1583e268",
   "metadata": {},
   "outputs": [
    {
     "name": "stdout",
     "output_type": "stream",
     "text": [
      "['AAA', 'BBB', 'CCC', 'BBB', 'DDD', 'FFF', 'BBB', 'BBB']\n",
      "['AAA', 'CCC', 'DDD', 'FFF']\n"
     ]
    }
   ],
   "source": [
    "L=['AAA','BBB','CCC','BBB','DDD','FFF','BBB','BBB']\n",
    "print(L)\n",
    "while \"BBB\" in L:\n",
    "    L.remove(\"BBB\")\n",
    "print(L)"
   ]
  },
  {
   "cell_type": "code",
   "execution_count": 7,
   "id": "f6050643-a531-4526-8eef-1784db2fbd3f",
   "metadata": {},
   "outputs": [
    {
     "name": "stdout",
     "output_type": "stream",
     "text": [
      "[11, 22, 33]\n",
      "1297374630144\n",
      "[0, 0, 0]\n",
      "1297374630144\n"
     ]
    }
   ],
   "source": [
    "# del All element in list insert 0\n",
    "\n",
    "L=[11,22,33]\n",
    "print(L)\n",
    "print(id(L))\n",
    "for i in range(0,len(L)):\n",
    "        del L[i]\n",
    "        L.insert(i,0)\n",
    "print(L)\n",
    "print(id(L))"
   ]
  },
  {
   "cell_type": "code",
   "execution_count": null,
   "id": "a6b6769c-99e5-492f-9337-a62d0136c788",
   "metadata": {},
   "outputs": [],
   "source": [
    "#Membership Operator \n",
    "# in , not in"
   ]
  },
  {
   "cell_type": "code",
   "execution_count": 10,
   "id": "93d9f99d-c26f-4951-b68d-c9f7b4b2bcd4",
   "metadata": {},
   "outputs": [
    {
     "name": "stdout",
     "output_type": "stream",
     "text": [
      "yes\n"
     ]
    }
   ],
   "source": [
    "L=[11,22,33,44,55,66,77]\n",
    "\n",
    "if 33 in L:\n",
    "    print(\"yes\")\n",
    "else :\n",
    "    print(\"NO\")"
   ]
  },
  {
   "cell_type": "code",
   "execution_count": 11,
   "id": "c7636d56-09a3-4963-9974-545530f2e93a",
   "metadata": {},
   "outputs": [
    {
     "name": "stdout",
     "output_type": "stream",
     "text": [
      "NO\n"
     ]
    }
   ],
   "source": [
    "L=[11,22,33,44,55,66,77]\n",
    "\n",
    "if 13 in L:\n",
    "    print(\"yes\")\n",
    "else :\n",
    "    print(\"NO\")"
   ]
  },
  {
   "cell_type": "code",
   "execution_count": 12,
   "id": "1b3f766f-bcf2-4efc-924e-15e8b5d27a6d",
   "metadata": {},
   "outputs": [
    {
     "name": "stdout",
     "output_type": "stream",
     "text": [
      "NO\n"
     ]
    }
   ],
   "source": [
    "L=[11,22,33,44,55,66,77]\n",
    "\n",
    "if 33 not in L:\n",
    "    print(\"yes\")\n",
    "else :\n",
    "    print(\"NO\")"
   ]
  },
  {
   "cell_type": "code",
   "execution_count": 13,
   "id": "acfd5725-1a9c-4354-b506-03a26c2ffae0",
   "metadata": {},
   "outputs": [
    {
     "name": "stdout",
     "output_type": "stream",
     "text": [
      "yes\n"
     ]
    }
   ],
   "source": [
    "L=[11,22,33,44,55,66,77]\n",
    "\n",
    "if 13 not in L:\n",
    "    print(\"yes\")\n",
    "else :\n",
    "    print(\"NO\")"
   ]
  },
  {
   "cell_type": "code",
   "execution_count": 16,
   "id": "3a8d318b-7ab1-4a51-b7ce-c788c2f9aace",
   "metadata": {},
   "outputs": [
    {
     "name": "stdout",
     "output_type": "stream",
     "text": [
      "[11, 22, 33, 44, 55, 66]\n",
      "[]\n"
     ]
    }
   ],
   "source": [
    "#clear()\n",
    "#It is used to remove all element in the List\n",
    "L=[11,22,33,44,55,66]\n",
    "print(L)\n",
    "L.clear()\n",
    "print(L)"
   ]
  },
  {
   "cell_type": "code",
   "execution_count": 17,
   "id": "098f4cbb-c1fb-4ef0-97b3-6b31287f31ec",
   "metadata": {},
   "outputs": [
    {
     "name": "stdout",
     "output_type": "stream",
     "text": [
      "[11, 22, 33, 44, 55, 66]\n",
      "[11, 22, 33, 44, 55]\n"
     ]
    }
   ],
   "source": [
    "#Pop()\n",
    "#It is used to remove last one element in the List\n",
    "#NOTE : If you pop an empty function you will get an INDEX ERROR\n",
    "\n",
    "L=[11,22,33,44,55,66]\n",
    "print(L)\n",
    "L.pop()\n",
    "print(L)"
   ]
  },
  {
   "cell_type": "code",
   "execution_count": 18,
   "id": "5ab9602f-5d90-423a-a202-d28bbdc3ac24",
   "metadata": {},
   "outputs": [
    {
     "name": "stdout",
     "output_type": "stream",
     "text": [
      "[11, 22, 33, 44, 55, 66, 77]\n",
      "[77, 66, 55, 44, 33, 22, 11]\n"
     ]
    }
   ],
   "source": [
    "#reverse()\n",
    "# Its Arrange element in the List in reverse Order\n",
    "L=[11,22,33,44,55,66,77]\n",
    "print(L)\n",
    "L.reverse()\n",
    "print(L)\n"
   ]
  },
  {
   "cell_type": "code",
   "execution_count": null,
   "id": "3fe6bc12-32bf-4bec-b2e4-51dbf1c0e290",
   "metadata": {},
   "outputs": [],
   "source": []
  }
 ],
 "metadata": {
  "kernelspec": {
   "display_name": "Python 3 (ipykernel)",
   "language": "python",
   "name": "python3"
  },
  "language_info": {
   "codemirror_mode": {
    "name": "ipython",
    "version": 3
   },
   "file_extension": ".py",
   "mimetype": "text/x-python",
   "name": "python",
   "nbconvert_exporter": "python",
   "pygments_lexer": "ipython3",
   "version": "3.12.4"
  }
 },
 "nbformat": 4,
 "nbformat_minor": 5
}
