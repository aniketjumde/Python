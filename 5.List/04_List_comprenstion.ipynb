{
 "cells": [
  {
   "cell_type": "code",
   "execution_count": null,
   "id": "661675ee-f0d0-40f6-89da-da86b718dded",
   "metadata": {},
   "outputs": [],
   "source": [
    "# List Comprehension"
   ]
  },
  {
   "cell_type": "code",
   "execution_count": null,
   "id": "6cb139c0-319a-4e6c-8bdf-1da5e0d3e108",
   "metadata": {},
   "outputs": [],
   "source": [
    " # L = [ by writring some logic mainly uses 'for' loop, someties 'if' jar mala data "
   ]
  },
  {
   "cell_type": "code",
   "execution_count": 2,
   "id": "827e03bd-7836-4470-b4d4-0825b94510a7",
   "metadata": {},
   "outputs": [
    {
     "name": "stdout",
     "output_type": "stream",
     "text": [
      "10\n",
      "20\n",
      "30\n",
      "\n",
      "11\n",
      "22\n",
      "33\n",
      "\n",
      "T\n",
      "C\n",
      "A\n"
     ]
    }
   ],
   "source": [
    "# What is Iterable\n",
    " # List, tuple, string etc\n",
    "L = [10,20,30]\n",
    "for data in L:\n",
    "    print(data)\n",
    "print()\n",
    "\n",
    "T=(11,22,33)\n",
    "for data in T:\n",
    "    print(data)\n",
    "print()\n",
    "\n",
    "for data in \"TCA\":\n",
    "    print(data)"
   ]
  },
  {
   "cell_type": "code",
   "execution_count": null,
   "id": "c5e66c2e-280d-4e81-86fc-d81aa8e62894",
   "metadata": {},
   "outputs": [],
   "source": [
    " # Given me a list which has 0 ,1 ,2 ,3, 4 ,5\n",
    " L = [0,1,2,3,4,5]\n",
    " print(L)"
   ]
  },
  {
   "cell_type": "code",
   "execution_count": null,
   "id": "b3837c7f-c526-4494-9d09-aee25638cc33",
   "metadata": {},
   "outputs": [],
   "source": [
    " # Normal Approach to get L = [0,1,2,3,4,5]\n",
    " L = []\n",
    " for i in range(5):  # 0 1 2 3 4\n",
    "    L.append(i)\n",
    " print(L)"
   ]
  },
  {
   "cell_type": "code",
   "execution_count": 8,
   "id": "758bb3b8-57b3-4c02-912d-5ea9d44773ff",
   "metadata": {},
   "outputs": [
    {
     "name": "stdout",
     "output_type": "stream",
     "text": [
      "[0, 1, 2, 3, 4, 5]\n"
     ]
    }
   ],
   "source": [
    " # List Comprehension Approach to get L = [0,1,2,3,4,5]\n",
    "L=[data for data in range(6)]\n",
    "print(L)"
   ]
  },
  {
   "cell_type": "code",
   "execution_count": 10,
   "id": "14d87076-d4da-4c7c-ab7d-11b958ec2681",
   "metadata": {},
   "outputs": [
    {
     "name": "stdout",
     "output_type": "stream",
     "text": [
      "[0, 1, 4, 9, 16, 25]\n"
     ]
    }
   ],
   "source": [
    "# List Comprehension Approach to get L = [0,1,4,9,16,25]\n",
    "L=[i*i for i in range(6)]\n",
    "print(L)"
   ]
  },
  {
   "cell_type": "code",
   "execution_count": 11,
   "id": "045a8587-85a4-42ad-a97e-f471ef92bd35",
   "metadata": {},
   "outputs": [
    {
     "name": "stdout",
     "output_type": "stream",
     "text": [
      "['TCA', 'TCA', 'TCA', 'TCA', 'TCA', 'TCA']\n"
     ]
    }
   ],
   "source": [
    "# To print \"TCA\" in list % ways [TCA,TCA,TCA,TCA,TCA]\n",
    "L=[\"TCA\" for data in range(6) ]\n",
    "print(L)\n"
   ]
  },
  {
   "cell_type": "code",
   "execution_count": null,
   "id": "3038de49-9e05-475c-b21f-e5fad74d2886",
   "metadata": {},
   "outputs": [],
   "source": []
  }
 ],
 "metadata": {
  "kernelspec": {
   "display_name": "Python 3 (ipykernel)",
   "language": "python",
   "name": "python3"
  },
  "language_info": {
   "codemirror_mode": {
    "name": "ipython",
    "version": 3
   },
   "file_extension": ".py",
   "mimetype": "text/x-python",
   "name": "python",
   "nbconvert_exporter": "python",
   "pygments_lexer": "ipython3",
   "version": "3.12.4"
  }
 },
 "nbformat": 4,
 "nbformat_minor": 5
}
