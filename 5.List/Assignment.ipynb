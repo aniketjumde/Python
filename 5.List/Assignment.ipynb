{
 "cells": [
  {
   "cell_type": "code",
   "execution_count": null,
   "id": "7c9b967a-931c-4a22-9ff7-54245e5449f6",
   "metadata": {},
   "outputs": [],
   "source": [
    "A. myList = [10, 40, 50, 20, 30, 10, 40, 10] \n",
    "B. yourList = ['saw', 'small', 'foxes', 'he', 'six'] "
   ]
  },
  {
   "cell_type": "code",
   "execution_count": 2,
   "id": "f9d54a80-b9ab-4101-9e88-b4fe332d8808",
   "metadata": {},
   "outputs": [
    {
     "name": "stdout",
     "output_type": "stream",
     "text": [
      "[10, 40, 50, 20, 30, 10, 40, 10, 60]\n"
     ]
    }
   ],
   "source": [
    "# 1. Append integer 60 into myList. \n",
    "myList = [10, 40, 50, 20, 30, 10, 40, 10] \n",
    "myList.append(60)\n",
    "print(myList)"
   ]
  },
  {
   "cell_type": "code",
   "execution_count": 5,
   "id": "520fbfe4-8762-416c-b492-4be16a1d9406",
   "metadata": {},
   "outputs": [
    {
     "name": "stdout",
     "output_type": "stream",
     "text": [
      "[10, 40, 70, 50, 20, 30, 10, 40, 10]\n"
     ]
    }
   ],
   "source": [
    "#2. Insert 70 at the 2nd position.\n",
    "myList = [10, 40, 50, 20, 30, 10, 40, 10] \n",
    "myList.insert(2,70)\n",
    "print(myList)"
   ]
  },
  {
   "cell_type": "code",
   "execution_count": 7,
   "id": "af579650-7863-460d-acd1-eecaa00b2237",
   "metadata": {},
   "outputs": [
    {
     "name": "stdout",
     "output_type": "stream",
     "text": [
      "Asending order :  [10, 10, 10, 20, 30, 40, 40, 50]\n",
      "desending order :  [50, 40, 40, 30, 20, 10, 10, 10]\n"
     ]
    }
   ],
   "source": [
    "#3. Sort myList in ascending and descending order. \n",
    "myList = [10, 40, 50, 20, 30, 10, 40, 10] \n",
    "myList.sort()\n",
    "print(\"Asending order : \",myList)\n",
    "myList.sort(reverse=True)\n",
    "print(\"desending order : \",myList)"
   ]
  },
  {
   "cell_type": "code",
   "execution_count": 8,
   "id": "4d8b3e30-beb7-4927-b386-8b2e6873dd13",
   "metadata": {},
   "outputs": [
    {
     "name": "stdout",
     "output_type": "stream",
     "text": [
      "Asending order :  ['he', 'saw', 'six', 'small', 'foxes']\n",
      "desending order :  ['small', 'foxes', 'saw', 'six', 'he']\n"
     ]
    }
   ],
   "source": [
    "#4.Sort yourList in ascending and descending order according to the length of strings.\n",
    "yourList = ['saw', 'small', 'foxes', 'he', 'six'] \n",
    "yourList.sort(key=len)\n",
    "print(\"Asending order : \",yourList)\n",
    "yourList.sort(key=len,reverse=True)\n",
    "print(\"desending order : \",yourList)"
   ]
  },
  {
   "cell_type": "code",
   "execution_count": 12,
   "id": "6a16f58d-f2fc-43bc-8d9f-b671640a9f61",
   "metadata": {},
   "outputs": [
    {
     "name": "stdout",
     "output_type": "stream",
     "text": [
      "['saw', 'small', 'foxes', 'he', 'six', 34]\n"
     ]
    }
   ],
   "source": [
    "# 5. Add float value 3.5 into yourList. \n",
    "yourList = ['saw', 'small', 'foxes', 'he', 'six']  \n",
    "yourList +=[34]\n",
    "print(yourList)"
   ]
  },
  {
   "cell_type": "code",
   "execution_count": 17,
   "id": "ded767d1-44d6-4874-b274-f43a988f8432",
   "metadata": {},
   "outputs": [
    {
     "name": "stdout",
     "output_type": "stream",
     "text": [
      "[1, 2, 4, 5]\n"
     ]
    }
   ],
   "source": [
    "# 6.Use POP and remove methods to remove 3.5.\n",
    "numbers = [1, 2, 3.5, 4, 5]\n",
    "numbers.pop(2)\n",
    "print(numbers)"
   ]
  },
  {
   "cell_type": "code",
   "execution_count": 18,
   "id": "6948fb40-4deb-4f7a-990c-bda301afd01a",
   "metadata": {},
   "outputs": [
    {
     "name": "stdout",
     "output_type": "stream",
     "text": [
      "[1, 2, 4, 5]\n"
     ]
    }
   ],
   "source": [
    "numbers = [1, 2, 3.5, 4, 5]\n",
    "numbers.remove(3.5)\n",
    "print(numbers)"
   ]
  },
  {
   "cell_type": "code",
   "execution_count": 20,
   "id": "1e559cad-d7a2-4197-9367-1505d2b1b278",
   "metadata": {},
   "outputs": [
    {
     "name": "stdout",
     "output_type": "stream",
     "text": [
      "[10, 40, 50, 20, 30, 10, 40, 10, 'saw', 'small', 'foxes', 'he', 'six']\n"
     ]
    }
   ],
   "source": [
    "#7. Create ourList by merging myList and yourList.\n",
    "\n",
    "myList = [10, 40, 50, 20, 30, 10, 40, 10] \n",
    "yourList = ['saw', 'small', 'foxes', 'he', 'six'] \n",
    "ourList = myList + yourList\n",
    "print(ourList)"
   ]
  },
  {
   "cell_type": "code",
   "execution_count": 24,
   "id": "2b938c54-c9ee-4367-99af-4767bbc373e5",
   "metadata": {},
   "outputs": [
    {
     "name": "stdout",
     "output_type": "stream",
     "text": [
      "Sum is : 210\n"
     ]
    },
    {
     "data": {
      "text/plain": [
       "210"
      ]
     },
     "execution_count": 24,
     "metadata": {},
     "output_type": "execute_result"
    }
   ],
   "source": [
    "# 8. Find the sum of elements in myList.\n",
    "myList = [10, 40, 50, 20, 30, 10, 40, 10] \n",
    "\n",
    "ans=0\n",
    "for i in myList:\n",
    "    ans=ans+i\n",
    "print(\"Sum is :\",ans)\n"
   ]
  },
  {
   "cell_type": "code",
   "execution_count": 25,
   "id": "a9a1f2c9-24a0-4635-a50d-aadf1571e628",
   "metadata": {},
   "outputs": [
    {
     "data": {
      "text/plain": [
       "50"
      ]
     },
     "execution_count": 25,
     "metadata": {},
     "output_type": "execute_result"
    }
   ],
   "source": [
    "#9. Find the smallest, largest, and second largest number in myList.\n",
    "\n",
    "myList = [10, 40, 50, 20, 30, 10, 40, 10] \n",
    "\n",
    "max(myList)"
   ]
  },
  {
   "cell_type": "code",
   "execution_count": null,
   "id": "8c998ba1-aca1-4122-9a3e-d865f1746d2c",
   "metadata": {},
   "outputs": [],
   "source": [
    "#10. Count occurrences of all elements in a list. \n",
    "myList = [10, 40, 50, 20, 30, 10, 40, 10] \n",
    "\n",
    "# Create a list to store counted elements\n",
    "counted = []\n",
    "\n",
    "for item in myList:\n",
    "    if item not in counted:\n",
    "        # Count occurrences of the item\n",
    "        count = myList.count(item)\n",
    "        print(f\"{item} occurs {count} times\")\n",
    "        # Add the item to the counted list to avoid recounting\n",
    "        counted.append(item)\n"
   ]
  },
  {
   "cell_type": "code",
   "execution_count": null,
   "id": "8709d2a5-24e5-4aec-b50e-bc864ed6d6ff",
   "metadata": {},
   "outputs": [],
   "source": [
    "#11. Perform data slicing to display string elements from ascending sorted yourList: \n",
    "#a. Display - ‘saw’, ‘six’, ‘small’. \n",
    "#b. Use negative indices to display - ‘six’, ‘small’, ‘foxes’. \n",
    "#c. All elements after the midpoint of the list (in both directions). \n",
    "#d. Alternate elements in both directions from the middle of the list. \n",
    "yourList = ['saw', 'small', 'foxes', 'he', 'six'] \n"
   ]
  }
 ],
 "metadata": {
  "kernelspec": {
   "display_name": "Python 3 (ipykernel)",
   "language": "python",
   "name": "python3"
  },
  "language_info": {
   "codemirror_mode": {
    "name": "ipython",
    "version": 3
   },
   "file_extension": ".py",
   "mimetype": "text/x-python",
   "name": "python",
   "nbconvert_exporter": "python",
   "pygments_lexer": "ipython3",
   "version": "3.12.4"
  }
 },
 "nbformat": 4,
 "nbformat_minor": 5
}
