{
 "cells": [
  {
   "cell_type": "code",
   "execution_count": null,
   "id": "d77ab5c1-1315-409d-921e-a44ccbc3454e",
   "metadata": {},
   "outputs": [],
   "source": [
    " # Using relational operator we can compare the contents of two list by using ==, !="
   ]
  },
  {
   "cell_type": "code",
   "execution_count": null,
   "id": "73b49f5f-f2f0-4456-9c44-190a072687f1",
   "metadata": {},
   "outputs": [],
   "source": [
    "L1 = [11,22,33]\n",
    " L2 = [11,22,33]\n",
    " if L1 == L2:     # Python Supports Operator overload\n",
    "    print(\"Yes\")\n",
    " else:\n",
    "    print(\"No\")\n",
    " print(L1==L2)\n",
    " print(L1<L2"
   ]
  },
  {
   "cell_type": "code",
   "execution_count": 2,
   "id": "dd42e4bb-7401-4874-b095-8e7d8f57a594",
   "metadata": {},
   "outputs": [
    {
     "name": "stdout",
     "output_type": "stream",
     "text": [
      "True\n"
     ]
    }
   ],
   "source": [
    "L1 = [10,22,33]\n",
    "L2 = [11,22,33]\n",
    "print(L1<L2)"
   ]
  },
  {
   "cell_type": "code",
   "execution_count": 4,
   "id": "96b44ddf-c5b5-49d8-b421-ce6bc58ae175",
   "metadata": {},
   "outputs": [
    {
     "name": "stdout",
     "output_type": "stream",
     "text": [
      "1646220316928\n",
      "1646220316928\n",
      "['AAA', 'BBB', 'CCC', 'DDD', 'PPP', 'QQQ']\n"
     ]
    }
   ],
   "source": [
    "# extend()\n",
    "# The list is in buld function in python that add the specify list element\n",
    "lst1 = [\"AAA\", \"BBB\", \"CCC\", \"DDD\"] \n",
    "lst2 = [\"PPP\",\"QQQ\"] \n",
    "print(id(lst1))\n",
    "lst1.extend(lst2) # Appending lst2 to lst1\n",
    "print(id(lst1))\n",
    "print(lst1) "
   ]
  },
  {
   "cell_type": "code",
   "execution_count": 5,
   "id": "2557a033-e19b-4e46-9ecf-c0664486c6e8",
   "metadata": {},
   "outputs": [
    {
     "name": "stdout",
     "output_type": "stream",
     "text": [
      "Min element in the List : 11\n"
     ]
    }
   ],
   "source": [
    "#Min()\n",
    "# It is a in-build function in python \n",
    "# It is used to find minimum element in the list\n",
    "\n",
    "L=[11,22,33,44,55,66,77,88]\n",
    "print(\"Min element in the List :\",min(L))"
   ]
  },
  {
   "cell_type": "code",
   "execution_count": 6,
   "id": "f6e4a1dd-d87a-4cf0-8a44-c376a12be682",
   "metadata": {},
   "outputs": [
    {
     "name": "stdout",
     "output_type": "stream",
     "text": [
      "Max element in the List : 88\n"
     ]
    }
   ],
   "source": [
    "#Max()\n",
    "# It is a in-build function in python \n",
    "# It is used to find maximum element in the list\n",
    "\n",
    "L=[11,22,33,44,55,66,77,88]\n",
    "print(\"Max element in the List :\",max(L))"
   ]
  },
  {
   "cell_type": "code",
   "execution_count": 8,
   "id": "458db8e4-f598-4f7e-99db-b7b02c8b8813",
   "metadata": {},
   "outputs": [
    {
     "name": "stdout",
     "output_type": "stream",
     "text": [
      "[11, 22, 33, 44]\n"
     ]
    }
   ],
   "source": [
    "# Packing\n",
    "#We wre able to keep more then one value or variable value in the llist type directly is called the packing\n",
    "\n",
    "a=11\n",
    "b=22\n",
    "c=33\n",
    "d=44\n",
    "L=[a,b,c,d]\n",
    "print(L)"
   ]
  },
  {
   "cell_type": "code",
   "execution_count": 10,
   "id": "9c307c5b-8169-4a04-a3fe-9561b041eac7",
   "metadata": {},
   "outputs": [
    {
     "name": "stdout",
     "output_type": "stream",
     "text": [
      "11\n",
      "22\n",
      "33\n",
      "44\n"
     ]
    }
   ],
   "source": [
    "#Unpacking \n",
    "# Assign value from list type to indivitual is called unpacking\n",
    "L=[11,22,33,44]\n",
    "i,j,k,l=L\n",
    "print(i)\n",
    "print(j)\n",
    "print(k)\n",
    "print(l)"
   ]
  },
  {
   "cell_type": "code",
   "execution_count": 32,
   "id": "3646de13-4170-4c16-9bfd-952ccec3d32e",
   "metadata": {},
   "outputs": [
    {
     "name": "stdout",
     "output_type": "stream",
     "text": [
      "11\n",
      "<class 'int'>\n",
      "3.5\n",
      "<class 'float'>\n",
      "TCA\n",
      "<class 'str'>\n"
     ]
    }
   ],
   "source": [
    " #Unpacking\n",
    " # Assigning values from List type to individual variables, it is called as List Unp\n",
    " L = [11, 3.5, \"TCA\"]\n",
    " a,b,c = L    #unpacking of List\n",
    " print(a)\n",
    " print(type(a))\n",
    " print(b)\n",
    " print(type(b))\n",
    " print(c)\n",
    " print(type(c))"
   ]
  },
  {
   "cell_type": "code",
   "execution_count": 34,
   "id": "4e380a29-831f-419a-81fd-c53329c38c93",
   "metadata": {},
   "outputs": [
    {
     "name": "stdout",
     "output_type": "stream",
     "text": [
      "101\n",
      "AAA\n",
      "75\n"
     ]
    }
   ],
   "source": [
    "#Applicaton of unpacking\n",
    "L = [101,'AAA',75]\n",
    "rno,name,per = L\n",
    "print(rno)\n",
    "print(name)\n",
    "print(per)"
   ]
  },
  {
   "cell_type": "code",
   "execution_count": 14,
   "id": "5db388f0-f9f8-4655-b6a0-9594138136ed",
   "metadata": {},
   "outputs": [
    {
     "name": "stdout",
     "output_type": "stream",
     "text": [
      "[11, 22, 33, 44, 55]\n",
      "1646226747456\n",
      "[11, 22, 33, 44, 55]\n",
      "1646226746048\n"
     ]
    }
   ],
   "source": [
    "#Copy()\n",
    "# It can be used to copy the element from one list to another list\n",
    "lst1=[11,22,33,44,55]\n",
    "lst2=lst1.copy()\n",
    "print(lst1)\n",
    "print(id(lst1))\n",
    "print(lst2)\n",
    "print(id(lst2))\n"
   ]
  },
  {
   "cell_type": "code",
   "execution_count": 15,
   "id": "93e0b6c2-25ab-4f22-ab62-779da86c239b",
   "metadata": {},
   "outputs": [
    {
     "name": "stdout",
     "output_type": "stream",
     "text": [
      "[11, 22, 33, 44, 55]\n",
      "1646226750272\n",
      "[11, 22, 33, 44, 55]\n",
      "1646226750272\n"
     ]
    }
   ],
   "source": [
    "lst1=[11,22,33,44,55]\n",
    "lst2=lst1 # It is not copy element or assign element\n",
    "          # lst2 reference to lst1\n",
    "print(lst1)\n",
    "print(id(lst1))\n",
    "print(lst2)\n",
    "print(id(lst2)) "
   ]
  },
  {
   "cell_type": "code",
   "execution_count": 16,
   "id": "f4785b0e-6082-44a1-9d37-e5f3a3bc64c3",
   "metadata": {},
   "outputs": [
    {
     "name": "stdout",
     "output_type": "stream",
     "text": [
      "[11, 22, 33, 44, 55]\n",
      "1646226749120\n",
      "[11, 22, 33, 44, 55]\n",
      "1646226677504\n"
     ]
    }
   ],
   "source": [
    "#Duplicate List Created by useing Slice operator\n",
    "# it is also a Shallo copy\n",
    "\n",
    "lst1=[11,22,33,44,55]\n",
    "print(lst1)\n",
    "print(id(lst1))\n",
    "lst2=lst1[::]      # Shallow copy created\n",
    "print(lst2)\n",
    "print(id(lst2))"
   ]
  },
  {
   "cell_type": "code",
   "execution_count": 17,
   "id": "5a9592e2-8473-49ba-b0c3-59eb0935133a",
   "metadata": {},
   "outputs": [
    {
     "name": "stdout",
     "output_type": "stream",
     "text": [
      "[11, 22, 33, 44, 55]\n",
      "1646226747520\n",
      "[11, 22, 33, 44, 55]\n",
      "1646226750272\n",
      "[66, 22, 33, 44, 55]\n",
      "[11, 22, 33, 44, 55]\n"
     ]
    }
   ],
   "source": [
    "#Duplicate List Created by useing Slice operator\n",
    "# it is also a Shallo copy\n",
    "\n",
    "lst1=[11,22,33,44,55]\n",
    "print(lst1)\n",
    "print(id(lst1))\n",
    "lst2=lst1[::]      # Shallow copy created\n",
    "print(lst2)\n",
    "print(id(lst2))\n",
    "lst1[0]=66\n",
    "print(lst1)\n",
    "print(lst2)"
   ]
  },
  {
   "cell_type": "code",
   "execution_count": null,
   "id": "aa918bbd-1f12-4cc3-ba93-ca43b5a70a41",
   "metadata": {},
   "outputs": [],
   "source": [
    "#Shallow Copy\n",
    "lst1=[11,22,[33,44],55]\n",
    "print(lst1)      #[11, 22, [33, 44], 55]\n",
    "print(id(lst1))  #1646226937472\n",
    "lst2=lst1.copy()\n",
    "print(lst2)      #[11, 22, [33, 44], 55]\n",
    "print(id(lst2))  #1646226944384"
   ]
  },
  {
   "cell_type": "code",
   "execution_count": 26,
   "id": "49f8edcb-e713-4198-8e8e-c355018e40b1",
   "metadata": {},
   "outputs": [
    {
     "name": "stdout",
     "output_type": "stream",
     "text": [
      "LIST 1 : [33, 44]\n",
      "1646226336064\n",
      "LIST 2 : [33, 44]\n",
      "1646226336064\n"
     ]
    }
   ],
   "source": [
    "lst1=[11,22,[33,44],55]\n",
    "lst2=lst1.copy()\n",
    "print(\"LIST 1 :\",lst1[2])  #Shallow copy\n",
    "print(id(lst1[2]))         #Data will change in both list      \n",
    "print(\"LIST 2 :\",lst2[2])\n",
    "print(id(lst2[2]))"
   ]
  },
  {
   "cell_type": "code",
   "execution_count": 22,
   "id": "a337eb8f-cbf7-431e-a699-99f5ec871c74",
   "metadata": {},
   "outputs": [
    {
     "name": "stdout",
     "output_type": "stream",
     "text": [
      "[11, 22, [33, 44], 55]\n",
      "1646225987968\n",
      "[11, 22, [33, 44], 55]\n",
      "1646227176192\n",
      "[11, 22, [33, 88], 55]\n",
      "1646225987968\n",
      "[11, 22, [33, 88], 55]\n",
      "1646227176192\n",
      "1646227176448\n",
      "1646227176448\n"
     ]
    }
   ],
   "source": [
    "#Shallow Copy\n",
    "lst1=[11,22,[33,44],55]\n",
    "print(lst1)      #[11, 22, [33, 44], 55]\n",
    "print(id(lst1))  #1646226937472\n",
    "lst2=lst1.copy()\n",
    "print(lst2)      #[11, 22, [33, 44], 55]\n",
    "print(id(lst2))  #1646226944384\n",
    "lst1[2][1]=88\n",
    "print(lst1)\n",
    "print(id(lst1))\n",
    "print(lst2)\n",
    "print(id(lst2))\n",
    "print(id(lst1[2])) \n",
    "print(id(lst2[2])) \n"
   ]
  },
  {
   "cell_type": "code",
   "execution_count": 27,
   "id": "ec41d00e-39d6-46c0-a493-3335f222a156",
   "metadata": {},
   "outputs": [
    {
     "name": "stdout",
     "output_type": "stream",
     "text": [
      "[33, 44]\n",
      "[33, 44]\n",
      "[11, 22, [33, 44], 55]\n",
      "[11, 22, [33, 44], 55]\n",
      "LIST 1 :  [11, 22, [33, 99], 55]\n",
      "LIST 2 : [11, 22, [33, 44], 55]\n"
     ]
    }
   ],
   "source": [
    "#DEEP COPY\n",
    "#Data will never change \n",
    "import copy\n",
    "lst1 = [11,22,[33,44],55] \n",
    "lst2 =  copy.deepcopy(lst1)   #deep copy please see paint images\n",
    "print(lst1[2])\n",
    "print(lst2[2])\n",
    "print(lst1)\n",
    "print(lst2)\n",
    "lst1[2][1] = 99\n",
    "print(\"LIST 1 : \" , lst1)\n",
    "print(\"LIST 2 :\",   lst2)"
   ]
  },
  {
   "cell_type": "code",
   "execution_count": 28,
   "id": "1d720bc9-eb82-471e-8d6c-2cb02964de9f",
   "metadata": {},
   "outputs": [
    {
     "name": "stdout",
     "output_type": "stream",
     "text": [
      "[33, 44]\n",
      "[33, 44]\n",
      "[11, 22, [33, 44], 55]\n",
      "[11, 22, [33, 44], 55]\n",
      "LIST 1 :  [11, 22, [33, 99], 55]\n",
      "LIST 2 : [11, 22, [33, 99], 55]\n"
     ]
    }
   ],
   "source": [
    "#SHALLOW COPY\n",
    "#Data will never change \n",
    "lst1 = [11,22,[33,44],55] \n",
    "lst2 =  lst1.copy()   #shallow copy please see paint images\n",
    "print(lst1[2])\n",
    "print(lst2[2])\n",
    "print(lst1)\n",
    "print(lst2)\n",
    "lst1[2][1] = 99\n",
    "print(\"LIST 1 : \" , lst1)\n",
    "print(\"LIST 2 :\",   lst2)"
   ]
  },
  {
   "cell_type": "code",
   "execution_count": 31,
   "id": "e81044e2-b740-4b2e-ae72-46d6df907a94",
   "metadata": {},
   "outputs": [
    {
     "name": "stdout",
     "output_type": "stream",
     "text": [
      "[33, 44]\n",
      "1646226962752\n",
      "[33, 44]\n",
      "1646226962752\n",
      "[11, 22, [33, 44], 55]\n",
      "1646227175296\n",
      "[11, 22, [33, 44], 55]\n",
      "1646226957888\n",
      "LIST 1 :  [11, 22, [33, 99], 55]\n",
      "LIST 2 : [11, 22, [33, 44], 55]\n"
     ]
    }
   ],
   "source": [
    "#DEEP COPY\n",
    "#Data will never change \n",
    "import copy\n",
    "lst1 = [11,22,[33,44],55] \n",
    "lst2 =  copy.deepcopy(lst1)   #deep copy please see paint images\n",
    "print(lst1[2])\n",
    "print(id(lst1[2]))\n",
    "print(lst2[2])\n",
    "print(id(lst1[2]))\n",
    "print(lst1)\n",
    "print(id(lst1))\n",
    "print(lst2)\n",
    "print(id(lst2))\n",
    "lst1[2][1] = 99\n",
    "print(\"LIST 1 : \" , lst1)\n",
    "print(\"LIST 2 :\",   lst2)"
   ]
  },
  {
   "cell_type": "code",
   "execution_count": 27,
   "id": "0672ebae-59be-41a2-9020-5a70267dccbe",
   "metadata": {},
   "outputs": [
    {
     "name": "stdout",
     "output_type": "stream",
     "text": [
      "[33, 44]\n",
      "[33, 44]\n",
      "[11, 22, [33, 44], 55]\n",
      "[11, 22, [33, 44], 55]\n",
      "LIST 1 :  [11, 22, [33, 99], 55]\n",
      "LIST 2 : [11, 22, [33, 44], 55]\n"
     ]
    }
   ],
   "source": [
    "#DEEP COPY\n",
    "#Data will never change \n",
    "import copy\n",
    "lst1 = [11,22,[33,44],55] \n",
    "lst2 =  copy.deepcopy(lst1)   #deep copy please see paint images\n",
    "print(lst1[2])\n",
    "print(lst2[2])\n",
    "print(lst1)\n",
    "print(lst2)\n",
    "lst1[2][1] = 99\n",
    "print(\"LIST 1 : \" , lst1)\n",
    "print(\"LIST 2 :\",   lst2)"
   ]
  }
 ],
 "metadata": {
  "kernelspec": {
   "display_name": "Python 3 (ipykernel)",
   "language": "python",
   "name": "python3"
  },
  "language_info": {
   "codemirror_mode": {
    "name": "ipython",
    "version": 3
   },
   "file_extension": ".py",
   "mimetype": "text/x-python",
   "name": "python",
   "nbconvert_exporter": "python",
   "pygments_lexer": "ipython3",
   "version": "3.12.4"
  }
 },
 "nbformat": 4,
 "nbformat_minor": 5
}
