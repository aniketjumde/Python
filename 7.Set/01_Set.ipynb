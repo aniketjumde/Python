{
 "cells": [
  {
   "cell_type": "code",
   "execution_count": null,
   "id": "a9533641-5dc7-4e8a-a8a5-bf4a01e259d5",
   "metadata": {},
   "outputs": [],
   "source": [
    "# Set Type\n",
    "#It is store unsequential data type\n",
    "# Used when you need to store unique values from values"
   ]
  },
  {
   "cell_type": "code",
   "execution_count": 1,
   "id": "8ce18f78-adbf-40ae-b02e-d17aa9c3ce36",
   "metadata": {},
   "outputs": [
    {
     "name": "stdout",
     "output_type": "stream",
     "text": [
      "{33, 11, 22}\n"
     ]
    }
   ],
   "source": [
    "S={11,22,33}\n",
    "print(S)"
   ]
  },
  {
   "cell_type": "code",
   "execution_count": 14,
   "id": "73d912e8-10f3-4328-ba28-0bdab5fc6f28",
   "metadata": {},
   "outputs": [
    {
     "name": "stdout",
     "output_type": "stream",
     "text": [
      "{'pune', 'delhi', 'mumbai', 'banglore'}\n"
     ]
    }
   ],
   "source": [
    "# sir values list , tuple madhe astore karu shakto tar mag set ka vaprayacha\n",
    "# karan set stores UNIQUE values\n",
    "S = {\"pune\",\"mumbai\",\"pune\", \"delhi\", \"banglore\", \"pune\"}\n",
    "print(S)"
   ]
  },
  {
   "cell_type": "code",
   "execution_count": 1,
   "id": "291838ec-a716-4c1b-904c-48de513899e9",
   "metadata": {},
   "outputs": [
    {
     "name": "stdout",
     "output_type": "stream",
     "text": [
      "{'AAA', 'BBB', 'CCC'}\n",
      "AAA : -4159617999508996030\n",
      "BBB : -5814491369705940571\n",
      "CCC : 1827383029933898838\n"
     ]
    }
   ],
   "source": [
    "#Can we hash of set elements\n",
    "S={\"AAA\",\"BBB\",\"CCC\"}\n",
    "print(S)\n",
    "\n",
    "for data in S:\n",
    "    print(data,\":\",hash(data))"
   ]
  },
  {
   "cell_type": "code",
   "execution_count": 2,
   "id": "30ae3e05-d223-4e18-b993-634e7f55283a",
   "metadata": {},
   "outputs": [
    {
     "name": "stdout",
     "output_type": "stream",
     "text": [
      "{None, 33, 'AAA', 'ABX', 9.2, 11, 44, 12.34, 22}\n",
      "2975897169344\n",
      "<class 'set'>\n"
     ]
    }
   ],
   "source": [
    "S={11,22,33,44,\"AAA\",12.34,9.2,\"ABX\",None}\n",
    "print(S)\n",
    "print(id(S))\n",
    "print(type(S))"
   ]
  },
  {
   "cell_type": "code",
   "execution_count": 3,
   "id": "3d78c04a-5a36-4065-9291-945f069e9a72",
   "metadata": {},
   "outputs": [
    {
     "name": "stdout",
     "output_type": "stream",
     "text": [
      "{33, 22, 55, 11, 44}\n",
      "33\n",
      "22\n",
      "55\n",
      "11\n",
      "44\n"
     ]
    }
   ],
   "source": [
    "s={11,22,33,44,55}\n",
    "print(s)\n",
    "\n",
    "for data in s:\n",
    "    print(data)"
   ]
  },
  {
   "cell_type": "code",
   "execution_count": 2,
   "id": "cbabfdbb-5509-4c69-a999-2c00e7db6dc6",
   "metadata": {},
   "outputs": [
    {
     "name": "stdout",
     "output_type": "stream",
     "text": [
      "[11, 22, 33]\n",
      "22\n"
     ]
    }
   ],
   "source": [
    "L = [11,22, 33]\n",
    "print(L)\n",
    "print(L[1])"
   ]
  },
  {
   "cell_type": "code",
   "execution_count": 3,
   "id": "5e64ca3c-feec-4ba8-a793-91bceba62de0",
   "metadata": {},
   "outputs": [
    {
     "name": "stdout",
     "output_type": "stream",
     "text": [
      "{33, 11, 22}\n"
     ]
    },
    {
     "ename": "TypeError",
     "evalue": "'set' object is not subscriptable",
     "output_type": "error",
     "traceback": [
      "\u001b[1;31m---------------------------------------------------------------------------\u001b[0m",
      "\u001b[1;31mTypeError\u001b[0m                                 Traceback (most recent call last)",
      "Cell \u001b[1;32mIn[3], line 3\u001b[0m\n\u001b[0;32m      1\u001b[0m S \u001b[38;5;241m=\u001b[39m {\u001b[38;5;241m11\u001b[39m,\u001b[38;5;241m22\u001b[39m,\u001b[38;5;241m33\u001b[39m}   \u001b[38;5;66;03m# set does not follow insertion order.\u001b[39;00m\n\u001b[0;32m      2\u001b[0m \u001b[38;5;28mprint\u001b[39m(S)\n\u001b[1;32m----> 3\u001b[0m \u001b[38;5;28mprint\u001b[39m(\u001b[43mS\u001b[49m\u001b[43m[\u001b[49m\u001b[38;5;241;43m2\u001b[39;49m\u001b[43m]\u001b[49m)\n",
      "\u001b[1;31mTypeError\u001b[0m: 'set' object is not subscriptable"
     ]
    }
   ],
   "source": [
    " S = {11,22,33}   # set does not follow insertion order.\n",
    " print(S)\n",
    " print(S[2])"
   ]
  },
  {
   "cell_type": "code",
   "execution_count": 5,
   "id": "0a451c70-b3e4-4a12-8c7e-3e12637924e6",
   "metadata": {},
   "outputs": [
    {
     "name": "stdout",
     "output_type": "stream",
     "text": [
      "{33, 11, 44, 22}\n",
      "{3040, 10, 20}\n",
      "{0, 1, 2, 3, 4}\n"
     ]
    }
   ],
   "source": [
    "#Set() Function\n",
    "# We can convert element from list tuple to set \n",
    "L=[11,22,33,44]\n",
    "t=(10,20,3040)\n",
    "r=range(0,5)\n",
    "s1=set(L)\n",
    "print(s1)\n",
    "s2=set(t)\n",
    "print(s2)\n",
    "s3=set(r)\n",
    "print(s3)\n"
   ]
  },
  {
   "cell_type": "code",
   "execution_count": 7,
   "id": "2f034879-a852-4334-90d1-1408b7249595",
   "metadata": {},
   "outputs": [
    {
     "name": "stdout",
     "output_type": "stream",
     "text": [
      "{}\n",
      "<class 'dict'>\n",
      "\n",
      "set()\n",
      "<class 'set'>\n"
     ]
    }
   ],
   "source": [
    "#Empty set is created using set() function only. Empty curly Bracket {} will create Dictionary\n",
    "set1={}\n",
    "print(set1)\n",
    "print(type(set1))\n",
    "print()\n",
    "\n",
    "set2=set()\n",
    "print(set2)\n",
    "print(type(set2))"
   ]
  },
  {
   "cell_type": "code",
   "execution_count": 11,
   "id": "fc9badaa-3536-4fb7-a72e-132797c39437",
   "metadata": {},
   "outputs": [
    {
     "name": "stdout",
     "output_type": "stream",
     "text": [
      "{33, 11, 44, 22}\n",
      "{33, 11, 44, 22, 55}\n",
      "{33, 66, 11, 44, 22, 55}\n",
      "{33, 66, 11, 44, 77, 22, 55}\n"
     ]
    }
   ],
   "source": [
    "#Add element in set we will used add() Function i.e s.add(11)\n",
    "s={11,22,33,44}\n",
    "print(s)\n",
    "s.add(55)\n",
    "print(s)\n",
    "s.add(66)\n",
    "print(s)\n",
    "s.add(77)\n",
    "print(s)"
   ]
  },
  {
   "cell_type": "code",
   "execution_count": 12,
   "id": "bfa03024-b9ed-4392-a887-4e5cd4350222",
   "metadata": {},
   "outputs": [
    {
     "name": "stdout",
     "output_type": "stream",
     "text": [
      "{0, 33, 1, 2, 3, 4, 40, 10, 11, 44, 20, 22, 30}\n"
     ]
    }
   ],
   "source": [
    "# update()\n",
    "# if we want add all element of list tuple range to set at a time  we have to use Function\n",
    "\n",
    "s=set()\n",
    "l=[11,22,33,44]\n",
    "t=(10,20,30,40)\n",
    "r=range(0,5)\n",
    "s.update(l,t,r)\n",
    "print(s)"
   ]
  },
  {
   "cell_type": "code",
   "execution_count": 4,
   "id": "aedb7a95-dbf5-49be-b9e9-fcda642b6068",
   "metadata": {},
   "outputs": [
    {
     "name": "stdout",
     "output_type": "stream",
     "text": [
      "{3, 22, 8, 13, 15}\n"
     ]
    }
   ],
   "source": [
    " s = {15,3,22,13,8}   # set is unordered bcz of elements are stored based on hashing\n",
    " print(s)"
   ]
  },
  {
   "cell_type": "code",
   "execution_count": null,
   "id": "806308ed-3f52-40ae-9be6-7890dd972e6b",
   "metadata": {},
   "outputs": [],
   "source": [
    "#Set can have only Immutable Object\n"
   ]
  },
  {
   "cell_type": "code",
   "execution_count": 13,
   "id": "734864e5-c5d7-49b9-9e2b-d56e3b477e46",
   "metadata": {},
   "outputs": [
    {
     "name": "stdout",
     "output_type": "stream",
     "text": [
      "{11, 22}\n"
     ]
    },
    {
     "ename": "TypeError",
     "evalue": "unhashable type: 'list'",
     "output_type": "error",
     "traceback": [
      "\u001b[1;31m---------------------------------------------------------------------------\u001b[0m",
      "\u001b[1;31mTypeError\u001b[0m                                 Traceback (most recent call last)",
      "Cell \u001b[1;32mIn[13], line 4\u001b[0m\n\u001b[0;32m      2\u001b[0m s \u001b[38;5;241m=\u001b[39m {\u001b[38;5;241m11\u001b[39m,\u001b[38;5;241m22\u001b[39m}\n\u001b[0;32m      3\u001b[0m \u001b[38;5;28mprint\u001b[39m(s)\n\u001b[1;32m----> 4\u001b[0m s \u001b[38;5;241m=\u001b[39m {\u001b[38;5;241m11\u001b[39m,\u001b[38;5;241m22\u001b[39m, [\u001b[38;5;241m10\u001b[39m,\u001b[38;5;241m20\u001b[39m,\u001b[38;5;241m30\u001b[39m] }    \u001b[38;5;66;03m# error - set can have only immutable object\u001b[39;00m\n",
      "\u001b[1;31mTypeError\u001b[0m: unhashable type: 'list'"
     ]
    }
   ],
   "source": [
    "# hashing he fakt immutable objects var kele jaate..\n",
    "s = {11,22}\n",
    "print(s)\n",
    "s = {11,22, [10,20,30] }    # error - set can have only immutable object\n"
   ]
  },
  {
   "cell_type": "code",
   "execution_count": 7,
   "id": "eea3820b-d948-4962-93bd-91632a962731",
   "metadata": {},
   "outputs": [
    {
     "name": "stdout",
     "output_type": "stream",
     "text": [
      "{11, 22, (10, 20)}\n"
     ]
    }
   ],
   "source": [
    "S={11,22,(10,20)}\n",
    "print(S)"
   ]
  },
  {
   "cell_type": "code",
   "execution_count": 9,
   "id": "33aec327-cbb4-4b0c-a6c2-4b7ec357cc4a",
   "metadata": {},
   "outputs": [
    {
     "name": "stdout",
     "output_type": "stream",
     "text": [
      "[11, 22]\n",
      "22\n",
      "99\n"
     ]
    }
   ],
   "source": [
    "L = [11,22]\n",
    "print(L)\n",
    "print(L[1])\n",
    "L[1] =99   # list is modifiable\n",
    "print(L[1])"
   ]
  },
  {
   "cell_type": "code",
   "execution_count": 14,
   "id": "b89277ec-ecb5-4f10-9faf-a7fa57b00123",
   "metadata": {},
   "outputs": [
    {
     "name": "stdout",
     "output_type": "stream",
     "text": [
      "{33, 11, 44, 22}\n",
      "2975903372608\n",
      "<class 'set'>\n",
      "{33, 11, 44, 22}\n",
      "2975903373280\n",
      "<class 'set'>\n"
     ]
    }
   ],
   "source": [
    "#COPY()\n",
    "#we are copy element from one set to another set\n",
    "# It will always store  deep copy\n",
    "\n",
    "set1={10,20,30,40}\n",
    "print(s1)\n",
    "print(id(s1))\n",
    "print(type(s1))\n",
    "\n",
    "\n",
    "s2=s1.copy()\n",
    "print(s2)\n",
    "print(id(s2))\n",
    "print(type(s2))\n"
   ]
  },
  {
   "cell_type": "code",
   "execution_count": null,
   "id": "68349b4b-7c86-434b-822b-9d7299bf7166",
   "metadata": {},
   "outputs": [],
   "source": [
    "#To remove elements of set we used following particular function\n",
    "#1.remove -->It can be used to remove particular element from set\n",
    "#2.pop()---->It can be used to remove first  element from set\n",
    "#3.discard()-->It can be used to remove particular element from set"
   ]
  },
  {
   "cell_type": "code",
   "execution_count": 16,
   "id": "65bb6ad1-031f-4647-a418-6848c3fe9e27",
   "metadata": {},
   "outputs": [
    {
     "name": "stdout",
     "output_type": "stream",
     "text": [
      "{50, 20, 40, 10, 30}\n",
      "{50, 40, 10, 30}\n"
     ]
    }
   ],
   "source": [
    "#remove()\n",
    "s={10,20,30,40,50}\n",
    "print(s)\n",
    "s.remove(20)\n",
    "print(s)"
   ]
  },
  {
   "cell_type": "code",
   "execution_count": 17,
   "id": "c7647a03-5b1a-4565-999d-b3162619e8c1",
   "metadata": {},
   "outputs": [
    {
     "name": "stdout",
     "output_type": "stream",
     "text": [
      "{50, 20, 40, 10, 30}\n"
     ]
    },
    {
     "ename": "KeyError",
     "evalue": "2",
     "output_type": "error",
     "traceback": [
      "\u001b[1;31m---------------------------------------------------------------------------\u001b[0m",
      "\u001b[1;31mKeyError\u001b[0m                                  Traceback (most recent call last)",
      "Cell \u001b[1;32mIn[17], line 4\u001b[0m\n\u001b[0;32m      2\u001b[0m s\u001b[38;5;241m=\u001b[39m{\u001b[38;5;241m10\u001b[39m,\u001b[38;5;241m20\u001b[39m,\u001b[38;5;241m30\u001b[39m,\u001b[38;5;241m40\u001b[39m,\u001b[38;5;241m50\u001b[39m}\n\u001b[0;32m      3\u001b[0m \u001b[38;5;28mprint\u001b[39m(s)\n\u001b[1;32m----> 4\u001b[0m \u001b[43ms\u001b[49m\u001b[38;5;241;43m.\u001b[39;49m\u001b[43mremove\u001b[49m\u001b[43m(\u001b[49m\u001b[38;5;241;43m2\u001b[39;49m\u001b[43m)\u001b[49m\n\u001b[0;32m      5\u001b[0m \u001b[38;5;28mprint\u001b[39m(s)\n",
      "\u001b[1;31mKeyError\u001b[0m: 2"
     ]
    }
   ],
   "source": [
    "#remove()\n",
    "s={10,20,30,40,50}\n",
    "print(s)\n",
    "s.remove(2)\n",
    "print(s)"
   ]
  },
  {
   "cell_type": "code",
   "execution_count": 19,
   "id": "91651f4a-42ea-4589-8f58-68f32a720603",
   "metadata": {},
   "outputs": [
    {
     "name": "stdout",
     "output_type": "stream",
     "text": [
      "{50, 20, 40, 10, 30}\n",
      "{20, 40, 10, 30}\n"
     ]
    }
   ],
   "source": [
    "#pop()\n",
    "s={10,20,30,40,50}\n",
    "print(s)\n",
    "s.pop()\n",
    "print(s)"
   ]
  },
  {
   "cell_type": "code",
   "execution_count": 18,
   "id": "09d7eff7-8a2d-462a-8b5b-daccb0a85457",
   "metadata": {},
   "outputs": [
    {
     "name": "stdout",
     "output_type": "stream",
     "text": [
      "{50, 20, 40, 10, 30}\n"
     ]
    },
    {
     "ename": "TypeError",
     "evalue": "set.pop() takes no arguments (1 given)",
     "output_type": "error",
     "traceback": [
      "\u001b[1;31m---------------------------------------------------------------------------\u001b[0m",
      "\u001b[1;31mTypeError\u001b[0m                                 Traceback (most recent call last)",
      "Cell \u001b[1;32mIn[18], line 4\u001b[0m\n\u001b[0;32m      2\u001b[0m s\u001b[38;5;241m=\u001b[39m{\u001b[38;5;241m10\u001b[39m,\u001b[38;5;241m20\u001b[39m,\u001b[38;5;241m30\u001b[39m,\u001b[38;5;241m40\u001b[39m,\u001b[38;5;241m50\u001b[39m}\n\u001b[0;32m      3\u001b[0m \u001b[38;5;28mprint\u001b[39m(s)\n\u001b[1;32m----> 4\u001b[0m \u001b[43ms\u001b[49m\u001b[38;5;241;43m.\u001b[39;49m\u001b[43mpop\u001b[49m\u001b[43m(\u001b[49m\u001b[38;5;241;43m20\u001b[39;49m\u001b[43m)\u001b[49m\n\u001b[0;32m      5\u001b[0m \u001b[38;5;28mprint\u001b[39m(s)\n",
      "\u001b[1;31mTypeError\u001b[0m: set.pop() takes no arguments (1 given)"
     ]
    }
   ],
   "source": [
    "#pop()\n",
    "s={10,20,30,40,50}\n",
    "print(s)\n",
    "s.pop(20)\n",
    "print(s)"
   ]
  },
  {
   "cell_type": "code",
   "execution_count": 20,
   "id": "e171f7bd-5ac2-4e20-9d3d-89a6968da44e",
   "metadata": {},
   "outputs": [
    {
     "name": "stdout",
     "output_type": "stream",
     "text": [
      "{50, 20, 40, 10, 30}\n",
      "{50, 40, 10, 30}\n"
     ]
    }
   ],
   "source": [
    "#discard()\n",
    "s={10,20,30,40,50}\n",
    "print(s)\n",
    "s.discard(20)\n",
    "print(s)"
   ]
  },
  {
   "cell_type": "code",
   "execution_count": 21,
   "id": "cd10172d-bbbb-40d3-9eb0-b800f456a177",
   "metadata": {},
   "outputs": [
    {
     "name": "stdout",
     "output_type": "stream",
     "text": [
      "{50, 20, 40, 10, 30}\n",
      "{50, 20, 40, 10, 30}\n"
     ]
    }
   ],
   "source": [
    "#discard()\n",
    "s={10,20,30,40,50}\n",
    "print(s)\n",
    "s.discard(2)\n",
    "print(s)"
   ]
  },
  {
   "cell_type": "code",
   "execution_count": 23,
   "id": "cc686d4a-9596-4edf-8056-ea7ade9da775",
   "metadata": {},
   "outputs": [
    {
     "name": "stdout",
     "output_type": "stream",
     "text": [
      "{50, 20, 40, 10, 30}\n",
      "set()\n"
     ]
    }
   ],
   "source": [
    "#Clear\n",
    "# It is used to remove all element in set\n",
    "s={10,20,30,40,50}\n",
    "print(s)\n",
    "s.clear()\n",
    "print(s)"
   ]
  },
  {
   "cell_type": "code",
   "execution_count": null,
   "id": "02908d80-b614-472b-9981-1fee16ad1797",
   "metadata": {},
   "outputs": [],
   "source": [
    "#SET Function"
   ]
  },
  {
   "cell_type": "code",
   "execution_count": null,
   "id": "7f89bc92-e016-4b7f-81b3-9863959c5e9d",
   "metadata": {},
   "outputs": [],
   "source": [
    "#union()  i.e set1.union(set2)  or i.e set1 | set2\n",
    "#It store all the element of set1 and set2"
   ]
  },
  {
   "cell_type": "code",
   "execution_count": 26,
   "id": "acd48e9d-2983-49d2-9c40-aad311dab817",
   "metadata": {},
   "outputs": [
    {
     "name": "stdout",
     "output_type": "stream",
     "text": [
      "{50, 20, 40, 10, 30}\n",
      "{50, 20, 40, 10, 30}\n"
     ]
    }
   ],
   "source": [
    "S={10,20,30}\n",
    "T={50,30,40}\n",
    "print(S.union(T))\n",
    "print(S | T)"
   ]
  },
  {
   "cell_type": "code",
   "execution_count": null,
   "id": "b8af8862-eb63-4689-aa63-91bb227d302a",
   "metadata": {},
   "outputs": [],
   "source": [
    "#intersection()  i.e set1.intersection(set2)  or i.e set1 & set2\n",
    "# Only common elements print"
   ]
  },
  {
   "cell_type": "code",
   "execution_count": 27,
   "id": "a612416d-b920-4b7d-88c1-b3d8bc956c84",
   "metadata": {},
   "outputs": [
    {
     "name": "stdout",
     "output_type": "stream",
     "text": [
      "{30}\n",
      "{30}\n"
     ]
    }
   ],
   "source": [
    "S={10,20,30}\n",
    "T={50,30,40}\n",
    "print(S.intersection(T))\n",
    "print(S & T)"
   ]
  },
  {
   "cell_type": "code",
   "execution_count": null,
   "id": "8bbcd79e-2381-413f-bd5d-5361191be597",
   "metadata": {},
   "outputs": [],
   "source": [
    "#difference i.e element existedin set1 and not existed in set2"
   ]
  },
  {
   "cell_type": "code",
   "execution_count": 28,
   "id": "44f7c97b-81a2-4856-9888-b006cf2d03b5",
   "metadata": {},
   "outputs": [
    {
     "name": "stdout",
     "output_type": "stream",
     "text": [
      "{10, 20}\n",
      "{10, 20}\n"
     ]
    }
   ],
   "source": [
    "S={10,20,30}\n",
    "T={50,30,40}\n",
    "print(S.difference(T))\n",
    "print(S - T)"
   ]
  },
  {
   "cell_type": "code",
   "execution_count": null,
   "id": "52892a81-f2c7-4725-9f78-c924e2b36dae",
   "metadata": {},
   "outputs": [],
   "source": [
    "#symmmetric_difference(set2) \n",
    "#All elements from set1 and set2 expect the element which are common in set1 and set2"
   ]
  },
  {
   "cell_type": "code",
   "execution_count": 29,
   "id": "46a303d7-9900-4632-9977-86c17bdc0910",
   "metadata": {},
   "outputs": [
    {
     "name": "stdout",
     "output_type": "stream",
     "text": [
      "{10, 20}\n",
      "{10, 20}\n"
     ]
    }
   ],
   "source": [
    "S={10,20,30}\n",
    "T={50,30,40}\n",
    "print(S.difference(T))\n",
    "print(S - T)"
   ]
  },
  {
   "cell_type": "code",
   "execution_count": null,
   "id": "a6ce5f63-6b7a-4263-89ae-c87205e72e00",
   "metadata": {},
   "outputs": [],
   "source": []
  },
  {
   "cell_type": "code",
   "execution_count": null,
   "id": "973a51b4-8686-498d-856e-69f3b9965fdd",
   "metadata": {},
   "outputs": [],
   "source": []
  }
 ],
 "metadata": {
  "kernelspec": {
   "display_name": "Python 3 (ipykernel)",
   "language": "python",
   "name": "python3"
  },
  "language_info": {
   "codemirror_mode": {
    "name": "ipython",
    "version": 3
   },
   "file_extension": ".py",
   "mimetype": "text/x-python",
   "name": "python",
   "nbconvert_exporter": "python",
   "pygments_lexer": "ipython3",
   "version": "3.12.4"
  }
 },
 "nbformat": 4,
 "nbformat_minor": 5
}
