{
 "cells": [
  {
   "cell_type": "code",
   "execution_count": 2,
   "id": "848bc066-7183-47cf-a50d-9ce79a150dd7",
   "metadata": {},
   "outputs": [
    {
     "name": "stdout",
     "output_type": "stream",
     "text": [
      "['01', '08', '2024']\n",
      "01-08-2024\n",
      "01/08/2024\n"
     ]
    }
   ],
   "source": [
    "#Join()\n",
    "# if we want to join element of list / set /tuple then perticulatr limiter we wanto to use Join() function\n",
    "\n",
    "L=[\"01\",\"08\",\"2024\"]\n",
    "\n",
    "print(L)\n",
    "print(\"-\".join(L))\n",
    "print(\"/\".join(L))\n"
   ]
  },
  {
   "cell_type": "code",
   "execution_count": null,
   "id": "27b7c9c4-e0fd-475a-aa11-128216b686bc",
   "metadata": {},
   "outputs": [],
   "source": [
    "#replace()\n",
    "#Replacing a string with another String\n",
    "#syntax= s.replace(oldvalue,newvalue,count)"
   ]
  },
  {
   "cell_type": "code",
   "execution_count": 8,
   "id": "237d885b-3199-4be2-8e95-ae8699bfe9a8",
   "metadata": {},
   "outputs": [
    {
     "name": "stdout",
     "output_type": "stream",
     "text": [
      "I love Python\n",
      "I love Cricket\n"
     ]
    }
   ],
   "source": [
    "s=\"I love Python\"\n",
    "print(s)\n",
    "print(s.replace(\"Python\",\"Cricket\"))"
   ]
  },
  {
   "cell_type": "code",
   "execution_count": 9,
   "id": "f0d27f57-e4da-4910-962c-16f3b0ccc116",
   "metadata": {},
   "outputs": [
    {
     "name": "stdout",
     "output_type": "stream",
     "text": [
      "BCA comp BCA BCA comp\n"
     ]
    }
   ],
   "source": [
    "# All Ocurenced will be replace\n",
    "s=\"TCA comp TCA TCA comp\"\n",
    "print(s)\n",
    "print(s.replace(\"TCA\",\"BCA\"))"
   ]
  },
  {
   "cell_type": "code",
   "execution_count": 10,
   "id": "ce65974a-afdb-41ca-8e0d-b82ea0d92fdd",
   "metadata": {},
   "outputs": [
    {
     "name": "stdout",
     "output_type": "stream",
     "text": [
      "BCA comp BCA TCA comp\n"
     ]
    }
   ],
   "source": [
    "# Some Ocurenced will be replace\n",
    "s=\"TCA comp TCA TCA comp\"\n",
    "print(s)\n",
    "print(s.replace(\"TCA\",\"BCA\",2))"
   ]
  },
  {
   "cell_type": "code",
   "execution_count": 12,
   "id": "1e37832f-5158-420c-9978-cdf586d98170",
   "metadata": {},
   "outputs": [
    {
     "name": "stdout",
     "output_type": "stream",
     "text": [
      "TCA comp TCA TCA comp\n",
      "TCA comp TCA TCA comp\n",
      "2234125971568\n",
      "2234125971568\n"
     ]
    }
   ],
   "source": [
    "#IF no substring is found then replace function return orignal string(reference) as it is.\n",
    "s=\"TCA comp TCA TCA comp\"\n",
    "t=s.replace(\"MCA\",\"TCA\")\n",
    "print(s)\n",
    "print(t)\n",
    "print(id(s))\n",
    "print(id(t))"
   ]
  },
  {
   "cell_type": "code",
   "execution_count": null,
   "id": "82f66efc-c2d7-4606-921f-476ad0a4f7ad",
   "metadata": {},
   "outputs": [],
   "source": []
  }
 ],
 "metadata": {
  "kernelspec": {
   "display_name": "Python 3 (ipykernel)",
   "language": "python",
   "name": "python3"
  },
  "language_info": {
   "codemirror_mode": {
    "name": "ipython",
    "version": 3
   },
   "file_extension": ".py",
   "mimetype": "text/x-python",
   "name": "python",
   "nbconvert_exporter": "python",
   "pygments_lexer": "ipython3",
   "version": "3.12.4"
  }
 },
 "nbformat": 4,
 "nbformat_minor": 5
}
