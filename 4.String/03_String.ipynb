{
 "cells": [
  {
   "cell_type": "code",
   "execution_count": null,
   "metadata": {},
   "outputs": [],
   "source": [
    "# Count Function\n",
    "# To know many times small string are repeted in world"
   ]
  },
  {
   "cell_type": "code",
   "execution_count": 4,
   "metadata": {},
   "outputs": [
    {
     "name": "stdout",
     "output_type": "stream",
     "text": [
      "2\n",
      "1\n"
     ]
    }
   ],
   "source": [
    "s=\"BcsBcaBcs\"\n",
    "print(s.count(\"Bcs\"))\n",
    "print(s.count(\"Bcs\",1,9))"
   ]
  },
  {
   "cell_type": "code",
   "execution_count": null,
   "metadata": {},
   "outputs": [],
   "source": [
    "# Split()\n",
    "# In string type we want to split a string into no.of string in the form of a list then we have to use split() predefind function\n",
    "# Split take space as a Default limiter\n"
   ]
  },
  {
   "cell_type": "code",
   "execution_count": 7,
   "metadata": {},
   "outputs": [
    {
     "name": "stdout",
     "output_type": "stream",
     "text": [
      "['Techno', 'comp', 'Academy']\n",
      "Techno\n",
      "comp\n",
      "Academy\n"
     ]
    }
   ],
   "source": [
    "s=\"Techno comp Academy\"\n",
    "L=s.split()\n",
    "print(L)\n",
    "\n",
    "for i in L:\n",
    "    print(i)\n"
   ]
  },
  {
   "cell_type": "code",
   "execution_count": 9,
   "metadata": {},
   "outputs": [
    {
     "name": "stdout",
     "output_type": "stream",
     "text": [
      "['Techno', 'comp', 'Academy']\n",
      "Techno\n",
      "comp\n",
      "Academy\n"
     ]
    }
   ],
   "source": [
    "s=\"Techno,comp,Academy\"\n",
    "L=s.split(\",\")\n",
    "print(L)\n",
    "\n",
    "for i in L:\n",
    "    print(i)"
   ]
  },
  {
   "cell_type": "code",
   "execution_count": 13,
   "metadata": {},
   "outputs": [
    {
     "name": "stdout",
     "output_type": "stream",
     "text": [
      "Unique word  in string :\n",
      "str\n",
      "pqr\n",
      "bca\n"
     ]
    }
   ],
   "source": [
    "#Print unique Word in the string\n",
    "s=\"abc str bcs pqr abc bcs bca\"\n",
    "L=s.split()\n",
    "print(\"Unique word  in string :\")\n",
    "for i in L:\n",
    "    if s.count(i)==1:\n",
    "        print(i)"
   ]
  },
  {
   "cell_type": "code",
   "execution_count": null,
   "metadata": {},
   "outputs": [],
   "source": [
    "#Finding the location of particular sub string\n",
    "#1. find() : on success gives index else give -1\n",
    "#2. rfind() : on success gives index else give -1\n",
    "#3. index() : on success gives index else value error\n",
    "#4. rindex() : on success gives index else value error"
   ]
  },
  {
   "cell_type": "code",
   "execution_count": 15,
   "metadata": {},
   "outputs": [
    {
     "name": "stdout",
     "output_type": "stream",
     "text": [
      "3\n",
      "3\n",
      "3\n",
      "3\n",
      "-1\n",
      "-1\n"
     ]
    },
    {
     "ename": "ValueError",
     "evalue": "substring not found",
     "output_type": "error",
     "traceback": [
      "\u001b[1;31m---------------------------------------------------------------------------\u001b[0m",
      "\u001b[1;31mValueError\u001b[0m                                Traceback (most recent call last)",
      "Cell \u001b[1;32mIn[15], line 8\u001b[0m\n\u001b[0;32m      6\u001b[0m \u001b[38;5;28mprint\u001b[39m(s\u001b[38;5;241m.\u001b[39mfind(\u001b[38;5;124m\"\u001b[39m\u001b[38;5;124mbcc\u001b[39m\u001b[38;5;124m\"\u001b[39m))\n\u001b[0;32m      7\u001b[0m \u001b[38;5;28mprint\u001b[39m(s\u001b[38;5;241m.\u001b[39mrfind(\u001b[38;5;124m\"\u001b[39m\u001b[38;5;124mbcc\u001b[39m\u001b[38;5;124m\"\u001b[39m))\n\u001b[1;32m----> 8\u001b[0m \u001b[38;5;28mprint\u001b[39m(\u001b[43ms\u001b[49m\u001b[38;5;241;43m.\u001b[39;49m\u001b[43mindex\u001b[49m\u001b[43m(\u001b[49m\u001b[38;5;124;43m\"\u001b[39;49m\u001b[38;5;124;43mbcc\u001b[39;49m\u001b[38;5;124;43m\"\u001b[39;49m\u001b[43m)\u001b[49m)\n\u001b[0;32m      9\u001b[0m \u001b[38;5;28mprint\u001b[39m(s\u001b[38;5;241m.\u001b[39mrindex(\u001b[38;5;124m\"\u001b[39m\u001b[38;5;124mbcc\u001b[39m\u001b[38;5;124m\"\u001b[39m))\n",
      "\u001b[1;31mValueError\u001b[0m: substring not found"
     ]
    }
   ],
   "source": [
    "s=\"bcsbcabcs\"\n",
    "print(s.find(\"bca\"))\n",
    "print(s.rfind(\"bca\"))\n",
    "print(s.index(\"bca\"))\n",
    "print(s.rindex(\"bca\"))\n",
    "print(s.find(\"bcc\"))\n",
    "print(s.rfind(\"bcc\"))\n",
    "print(s.index(\"bcc\"))\n",
    "print(s.rindex(\"bcc\"))"
   ]
  },
  {
   "cell_type": "code",
   "execution_count": 17,
   "metadata": {},
   "outputs": [
    {
     "name": "stdout",
     "output_type": "stream",
     "text": [
      "3\n",
      "3\n",
      "3\n",
      "3\n",
      "-1\n",
      "-1\n"
     ]
    },
    {
     "ename": "ValueError",
     "evalue": "substring not found",
     "output_type": "error",
     "traceback": [
      "\u001b[1;31m---------------------------------------------------------------------------\u001b[0m",
      "\u001b[1;31mValueError\u001b[0m                                Traceback (most recent call last)",
      "Cell \u001b[1;32mIn[17], line 8\u001b[0m\n\u001b[0;32m      6\u001b[0m \u001b[38;5;28mprint\u001b[39m(s\u001b[38;5;241m.\u001b[39mfind(\u001b[38;5;124m\"\u001b[39m\u001b[38;5;124mbcc\u001b[39m\u001b[38;5;124m\"\u001b[39m,\u001b[38;5;241m3\u001b[39m,\u001b[38;5;241m6\u001b[39m))\n\u001b[0;32m      7\u001b[0m \u001b[38;5;28mprint\u001b[39m(s\u001b[38;5;241m.\u001b[39mrfind(\u001b[38;5;124m\"\u001b[39m\u001b[38;5;124mbcc\u001b[39m\u001b[38;5;124m\"\u001b[39m,\u001b[38;5;241m3\u001b[39m,\u001b[38;5;241m6\u001b[39m))\n\u001b[1;32m----> 8\u001b[0m \u001b[38;5;28mprint\u001b[39m(\u001b[43ms\u001b[49m\u001b[38;5;241;43m.\u001b[39;49m\u001b[43mindex\u001b[49m\u001b[43m(\u001b[49m\u001b[38;5;124;43m\"\u001b[39;49m\u001b[38;5;124;43mbcc\u001b[39;49m\u001b[38;5;124;43m\"\u001b[39;49m\u001b[43m,\u001b[49m\u001b[38;5;241;43m3\u001b[39;49m\u001b[43m,\u001b[49m\u001b[38;5;241;43m6\u001b[39;49m\u001b[43m)\u001b[49m)\n\u001b[0;32m      9\u001b[0m \u001b[38;5;28mprint\u001b[39m(s\u001b[38;5;241m.\u001b[39mrindex(\u001b[38;5;124m\"\u001b[39m\u001b[38;5;124mbcc\u001b[39m\u001b[38;5;124m\"\u001b[39m,\u001b[38;5;241m3\u001b[39m,\u001b[38;5;241m6\u001b[39m))\n",
      "\u001b[1;31mValueError\u001b[0m: substring not found"
     ]
    }
   ],
   "source": [
    "s=\"bcsbcabcs\"\n",
    "print(s.find(\"bca\",3,6))\n",
    "print(s.rfind(\"bca\",3,6))\n",
    "print(s.index(\"bca\",3,6))\n",
    "print(s.rindex(\"bca\",3,6))\n",
    "print(s.find(\"bcc\",3,6))\n",
    "print(s.rfind(\"bcc\",3,6))\n",
    "print(s.index(\"bcc\",3,6))\n",
    "print(s.rindex(\"bcc\",3,6))"
   ]
  },
  {
   "cell_type": "code",
   "execution_count": 21,
   "metadata": {},
   "outputs": [
    {
     "name": "stdout",
     "output_type": "stream",
     "text": [
      "position : 7\n",
      "position : -1\n"
     ]
    }
   ],
   "source": [
    "#find #rfind\n",
    "#find position of the string\n",
    "s=\"Techno comp academy\"\n",
    "print(\"position :\",s.find(\"comp\"))\n",
    "print(\"position :\",s.rfind(\"bd\"))"
   ]
  },
  {
   "cell_type": "code",
   "execution_count": 26,
   "metadata": {},
   "outputs": [
    {
     "name": "stdout",
     "output_type": "stream",
     "text": [
      "position : 12\n"
     ]
    },
    {
     "ename": "ValueError",
     "evalue": "substring not found",
     "output_type": "error",
     "traceback": [
      "\u001b[1;31m---------------------------------------------------------------------------\u001b[0m",
      "\u001b[1;31mValueError\u001b[0m                                Traceback (most recent call last)",
      "Cell \u001b[1;32mIn[26], line 5\u001b[0m\n\u001b[0;32m      3\u001b[0m s\u001b[38;5;241m=\u001b[39m\u001b[38;5;124m\"\u001b[39m\u001b[38;5;124mTechno comp academy\u001b[39m\u001b[38;5;124m\"\u001b[39m\n\u001b[0;32m      4\u001b[0m \u001b[38;5;28mprint\u001b[39m(\u001b[38;5;124m\"\u001b[39m\u001b[38;5;124mposition :\u001b[39m\u001b[38;5;124m\"\u001b[39m,s\u001b[38;5;241m.\u001b[39mindex(\u001b[38;5;124m\"\u001b[39m\u001b[38;5;124macademy\u001b[39m\u001b[38;5;124m\"\u001b[39m))\n\u001b[1;32m----> 5\u001b[0m \u001b[38;5;28mprint\u001b[39m(\u001b[38;5;124m\"\u001b[39m\u001b[38;5;124mposition :\u001b[39m\u001b[38;5;124m\"\u001b[39m,\u001b[43ms\u001b[49m\u001b[38;5;241;43m.\u001b[39;49m\u001b[43mrindex\u001b[49m\u001b[43m(\u001b[49m\u001b[38;5;124;43m\"\u001b[39;49m\u001b[38;5;124;43mbc\u001b[39;49m\u001b[38;5;124;43m\"\u001b[39;49m\u001b[43m)\u001b[49m)\n",
      "\u001b[1;31mValueError\u001b[0m: substring not found"
     ]
    }
   ],
   "source": [
    "#indx #rindx\n",
    "#find position of the string\n",
    "s=\"Techno comp academy\"\n",
    "print(\"position :\",s.index(\"academy\"))\n",
    "print(\"position :\",s.rindex(\"bc\"))"
   ]
  },
  {
   "cell_type": "code",
   "execution_count": 28,
   "metadata": {},
   "outputs": [
    {
     "name": "stdin",
     "output_type": "stream",
     "text": [
      "Enter the large string : AniketkailasJumde\n",
      "Enter the small string : e\n"
     ]
    },
    {
     "name": "stdout",
     "output_type": "stream",
     "text": [
      "4\n",
      "16\n"
     ]
    }
   ],
   "source": [
    "#Write a program which accept small and large string print all position where small string is present in large string\n",
    "large=input(\"Enter the large string :\")\n",
    "small=input(\"Enter the small string :\")\n",
    "pos=0\n",
    "while True:\n",
    "    pos=large.find(small,pos)\n",
    "    if pos==-1:\n",
    "        break\n",
    "\n",
    "    print(pos)\n",
    "    pos= pos + 1"
   ]
  },
  {
   "cell_type": "code",
   "execution_count": null,
   "metadata": {},
   "outputs": [],
   "source": [
    "#Trim operation\n",
    "# If we want to remove befor and after space of string then we used this operator\n",
    "# 1.strip() = remove before and after space of string\n",
    "# 2.lstrip() = remove left hand side space of string\n",
    "# 3.lstrip() = remove left hand side space of string"
   ]
  },
  {
   "cell_type": "code",
   "execution_count": 31,
   "metadata": {},
   "outputs": [
    {
     "name": "stdout",
     "output_type": "stream",
     "text": [
      "    Techno comp academy    \n",
      "Techno comp academy\n",
      "    Techno comp academy     Pune\n",
      "Techno comp academy Pune\n"
     ]
    }
   ],
   "source": [
    "#strip()\n",
    "s=\"    Techno comp academy    \"\n",
    "print(s)\n",
    "print(s.strip())\n",
    "print(s,\"Pune\")\n",
    "print(s.strip(),\"Pune\")"
   ]
  },
  {
   "cell_type": "code",
   "execution_count": 32,
   "metadata": {},
   "outputs": [
    {
     "name": "stdout",
     "output_type": "stream",
     "text": [
      "    Techno comp academy    \n",
      "Techno comp academy    \n",
      "    Techno comp academy     Pune\n",
      "Techno comp academy     Pune\n"
     ]
    }
   ],
   "source": [
    "#lstrip()\n",
    "s=\"    Techno comp academy    \"\n",
    "print(s)\n",
    "print(s.lstrip())\n",
    "print(s,\"Pune\")\n",
    "print(s.lstrip(),\"Pune\")"
   ]
  },
  {
   "cell_type": "code",
   "execution_count": 33,
   "metadata": {},
   "outputs": [
    {
     "name": "stdout",
     "output_type": "stream",
     "text": [
      "    Techno comp academy    \n",
      "    Techno comp academy\n",
      "    Techno comp academy     Pune\n",
      "    Techno comp academy Pune\n"
     ]
    }
   ],
   "source": [
    "#rstrip()\n",
    "s=\"    Techno comp academy    \"\n",
    "print(s)\n",
    "print(s.rstrip())\n",
    "print(s,\"Pune\")\n",
    "print(s.rstrip(),\"Pune\")"
   ]
  },
  {
   "cell_type": "code",
   "execution_count": null,
   "metadata": {},
   "outputs": [],
   "source": [
    "#Manipulating case of each letter im string\n",
    "# 1.lower()\n",
    "# 2.islower()\n",
    "# 3.upper()\n",
    "# 4.isupper()\n",
    "# 5.swapcase() : conver lower into upper and vice versa\n",
    "# 6.title() : make first leterv of  every word is capital\n",
    "# 7.istitle :\n",
    "# 8.capitalize() : Function will make the first letter in the first Word as Upper  case letter\n"
   ]
  },
  {
   "cell_type": "code",
   "execution_count": 37,
   "metadata": {},
   "outputs": [
    {
     "name": "stdout",
     "output_type": "stream",
     "text": [
      "Lower case : aniket kailas jumde \n",
      "Upper case : ANIKET KAILAS JUMDE \n",
      "Is All lower : False\n",
      "Is All upper : False\n",
      "Swap case : aNIKET KAILAS JUMDE \n",
      "title case : Aniket Kailas Jumde \n",
      "All is in title case :  False\n",
      "Capitalize case : Aniket kailas jumde \n"
     ]
    }
   ],
   "source": [
    "s=\"Aniket kailas jumde \"\n",
    "print(\"Lower case :\",s.lower())\n",
    "print(\"Upper case :\",s.upper())\n",
    "print(\"Is All lower :\",s.islower())\n",
    "print(\"Is All upper :\",s.isupper())\n",
    "print(\"Swap case :\",s.swapcase())\n",
    "print(\"title case :\",s.title())\n",
    "print(\"All is in title case : \",s.istitle())\n",
    "print(\"Capitalize case :\",s.capitalize())"
   ]
  },
  {
   "cell_type": "code",
   "execution_count": 39,
   "metadata": {},
   "outputs": [],
   "source": [
    "#Check digits alphbet and alphanumeric in string\n",
    "#1.isaplha()\n",
    "#2.isalnum()\n",
    "#3.isdigit()"
   ]
  },
  {
   "cell_type": "code",
   "execution_count": 44,
   "metadata": {},
   "outputs": [
    {
     "name": "stdout",
     "output_type": "stream",
     "text": [
      "All letter are alphabet : True\n",
      "All letter are alphabet : False\n"
     ]
    }
   ],
   "source": [
    "#isalpha()\n",
    "s=\"AniketJumde\"\n",
    "print(\"All letter are alphabet :\",s.isalpha()) # Without space \n",
    "s=\"Aniket Jumde23\"\n",
    "print(\"All letter are alphabet :\",s.isalpha())"
   ]
  },
  {
   "cell_type": "code",
   "execution_count": 52,
   "metadata": {},
   "outputs": [
    {
     "name": "stdout",
     "output_type": "stream",
     "text": [
      "All letter are alphabet : True\n",
      "All letter are alphabet : False\n"
     ]
    }
   ],
   "source": [
    "#isalphanum()\n",
    "s=\"Aniket2324\"\n",
    "print(\"All letter are alphabet and digit :\",s.isalnum())\n",
    "s=\"455ad@\"\n",
    "print(\"All letter are alphabet and digit :\",s.isalnum()) "
   ]
  },
  {
   "cell_type": "code",
   "execution_count": 55,
   "metadata": {},
   "outputs": [
    {
     "name": "stdout",
     "output_type": "stream",
     "text": [
      "All are digit : True\n",
      "All are digit : False\n"
     ]
    }
   ],
   "source": [
    "#isdigit()\n",
    "s=\"895752\"\n",
    "print(\"All are digit :\",s.isdigit())\n",
    "s=\"895752AJ\"\n",
    "print(\"All are digit :\",s.isdigit())"
   ]
  },
  {
   "cell_type": "code",
   "execution_count": null,
   "metadata": {},
   "outputs": [],
   "source": []
  },
  {
   "cell_type": "code",
   "execution_count": null,
   "metadata": {},
   "outputs": [],
   "source": []
  }
 ],
 "metadata": {
  "kernelspec": {
   "display_name": "Python 3 (ipykernel)",
   "language": "python",
   "name": "python3"
  },
  "language_info": {
   "codemirror_mode": {
    "name": "ipython",
    "version": 3
   },
   "file_extension": ".py",
   "mimetype": "text/x-python",
   "name": "python",
   "nbconvert_exporter": "python",
   "pygments_lexer": "ipython3",
   "version": "3.12.4"
  }
 },
 "nbformat": 4,
 "nbformat_minor": 4
}
