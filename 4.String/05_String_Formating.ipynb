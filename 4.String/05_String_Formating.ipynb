{
 "cells": [
  {
   "cell_type": "code",
   "execution_count": 2,
   "metadata": {},
   "outputs": [
    {
     "name": "stdin",
     "output_type": "stream",
     "text": [
      "Enter the tag : a\n",
      "Enter the text : aniket\n"
     ]
    },
    {
     "name": "stdout",
     "output_type": "stream",
     "text": [
      "<a> aniket <a>\n"
     ]
    }
   ],
   "source": [
    "tag=input(\"Enter the tag :\")\n",
    "text=input(\"Enter the text :\")\n",
    "print(\"<{0}> {1} <{2}>\".format(tag,text,tag))\n",
    "\n"
   ]
  },
  {
   "cell_type": "code",
   "execution_count": 6,
   "metadata": {},
   "outputs": [
    {
     "name": "stdout",
     "output_type": "stream",
     "text": [
      "My name is Aniket I live in Pune\n",
      "My name is Pradeep I live in Beed\n",
      "My name is AJ I live in Mumbai\n"
     ]
    }
   ],
   "source": [
    "#Formating the string\n",
    "name=\"Pradeep\"\n",
    "city=\"Beed\"\n",
    "print(\"My name is {} I live in {}\".format(\"Aniket\",\"Pune\"))\n",
    "print(\"My name is {0} I live in {1}\".format(name,city))\n",
    "print(\"My name is {a} I live in {b}\".format(a=\"AJ\",b=\"Mumbai\"))\n"
   ]
  },
  {
   "cell_type": "code",
   "execution_count": 8,
   "metadata": {},
   "outputs": [
    {
     "name": "stdin",
     "output_type": "stream",
     "text": [
      "Enter the number : 4566\n"
     ]
    },
    {
     "name": "stdout",
     "output_type": "stream",
     "text": [
      "Decimal number : 4566\n",
      "Fixed point number :4566.000000 \n",
      "Binary number :1000111010110\n",
      "Octal number :10726\n",
      "Hexadecimal number :11D6\n"
     ]
    }
   ],
   "source": [
    "#Formating number\n",
    "num=int(input(\"Enter the number :\"))\n",
    "print(\"Decimal number : {:d}\".format(num))\n",
    "print(\"Fixed point number :{:f} \".format(num))\n",
    "print(\"Binary number :{:b}\".format(num))\n",
    "print(\"Octal number :{:o}\".format(num))\n",
    "print(\"Hexadecimal number :{:X}\".format(num))\n"
   ]
  },
  {
   "cell_type": "code",
   "execution_count": 12,
   "metadata": {},
   "outputs": [
    {
     "name": "stdin",
     "output_type": "stream",
     "text": [
      "Enter the number : 156368962\n"
     ]
    },
    {
     "name": "stdout",
     "output_type": "stream",
     "text": [
      "Decimal number : 156368962\n",
      "Decimal number : 156368962\n",
      "Decimal number : 156368962\n",
      "Decimal number : 156368962.000\n",
      "Decimal number : 156368962\n"
     ]
    }
   ],
   "source": [
    "#formating the number\n",
    "\n",
    "num=int(input(\"Enter the number :\"))\n",
    "print(\"Decimal number : {:d}\".format(num))\n",
    "print(\"Decimal number : {:5d}\".format(num))\n",
    "print(\"Decimal number : {:0d}\".format(num))\n",
    "print(\"Decimal number : {:05.3f}\".format(num))\n",
    "print(\"Decimal number : {:07d}\".format(num))\n",
    "\n"
   ]
  },
  {
   "cell_type": "code",
   "execution_count": 15,
   "metadata": {},
   "outputs": [
    {
     "name": "stdout",
     "output_type": "stream",
     "text": [
      "int value with signed : +1452\n",
      "int value with signed : -1452\n",
      "float value with signed : +1452.256000\n",
      "float value with signed : -1452.245000\n"
     ]
    }
   ],
   "source": [
    "#Number formating for Signed number\n",
    "print(\"int value with signed : {:+d}\".format(1452))\n",
    "print(\"int value with signed : {:+d}\".format(-1452))\n",
    "print(\"float value with signed : {:+f}\".format(1452.256))\n",
    "print(\"float value with signed : {:+f}\".format(-1452.245))"
   ]
  },
  {
   "cell_type": "code",
   "execution_count": 27,
   "metadata": {},
   "outputs": [
    {
     "name": "stdout",
     "output_type": "stream",
     "text": [
      "  789\n",
      "00789\n",
      "789  \n",
      "78900\n",
      "  789\n",
      "00789\n",
      "07890\n",
      "- 789\n",
      "+ 789\n",
      "789.456   \n",
      "-  789.456\n"
     ]
    }
   ],
   "source": [
    "#Number formating with alignment\n",
    "print(\"{:5d}\".format(789))\n",
    "print(\"{:05d}\".format(789))\n",
    "print(\"{:<5d}\".format(789))\n",
    "print(\"{:<05d}\".format(789))\n",
    "print(\"{:>5d}\".format(789))\n",
    "print(\"{:>05d}\".format(789))\n",
    "print(\"{:^05d}\".format(789))\n",
    "print(\"{:=5d}\".format(-789))\n",
    "print(\"{:=+5d}\".format(789))\n",
    "print(\"{:<10.3f}\".format(789.4555188))\n",
    "print(\"{:=10.3f}\".format(-789.4555188))\n"
   ]
  },
  {
   "cell_type": "code",
   "execution_count": 35,
   "metadata": {},
   "outputs": [
    {
     "name": "stdout",
     "output_type": "stream",
     "text": [
      "   12\n",
      "TCA  \n",
      "TCA  \n",
      "TCA**\n",
      "  TCA\n",
      "**TCA\n",
      "*TCA*\n"
     ]
    }
   ],
   "source": [
    "#String formating with Format\n",
    "print(\"{:5d}\".format(12))\n",
    "print(\"{:5}\".format(\"TCA\"))\n",
    "print(\"{:<5}\".format(\"TCA\"))\n",
    "print(\"{:*<5}\".format(\"TCA\"))\n",
    "print(\"{:>5}\".format(\"TCA\"))\n",
    "print(\"{:*>5}\".format(\"TCA\"))\n",
    "print(\"{:*^5}\".format(\"TCA\"))\n",
    "\n",
    "\n"
   ]
  },
  {
   "cell_type": "code",
   "execution_count": null,
   "metadata": {},
   "outputs": [],
   "source": []
  }
 ],
 "metadata": {
  "kernelspec": {
   "display_name": "Python 3 (ipykernel)",
   "language": "python",
   "name": "python3"
  },
  "language_info": {
   "codemirror_mode": {
    "name": "ipython",
    "version": 3
   },
   "file_extension": ".py",
   "mimetype": "text/x-python",
   "name": "python",
   "nbconvert_exporter": "python",
   "pygments_lexer": "ipython3",
   "version": "3.12.4"
  }
 },
 "nbformat": 4,
 "nbformat_minor": 4
}
