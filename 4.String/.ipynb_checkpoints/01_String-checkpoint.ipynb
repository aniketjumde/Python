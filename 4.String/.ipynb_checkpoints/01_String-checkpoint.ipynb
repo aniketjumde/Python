{
 "cells": [
  {
   "cell_type": "markdown",
   "id": "933be8c3-4bd0-4538-92e3-a036702f81af",
   "metadata": {},
   "source": []
  },
  {
   "cell_type": "code",
   "execution_count": 1,
   "id": "4b11b5ec-66ff-4abe-838a-23f4309ea1a1",
   "metadata": {},
   "outputs": [],
   "source": [
    "# String Type"
   ]
  },
  {
   "cell_type": "code",
   "execution_count": 2,
   "id": "64819869-dc60-4da4-a4d8-7b252e16a846",
   "metadata": {},
   "outputs": [
    {
     "name": "stdout",
     "output_type": "stream",
     "text": [
      "Aniket\n",
      "<class 'str'>\n"
     ]
    }
   ],
   "source": [
    "s='Aniket'\n",
    "print(s)\n",
    "print(type(s))"
   ]
  },
  {
   "cell_type": "code",
   "execution_count": 3,
   "id": "e36f55b6-7da8-4b10-bff4-294d00e4af7b",
   "metadata": {},
   "outputs": [
    {
     "name": "stdout",
     "output_type": "stream",
     "text": [
      "Aniket\n",
      "<class 'str'>\n"
     ]
    }
   ],
   "source": [
    "s=\"Aniket\"\n",
    "print(s)\n",
    "print(type(s))"
   ]
  },
  {
   "cell_type": "code",
   "execution_count": 4,
   "id": "b52c4e24-1e87-40e2-b2c7-c220626894f9",
   "metadata": {},
   "outputs": [
    {
     "name": "stdout",
     "output_type": "stream",
     "text": [
      "Aniket\n",
      "<class 'str'>\n"
     ]
    }
   ],
   "source": [
    "s='''Aniket'''\n",
    "print(s)\n",
    "print(type(s))"
   ]
  },
  {
   "cell_type": "code",
   "execution_count": 5,
   "id": "760a068b-182d-4731-a3e4-c3be7950cc5f",
   "metadata": {},
   "outputs": [],
   "source": [
    "# Single Quoted and Double qutoed string are single line string\n",
    "#a= 'Aniket jumde'\n",
    "#a= \"Aniket jumde\"\n",
    "# but if you want to represent multiline string then you have  to use tripe quote"
   ]
  },
  {
   "cell_type": "code",
   "execution_count": 6,
   "id": "5fc5faf4-09d3-427e-b2c6-6045596f52cf",
   "metadata": {},
   "outputs": [
    {
     "name": "stdout",
     "output_type": "stream",
     "text": [
      " \n",
      "    Hello everyone my name is aniket\n",
      "    i am from buldhana\n",
      "    i am pursuing b.tech in Information technology at  RSCOE\n",
      "    \n",
      "<class 'str'>\n"
     ]
    }
   ],
   "source": [
    "# but if you want to represent multiline string then you have  to use tripe quote\n",
    "a= ''' \n",
    "    Hello everyone my name is aniket\n",
    "    i am from buldhana\n",
    "    i am pursuing b.tech in Information technology at  RSCOE\n",
    "    '''\n",
    "print(a)\n",
    "print(type(a))"
   ]
  },
  {
   "cell_type": "code",
   "execution_count": 7,
   "id": "a6dbb459-64ac-4b9a-b900-bac18e4125bd",
   "metadata": {},
   "outputs": [
    {
     "name": "stdout",
     "output_type": "stream",
     "text": [
      "A\n",
      "<class 'str'>\n"
     ]
    }
   ],
   "source": [
    "a='A'\n",
    "print(a)\n",
    "print(type(a))"
   ]
  },
  {
   "cell_type": "code",
   "execution_count": 8,
   "id": "ea8f6f9a-a038-40c4-b136-1e2af388f694",
   "metadata": {},
   "outputs": [],
   "source": [
    "# What is a String?\n",
    "# String is a sequence of character\n",
    "# a=\"TCA\"\n",
    "# here T,C,A.."
   ]
  },
  {
   "cell_type": "code",
   "execution_count": 9,
   "id": "53a57791-065c-4c16-aa55-e41b51bda697",
   "metadata": {},
   "outputs": [
    {
     "name": "stdout",
     "output_type": "stream",
     "text": [
      "Techno \"comp\" academy\n",
      "<class 'str'>\n"
     ]
    }
   ],
   "source": [
    "a='Techno \"comp\" academy'\n",
    "print(a)\n",
    "print(type(a))"
   ]
  },
  {
   "cell_type": "code",
   "execution_count": 10,
   "id": "09f12292-b1ef-45d9-ab21-b6134f196c50",
   "metadata": {},
   "outputs": [
    {
     "name": "stdout",
     "output_type": "stream",
     "text": [
      "Techno 'comp' academy\n",
      "<class 'str'>\n"
     ]
    }
   ],
   "source": [
    "a='Techno \\'comp\\' academy'\n",
    "print(a)\n",
    "print(type(a))"
   ]
  },
  {
   "cell_type": "code",
   "execution_count": 11,
   "id": "b97b3f35-8fe2-44f2-8d8b-1bd14b7cc069",
   "metadata": {},
   "outputs": [
    {
     "name": "stdout",
     "output_type": "stream",
     "text": [
      "Techno 'comp' academy\n",
      "<class 'str'>\n"
     ]
    }
   ],
   "source": [
    "a=\"Techno \\'comp\\' academy\"\n",
    "print(a)\n",
    "print(type(a))"
   ]
  },
  {
   "cell_type": "code",
   "execution_count": 12,
   "id": "cf543d27-426d-4ea5-b7e2-1ad6ac919c80",
   "metadata": {},
   "outputs": [
    {
     "name": "stdout",
     "output_type": "stream",
     "text": [
      "Techno \"comp\" academy\n",
      "<class 'str'>\n"
     ]
    }
   ],
   "source": [
    "a=\"Techno \\\"comp\\\" academy\"\n",
    "print(a)\n",
    "print(type(a))"
   ]
  },
  {
   "cell_type": "code",
   "execution_count": 13,
   "id": "1e5124ac-9b36-4776-b20a-3ad1e14d77bc",
   "metadata": {},
   "outputs": [
    {
     "name": "stdout",
     "output_type": "stream",
     "text": [
      "Techno '''comp''' Academy \n",
      "<class 'str'>\n"
     ]
    }
   ],
   "source": [
    "a='''Techno \\'''comp\\''' Academy '''\n",
    "print(a)\n",
    "print(type(a))"
   ]
  },
  {
   "cell_type": "code",
   "execution_count": 14,
   "id": "f0725767-7dc7-4faf-90e1-08b1cab0fe73",
   "metadata": {},
   "outputs": [
    {
     "name": "stdout",
     "output_type": "stream",
     "text": [
      "TCA\n",
      "3\n",
      "6\n"
     ]
    }
   ],
   "source": [
    "a=\"TCA\"\n",
    "print(a)\n",
    "print(len(a))\n",
    "print(len(\"Aniket\"))\n"
   ]
  },
  {
   "cell_type": "code",
   "execution_count": 15,
   "id": "7854b2c0-d832-4f05-9017-55dac8f2be68",
   "metadata": {},
   "outputs": [
    {
     "name": "stdout",
     "output_type": "stream",
     "text": [
      "12\n"
     ]
    }
   ],
   "source": [
    "#print the length of given string\n",
    "str=\"Aniket Jumde\"\n",
    "print(len(str))"
   ]
  },
  {
   "cell_type": "markdown",
   "id": "d40f2ebb",
   "metadata": {},
   "source": []
  },
  {
   "cell_type": "code",
   "execution_count": 16,
   "id": "920668d7-cd7c-4fb3-b6f2-d24f8f79f8d7",
   "metadata": {},
   "outputs": [
    {
     "name": "stdout",
     "output_type": "stream",
     "text": [
      "c\n",
      "e\n",
      "19\n",
      "y\n"
     ]
    }
   ],
   "source": [
    "str=\"Techno comp academy\"\n",
    "print(str[13])\n",
    "print(str[-3])\n",
    "print(len(str))\n",
    "print(str[18])"
   ]
  },
  {
   "cell_type": "code",
   "execution_count": 17,
   "id": "9ac9a3f0-356d-41ab-a048-11b91eda697e",
   "metadata": {},
   "outputs": [
    {
     "ename": "IndexError",
     "evalue": "string index out of range",
     "output_type": "error",
     "traceback": [
      "\u001b[1;31m---------------------------------------------------------------------------\u001b[0m",
      "\u001b[1;31mIndexError\u001b[0m                                Traceback (most recent call last)",
      "Cell \u001b[1;32mIn[17], line 2\u001b[0m\n\u001b[0;32m      1\u001b[0m \u001b[38;5;28mstr\u001b[39m\u001b[38;5;241m=\u001b[39m\u001b[38;5;124m\"\u001b[39m\u001b[38;5;124mTechno comp academy\u001b[39m\u001b[38;5;124m\"\u001b[39m\n\u001b[1;32m----> 2\u001b[0m \u001b[38;5;28mprint\u001b[39m(\u001b[38;5;28;43mstr\u001b[39;49m\u001b[43m[\u001b[49m\u001b[38;5;241;43m20\u001b[39;49m\u001b[43m]\u001b[49m)\n",
      "\u001b[1;31mIndexError\u001b[0m: string index out of range"
     ]
    }
   ],
   "source": [
    "str=\"Techno comp academy\"\n",
    "print(str[20])"
   ]
  },
  {
   "cell_type": "code",
   "execution_count": 27,
   "id": "396c6c1e-c2b0-47dd-a305-5b8bfc04419e",
   "metadata": {},
   "outputs": [
    {
     "ename": "IndexError",
     "evalue": "string index out of range",
     "output_type": "error",
     "traceback": [
      "\u001b[1;31m---------------------------------------------------------------------------\u001b[0m",
      "\u001b[1;31mIndexError\u001b[0m                                Traceback (most recent call last)",
      "Cell \u001b[1;32mIn[27], line 2\u001b[0m\n\u001b[0;32m      1\u001b[0m \u001b[38;5;28mstr\u001b[39m\u001b[38;5;241m=\u001b[39m\u001b[38;5;124m\"\u001b[39m\u001b[38;5;124mTechno comp academy\u001b[39m\u001b[38;5;124m\"\u001b[39m\n\u001b[1;32m----> 2\u001b[0m \u001b[38;5;28mprint\u001b[39m(\u001b[38;5;28;43mstr\u001b[39;49m\u001b[43m[\u001b[49m\u001b[38;5;241;43m-\u001b[39;49m\u001b[38;5;241;43m21\u001b[39;49m\u001b[43m]\u001b[49m)\n",
      "\u001b[1;31mIndexError\u001b[0m: string index out of range"
     ]
    }
   ],
   "source": [
    "str=\"Techno comp academy\"\n",
    "print(str[-21])"
   ]
  },
  {
   "cell_type": "code",
   "execution_count": 28,
   "id": "adc63435-a81e-4794-8e70-db6a0adc258f",
   "metadata": {},
   "outputs": [
    {
     "name": "stdout",
     "output_type": "stream",
     "text": [
      "6\n",
      "3\n"
     ]
    }
   ],
   "source": [
    " # len() function is used to findount length of string\n",
    "str=\"Aniket\"\n",
    "print(len(str))\n",
    "print(len(\"TCA\"))"
   ]
  },
  {
   "cell_type": "code",
   "execution_count": 29,
   "id": "2548254a-7ca9-428f-a3a1-2c959c534fe1",
   "metadata": {},
   "outputs": [
    {
     "name": "stdout",
     "output_type": "stream",
     "text": [
      "A\n",
      "n\n",
      "i\n",
      "k\n",
      "e\n",
      "t\n"
     ]
    }
   ],
   "source": [
    "str='Aniket'\n",
    "for i in range(0,len(str)):\n",
    "    print(str[i])"
   ]
  },
  {
   "cell_type": "code",
   "execution_count": 30,
   "id": "5d5f97e8",
   "metadata": {},
   "outputs": [
    {
     "name": "stdout",
     "output_type": "stream",
     "text": [
      "A\n",
      "n\n",
      "i\n",
      "k\n",
      "e\n",
      "t\n"
     ]
    }
   ],
   "source": [
    "str='Aniket'\n",
    "for i in range(len(str)):\n",
    "    print(str[i])"
   ]
  },
  {
   "cell_type": "code",
   "execution_count": 36,
   "id": "95e9af99",
   "metadata": {},
   "outputs": [
    {
     "name": "stdout",
     "output_type": "stream",
     "text": [
      "t\n",
      "e\n",
      "k\n",
      "i\n",
      "n\n",
      "A\n"
     ]
    }
   ],
   "source": [
    "str='Aniket'\n",
    "for i in range(1,len(str)+1):\n",
    "    print(str[-i])"
   ]
  },
  {
   "cell_type": "code",
   "execution_count": 38,
   "id": "e48b2ec4",
   "metadata": {},
   "outputs": [
    {
     "name": "stdout",
     "output_type": "stream",
     "text": [
      "t\n",
      "e\n",
      "k\n",
      "i\n",
      "n\n",
      "A\n"
     ]
    }
   ],
   "source": [
    "str='Aniket'\n",
    "for i in range(-1,-(len(str)+1),-1):\n",
    "    print(str[i])"
   ]
  },
  {
   "cell_type": "code",
   "execution_count": 42,
   "id": "57677f18",
   "metadata": {},
   "outputs": [
    {
     "name": "stdout",
     "output_type": "stream",
     "text": [
      "t\n",
      "e\n",
      "k\n",
      "i\n",
      "n\n",
      "A\n"
     ]
    }
   ],
   "source": [
    "str='Aniket'\n",
    "for i in range(len(str)-1,-1,-1):\n",
    "    print(str[i])"
   ]
  },
  {
   "cell_type": "code",
   "execution_count": 44,
   "id": "d0f9f44e",
   "metadata": {},
   "outputs": [
    {
     "name": "stdout",
     "output_type": "stream",
     "text": [
      "A\n",
      "n\n",
      "i\n",
      "k\n",
      "e\n",
      "t\n"
     ]
    }
   ],
   "source": [
    "str='Aniket'\n",
    "for i in str:\n",
    "    print(i)"
   ]
  },
  {
   "cell_type": "code",
   "execution_count": 46,
   "id": "a069c48b",
   "metadata": {},
   "outputs": [
    {
     "name": "stdout",
     "output_type": "stream",
     "text": [
      "A\n",
      "n\n",
      "i\n",
      "k\n",
      "e\n",
      "t\n"
     ]
    }
   ],
   "source": [
    "str='Aniket'\n",
    "for i in str:\n",
    "    print(i)"
   ]
  },
  {
   "cell_type": "code",
   "execution_count": 47,
   "id": "b3e0b4d8",
   "metadata": {},
   "outputs": [
    {
     "name": "stdout",
     "output_type": "stream",
     "text": [
      "6\n"
     ]
    }
   ],
   "source": [
    "str=\"Aniket\"\n",
    "cnt=0\n",
    "for i in str:\n",
    "    cnt=cnt+1\n",
    "print(cnt)"
   ]
  },
  {
   "cell_type": "code",
   "execution_count": null,
   "id": "75fdd246",
   "metadata": {},
   "outputs": [],
   "source": []
  },
  {
   "cell_type": "code",
   "execution_count": null,
   "id": "fdfa3d01",
   "metadata": {},
   "outputs": [],
   "source": []
  },
  {
   "cell_type": "code",
   "execution_count": null,
   "id": "43850704",
   "metadata": {},
   "outputs": [],
   "source": []
  },
  {
   "cell_type": "code",
   "execution_count": null,
   "id": "6ee3be4c",
   "metadata": {},
   "outputs": [],
   "source": []
  }
 ],
 "metadata": {
  "kernelspec": {
   "display_name": "Python 3 (ipykernel)",
   "language": "python",
   "name": "python3"
  },
  "language_info": {
   "codemirror_mode": {
    "name": "ipython",
    "version": 3
   },
   "file_extension": ".py",
   "mimetype": "text/x-python",
   "name": "python",
   "nbconvert_exporter": "python",
   "pygments_lexer": "ipython3",
   "version": "3.12.4"
  }
 },
 "nbformat": 4,
 "nbformat_minor": 5
}
