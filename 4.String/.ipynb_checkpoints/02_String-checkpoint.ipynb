{
 "cells": [
  {
   "cell_type": "code",
   "execution_count": null,
   "metadata": {},
   "outputs": [],
   "source": [
    "#Slice Operator\n",
    "# slice Opertor --> It reture substring from a given string\n",
    " #[start:end:step]"
   ]
  },
  {
   "cell_type": "code",
   "execution_count": null,
   "metadata": {},
   "outputs": [],
   "source": [
    "S=\"Techno\"\n",
    "T=S[3:7:]\n",
    "print(T)"
   ]
  },
  {
   "cell_type": "code",
   "execution_count": null,
   "metadata": {},
   "outputs": [],
   "source": [
    "S=\"Aniket\"\n",
    "T=S[2::]\n",
    "print(T)"
   ]
  },
  {
   "cell_type": "code",
   "execution_count": null,
   "metadata": {},
   "outputs": [],
   "source": [
    "S=\"Aniket\"\n",
    "T=S[0::]\n",
    "print(S)\n",
    "print(T)"
   ]
  },
  {
   "cell_type": "code",
   "execution_count": null,
   "metadata": {},
   "outputs": [],
   "source": [
    "S=\"INDIA\"\n",
    "T=S[-1:-4:-1]\n",
    "print(T)"
   ]
  },
  {
   "cell_type": "code",
   "execution_count": null,
   "metadata": {},
   "outputs": [],
   "source": [
    "S=\"INDIA\"\n",
    "print(S[1])\n",
    "print(S[4])"
   ]
  },
  {
   "cell_type": "code",
   "execution_count": null,
   "metadata": {},
   "outputs": [],
   "source": [
    "S=\"PRADEEP ANIKET KAUSHAL\"\n",
    "T=S[0:1000:]\n",
    "print(T)"
   ]
  },
  {
   "cell_type": "code",
   "execution_count": 2,
   "metadata": {},
   "outputs": [
    {
     "name": "stdin",
     "output_type": "stream",
     "text": [
      "Enter the string : aniket\n"
     ]
    },
    {
     "name": "stdout",
     "output_type": "stream",
     "text": [
      "anet\n"
     ]
    }
   ],
   "source": [
    "# Write a Python program to get a string made of the first 2 and the last 2 chars f\n",
    "# string. If the string length is less than 2, return instead of the empty string\n",
    " \n",
    "S=input(\"Enter the string :\")\n",
    "s_first=S[0:2:]\n",
    "s_last=S[-2::]\n",
    "new_S=s_first+s_last\n",
    "print(new_S)\n",
    " "
   ]
  },
  {
   "cell_type": "code",
   "execution_count": 3,
   "metadata": {},
   "outputs": [
    {
     "name": "stdout",
     "output_type": "stream",
     "text": [
      "et\n"
     ]
    }
   ],
   "source": [
    "#Print last two letter in string \n",
    "str=\"Aniket\"\n",
    "print(str[-2::])"
   ]
  },
  {
   "cell_type": "code",
   "execution_count": 4,
   "metadata": {},
   "outputs": [
    {
     "name": "stdout",
     "output_type": "stream",
     "text": [
      "An\n"
     ]
    }
   ],
   "source": [
    "#print first two letter\n",
    "str=\"Aniket\"\n",
    "print(str[:2:])"
   ]
  },
  {
   "cell_type": "code",
   "execution_count": 8,
   "metadata": {},
   "outputs": [
    {
     "name": "stdin",
     "output_type": "stream",
     "text": [
      "Enter the first string : as\n",
      "Enter the second string : as\n"
     ]
    },
    {
     "name": "stdout",
     "output_type": "stream",
     "text": [
      "as\n",
      "as\n"
     ]
    }
   ],
   "source": [
    " '''\n",
    " Q. Write a Python program to get a single string from two given strings, separated \n",
    "and swap the first two characters of each string\n",
    " Input String    : 'abcd', 'xyz'\n",
    " Expected Result : 'xycd    abz'\n",
    " '''\n",
    "s1=input(\"Enter the first string :\")\n",
    "s2=input(\"Enter the second string :\")\n",
    "new_s1=s2[:2:]+s1[2::]\n",
    "new_s2=s1[:2:]+s2[2::]\n",
    "print(new_s1)\n",
    "print(new_s2)"
   ]
  },
  {
   "cell_type": "code",
   "execution_count": 13,
   "metadata": {},
   "outputs": [
    {
     "name": "stdin",
     "output_type": "stream",
     "text": [
      "Enter the string : abcd\n"
     ]
    },
    {
     "name": "stdout",
     "output_type": "stream",
     "text": [
      "abcding\n"
     ]
    }
   ],
   "source": [
    " '''\n",
    " Write a Python program to add 'ing' at the end of a given string (length should be \n",
    "If the given string already ends with 'ing' then add 'ly' instead. \n",
    "If the string length of the given string is less than 3, leave it unchanged. \n",
    "Input String : 'india'\n",
    " Output : 'indiaing'\n",
    " Input String : 'string'\n",
    " Output : 'stringly\n",
    " '''\n",
    "s=input(\"Enter the string :\")\n",
    "last=s[-3::]\n",
    "if last==\"ing\":\n",
    "    print(s[0::]+\"ly\")\n",
    "else :\n",
    "    print(s[0::]+\"ing\")\n"
   ]
  },
  {
   "cell_type": "code",
   "execution_count": 14,
   "metadata": {},
   "outputs": [],
   "source": [
    "#String Concatenation\n",
    "# In string type we can perform concatenation operator + , *\n",
    "# It is usd in repetation(*)"
   ]
  },
  {
   "cell_type": "code",
   "execution_count": 18,
   "metadata": {},
   "outputs": [
    {
     "name": "stdin",
     "output_type": "stream",
     "text": [
      "Enter the first string  : a\n",
      "Enter the second string : ds\n",
      "Enter the third string  : s\n"
     ]
    },
    {
     "name": "stdout",
     "output_type": "stream",
     "text": [
      "('a', 'ds', 's')\n",
      "adss\n",
      "aaa\n",
      "AniketAniketAniketAniketAniket\n",
      "AniketAniketAniketAniket\n"
     ]
    }
   ],
   "source": [
    "a=input(\"Enter the first string  :\")\n",
    "b=input(\"Enter the second string :\")\n",
    "c=input(\"Enter the third string  :\")\n",
    "s1=a,b,c\n",
    "s2=a+b+c\n",
    "s3=a*3\n",
    "print(s1)\n",
    "print(s2)\n",
    "print(s3)\n",
    "\n",
    "print(\"Aniket\"*5)\n",
    "print(2*\"Aniket\"*2)"
   ]
  },
  {
   "cell_type": "code",
   "execution_count": null,
   "metadata": {},
   "outputs": [],
   "source": []
  }
 ],
 "metadata": {
  "kernelspec": {
   "display_name": "Python 3 (ipykernel)",
   "language": "python",
   "name": "python3"
  },
  "language_info": {
   "codemirror_mode": {
    "name": "ipython",
    "version": 3
   },
   "file_extension": ".py",
   "mimetype": "text/x-python",
   "name": "python",
   "nbconvert_exporter": "python",
   "pygments_lexer": "ipython3",
   "version": "3.12.4"
  }
 },
 "nbformat": 4,
 "nbformat_minor": 4
}
