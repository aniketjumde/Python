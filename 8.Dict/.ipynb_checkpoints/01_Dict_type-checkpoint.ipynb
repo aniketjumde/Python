{
 "cells": [
  {
   "cell_type": "code",
   "execution_count": null,
   "id": "7356c87c-ecee-43d7-a792-1d3822d90d00",
   "metadata": {},
   "outputs": [],
   "source": [
    "#Dictionary is an order sequence pair of key-values pairs\n",
    "#dict is sequence data type is allowed to store element in key value pairs\n",
    "# Syntax : {key1:val1,key2:val2,key3:val3....}"
   ]
  },
  {
   "cell_type": "code",
   "execution_count": 1,
   "id": "6ba24853-b570-4f56-b5ef-0b801c151b99",
   "metadata": {},
   "outputs": [
    {
     "name": "stdout",
     "output_type": "stream",
     "text": [
      "{101: 'AAA', 102: 'BBB', 103: 'CCC', 104: 'DDD'}\n"
     ]
    }
   ],
   "source": [
    "D={101:\"AAA\",102:\"BBB\",103:\"CCC\",104:\"DDD\"}\n",
    "print(D)\n",
    "print(type(D))"
   ]
  },
  {
   "cell_type": "code",
   "execution_count": 2,
   "id": "c19088c0-80e5-4291-808f-4d57d389a3e0",
   "metadata": {},
   "outputs": [
    {
     "name": "stdout",
     "output_type": "stream",
     "text": [
      "{'a': 'AAA', 'b': 'BBB', 'c': 'CCC', 'd': 'DDD'}\n"
     ]
    }
   ],
   "source": [
    "D={'a':\"AAA\",'b':\"BBB\",'c':\"CCC\",'d':\"DDD\"}\n",
    "print(D)\n",
    "print(type(D))"
   ]
  },
  {
   "cell_type": "code",
   "execution_count": null,
   "id": "7a15508f-75ad-40c0-8a36-42a0215a7fe7",
   "metadata": {},
   "outputs": [],
   "source": [
    "#Dictionary can not Store Duplicates \n",
    "D=D={101:\"AAA\",102:\"BBB\",103:\"CCC\",104:\"DDD\",103:\"FFF\"}"
   ]
  },
  {
   "cell_type": "code",
   "execution_count": null,
   "id": "b837a1bb-d039-4fcf-829b-4a807a0113eb",
   "metadata": {},
   "outputs": [],
   "source": []
  }
 ],
 "metadata": {
  "kernelspec": {
   "display_name": "Python 3 (ipykernel)",
   "language": "python",
   "name": "python3"
  },
  "language_info": {
   "codemirror_mode": {
    "name": "ipython",
    "version": 3
   },
   "file_extension": ".py",
   "mimetype": "text/x-python",
   "name": "python",
   "nbconvert_exporter": "python",
   "pygments_lexer": "ipython3",
   "version": "3.12.4"
  }
 },
 "nbformat": 4,
 "nbformat_minor": 5
}
