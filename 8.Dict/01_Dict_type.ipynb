{
 "cells": [
  {
   "cell_type": "code",
   "execution_count": null,
   "id": "7356c87c-ecee-43d7-a792-1d3822d90d00",
   "metadata": {},
   "outputs": [],
   "source": [
    "#Dictionary is an order sequence pair of key-values pairs\n",
    "#dict is sequence data type is allowed to store element in key value pairs\n",
    "# Syntax : {key1:val1,key2:val2,key3:val3....}"
   ]
  },
  {
   "cell_type": "code",
   "execution_count": 1,
   "id": "6ba24853-b570-4f56-b5ef-0b801c151b99",
   "metadata": {},
   "outputs": [
    {
     "name": "stdout",
     "output_type": "stream",
     "text": [
      "{101: 'AAA', 102: 'BBB', 103: 'CCC', 104: 'DDD'}\n"
     ]
    }
   ],
   "source": [
    "D={101:\"AAA\",102:\"BBB\",103:\"CCC\",104:\"DDD\"}\n",
    "print(D)\n",
    "print(type(D))"
   ]
  },
  {
   "cell_type": "code",
   "execution_count": 67,
   "id": "ba36b7b1-0df4-4c1b-b2c1-5e4000bfcfe4",
   "metadata": {},
   "outputs": [
    {
     "name": "stdout",
     "output_type": "stream",
     "text": [
      "{'a': 'AAA', 'b': 'BBB', 'c': 'CCC'}\n"
     ]
    }
   ],
   "source": [
    "# Dictionary key he alphabet use karu sakto ka? e.g\n",
    "D = {'a':'AAA','b':'BBB','c':'CCC'}\n",
    "print(D)"
   ]
  },
  {
   "cell_type": "code",
   "execution_count": 2,
   "id": "c19088c0-80e5-4291-808f-4d57d389a3e0",
   "metadata": {},
   "outputs": [
    {
     "name": "stdout",
     "output_type": "stream",
     "text": [
      "{'a': 'AAA', 'b': 'BBB', 'c': 'CCC', 'd': 'DDD'}\n"
     ]
    }
   ],
   "source": [
    "D={'a':\"AAA\",'b':\"BBB\",'c':\"CCC\",'d':\"DDD\"}\n",
    "print(D)\n",
    "print(type(D))"
   ]
  },
  {
   "cell_type": "code",
   "execution_count": 3,
   "id": "7a15508f-75ad-40c0-8a36-42a0215a7fe7",
   "metadata": {},
   "outputs": [
    {
     "name": "stdout",
     "output_type": "stream",
     "text": [
      "{101: 'AAA', 102: 'BBB', 103: 'FFF', 104: 'DDD'}\n"
     ]
    }
   ],
   "source": [
    "#Dictionary can not Store Duplicates \n",
    "D={101:\"AAA\",102:\"BBB\",103:\"CCC\",104:\"DDD\",103:\"FFF\"}\n",
    "print(D)"
   ]
  },
  {
   "cell_type": "code",
   "execution_count": 4,
   "id": "b837a1bb-d039-4fcf-829b-4a807a0113eb",
   "metadata": {},
   "outputs": [
    {
     "name": "stdout",
     "output_type": "stream",
     "text": [
      "{1: 'AAA', 'aniket': 234, 2: 'I love my country'}\n"
     ]
    }
   ],
   "source": [
    "D={1:\"AAA\",'aniket':234,2:'I love my country'}\n",
    "print(D)"
   ]
  },
  {
   "cell_type": "code",
   "execution_count": 6,
   "id": "65cab208-a526-4c96-90ce-a20167109366",
   "metadata": {},
   "outputs": [
    {
     "name": "stdout",
     "output_type": "stream",
     "text": [
      "{}\n",
      "<class 'dict'>\n",
      "{}\n",
      "<class 'dict'>\n"
     ]
    }
   ],
   "source": [
    "#Emty Dictionary is Created\n",
    "\n",
    "d1={}\n",
    "print(d1)\n",
    "print(type(d1))\n",
    "\n",
    "d2=dict()\n",
    "print(d2)\n",
    "print(type(d2))"
   ]
  },
  {
   "cell_type": "code",
   "execution_count": 32,
   "id": "95ea6e26-78db-4b79-baf8-670c1c54408f",
   "metadata": {},
   "outputs": [
    {
     "name": "stdout",
     "output_type": "stream",
     "text": [
      "{101: 'I am int', 2.5: 'I am float', (10, 20): 'I am a tuple'}\n"
     ]
    }
   ],
   "source": [
    " # key is unique\n",
    " # Key is immutable\n",
    " # Key is hashable\n",
    "\n",
    "d = {101:'I am int', 2.5 : 'I am float', (10,20): 'I am a tuple'}\n",
    "print(d)"
   ]
  },
  {
   "cell_type": "code",
   "execution_count": 34,
   "id": "2848e1f0-e0f6-46a7-b77d-f5cd7c218ddb",
   "metadata": {},
   "outputs": [
    {
     "ename": "TypeError",
     "evalue": "unhashable type: 'list'",
     "output_type": "error",
     "traceback": [
      "\u001b[1;31m---------------------------------------------------------------------------\u001b[0m",
      "\u001b[1;31mTypeError\u001b[0m                                 Traceback (most recent call last)",
      "Cell \u001b[1;32mIn[34], line 1\u001b[0m\n\u001b[1;32m----> 1\u001b[0m S\u001b[38;5;241m=\u001b[39m{(\u001b[38;5;241m11\u001b[39m,\u001b[38;5;241m22\u001b[39m),(\u001b[38;5;241m33\u001b[39m,\u001b[38;5;241m44\u001b[39m),[\u001b[38;5;241m44\u001b[39m,\u001b[38;5;241m55\u001b[39m]}\n\u001b[0;32m      2\u001b[0m \u001b[38;5;28mprint\u001b[39m(S)\n",
      "\u001b[1;31mTypeError\u001b[0m: unhashable type: 'list'"
     ]
    }
   ],
   "source": [
    "S={(11,22),(33,44),[44,55]}\n",
    "print(S)"
   ]
  },
  {
   "cell_type": "code",
   "execution_count": 33,
   "id": "c2408833-1e84-42f2-9683-7d9a14eaea82",
   "metadata": {},
   "outputs": [
    {
     "ename": "TypeError",
     "evalue": "unhashable type: 'list'",
     "output_type": "error",
     "traceback": [
      "\u001b[1;31m---------------------------------------------------------------------------\u001b[0m",
      "\u001b[1;31mTypeError\u001b[0m                                 Traceback (most recent call last)",
      "Cell \u001b[1;32mIn[33], line 1\u001b[0m\n\u001b[1;32m----> 1\u001b[0m d \u001b[38;5;241m=\u001b[39m {\u001b[38;5;241m101\u001b[39m:\u001b[38;5;124m'\u001b[39m\u001b[38;5;124mI am int\u001b[39m\u001b[38;5;124m'\u001b[39m, \u001b[38;5;241m2.5\u001b[39m : \u001b[38;5;124m'\u001b[39m\u001b[38;5;124mI am float\u001b[39m\u001b[38;5;124m'\u001b[39m, [\u001b[38;5;241m10\u001b[39m,\u001b[38;5;241m20\u001b[39m]: \u001b[38;5;124m'\u001b[39m\u001b[38;5;124mI am a tuple\u001b[39m\u001b[38;5;124m'\u001b[39m}\n\u001b[0;32m      2\u001b[0m \u001b[38;5;28mprint\u001b[39m(d)\n",
      "\u001b[1;31mTypeError\u001b[0m: unhashable type: 'list'"
     ]
    }
   ],
   "source": [
    "d = {101:'I am int', 2.5 : 'I am float', [10,20]: 'I am a tuple'}\n",
    "print(d)"
   ]
  },
  {
   "cell_type": "code",
   "execution_count": 35,
   "id": "20131c5d-1e64-41cf-824d-fb5dbb54a418",
   "metadata": {},
   "outputs": [
    {
     "name": "stdout",
     "output_type": "stream",
     "text": [
      "{101: ['AAA', 60], 102: ['BBB', 70]}\n"
     ]
    }
   ],
   "source": [
    "record_of_Students = [(101,['AAA', 60] ) , (102,['BBB', 70] ) ]\n",
    "D = dict(record_of_Students)\n",
    "print(D)"
   ]
  },
  {
   "cell_type": "code",
   "execution_count": 8,
   "id": "5f427707-48f1-4d78-bc5e-d39ce781e99b",
   "metadata": {},
   "outputs": [
    {
     "name": "stdout",
     "output_type": "stream",
     "text": [
      "[(1, 11), (2, 22), (3, 33), (4, 44)]\n",
      "<class 'list'>\n",
      "{1: 11, 2: 22, 3: 33, 4: 44}\n",
      "<class 'dict'>\n"
     ]
    }
   ],
   "source": [
    "#Conver list Tuple Set To Dictionary\n",
    "L=[(1,11),(2,22),(3,33),(4,44)]\n",
    "print(L)\n",
    "print(type(L))\n",
    "\n",
    "D=dict(L)\n",
    "print(D)\n",
    "print(type(D))"
   ]
  },
  {
   "cell_type": "code",
   "execution_count": 10,
   "id": "e192ef96-bbfd-4c5c-99cf-1fb0af71fba2",
   "metadata": {},
   "outputs": [
    {
     "name": "stdout",
     "output_type": "stream",
     "text": [
      "([1, 11], [2, 22], [3, 33], [4, 44])\n",
      "<class 'tuple'>\n",
      "{1: 11, 2: 22, 3: 33, 4: 44}\n",
      "<class 'dict'>\n"
     ]
    }
   ],
   "source": [
    "T=([1,11],[2,22],[3,33],[4,44])\n",
    "print(T)\n",
    "print(type(T))\n",
    "\n",
    "D=dict(T)\n",
    "print(D)\n",
    "print(type(D))"
   ]
  },
  {
   "cell_type": "code",
   "execution_count": 36,
   "id": "d1166b03-295f-42c7-87e1-73e3d6f4e68d",
   "metadata": {},
   "outputs": [
    {
     "name": "stdout",
     "output_type": "stream",
     "text": [
      "{101: 'AAA', 102: 'BBB'}\n"
     ]
    }
   ],
   "source": [
    "D = {101:'AAA', 102:'BBB'}\n",
    "DC =D.copy()    # Here you will get DEEP COPY bez values are immutable\n",
    "print(DC)"
   ]
  },
  {
   "cell_type": "code",
   "execution_count": 37,
   "id": "fe459995-b427-4e47-8ca5-ac7814f688fc",
   "metadata": {},
   "outputs": [
    {
     "name": "stdout",
     "output_type": "stream",
     "text": [
      "{101: 'AAA', 102: 'BBB'}\n"
     ]
    }
   ],
   "source": [
    "import copy\n",
    "D = {101:'AAA', 102:'BBB'}\n",
    "DC =copy.deepcopy(D)\n",
    "print(DC)"
   ]
  },
  {
   "cell_type": "code",
   "execution_count": 38,
   "id": "b3aa1299-39ba-4302-a508-7ba2d3328f17",
   "metadata": {},
   "outputs": [
    {
     "name": "stdout",
     "output_type": "stream",
     "text": [
      "{101: 'AAA', 102: [10, 20]}\n"
     ]
    }
   ],
   "source": [
    "D = {101:'AAA', 102: [10,20] }\n",
    "DC =D.copy()    # Here you will get SHALLOW COPY bez values are immutable\n",
    "print(DC)"
   ]
  },
  {
   "cell_type": "code",
   "execution_count": 39,
   "id": "ff8c79b8-e272-4054-8f7e-1e79202053f3",
   "metadata": {},
   "outputs": [
    {
     "name": "stdout",
     "output_type": "stream",
     "text": [
      "{101: 'AAA', 102: [10, 20]}\n",
      "2545405088576\n",
      "2545405418688\n",
      "D --> {101: 'AAA', 102: [10, 222]}\n",
      "DC --> {101: 'AAA', 102: [10, 222]}\n"
     ]
    }
   ],
   "source": [
    "D = {101:'AAA', 102: [10,20] }\n",
    "DC =D.copy()    # Here you will get SHALLOW COPY bez values are mutable\n",
    "print(DC)\n",
    "print(id(D))\n",
    "print(id(DC))\n",
    "D[102][1] = 222\n",
    "print(\"D -->\" , D)\n",
    "print(\"DC -->\", DC)"
   ]
  },
  {
   "cell_type": "code",
   "execution_count": 13,
   "id": "a1271d09-ea1f-408c-98a1-e39dc3c65290",
   "metadata": {},
   "outputs": [
    {
     "ename": "TypeError",
     "evalue": "unhashable type: 'list'",
     "output_type": "error",
     "traceback": [
      "\u001b[1;31m---------------------------------------------------------------------------\u001b[0m",
      "\u001b[1;31mTypeError\u001b[0m                                 Traceback (most recent call last)",
      "Cell \u001b[1;32mIn[13], line 1\u001b[0m\n\u001b[1;32m----> 1\u001b[0m S\u001b[38;5;241m=\u001b[39m{[\u001b[38;5;241m1\u001b[39m,\u001b[38;5;241m11\u001b[39m],[\u001b[38;5;241m2\u001b[39m,\u001b[38;5;241m22\u001b[39m],[\u001b[38;5;241m3\u001b[39m,\u001b[38;5;241m33\u001b[39m],[\u001b[38;5;241m4\u001b[39m,\u001b[38;5;241m44\u001b[39m]}\n\u001b[0;32m      2\u001b[0m \u001b[38;5;28mprint\u001b[39m(S)\n\u001b[0;32m      3\u001b[0m \u001b[38;5;28mprint\u001b[39m(\u001b[38;5;28mtype\u001b[39m(S))\n",
      "\u001b[1;31mTypeError\u001b[0m: unhashable type: 'list'"
     ]
    }
   ],
   "source": [
    "S={(1,11),(2,22),(3,33),(4,44)}\n",
    "print(S)\n",
    "print(type(S))\n",
    "\n",
    "D=dict(S)\n",
    "print(D)\n",
    "print(type(D))"
   ]
  },
  {
   "cell_type": "code",
   "execution_count": 16,
   "id": "d17927fc-4764-482e-a59b-89c8a411ea2f",
   "metadata": {},
   "outputs": [
    {
     "name": "stdout",
     "output_type": "stream",
     "text": [
      "{101: 'AAA', 102: 'BBB', 103: 'CCC', 104: 'DDD'}\n",
      "{101: 'AAA', 102: 'ANIKET', 103: 'CCC', 104: 'DDD'}\n"
     ]
    }
   ],
   "source": [
    "#Dict type is Mutable\n",
    "D={101:\"AAA\",102:\"BBB\",103:\"CCC\",104:\"DDD\"}\n",
    "print(D)\n",
    "D[102]=\"ANIKET\"\n",
    "print(D)"
   ]
  },
  {
   "cell_type": "code",
   "execution_count": 18,
   "id": "c23a7782-fa6a-4afc-971e-49e326cc0e3c",
   "metadata": {},
   "outputs": [
    {
     "name": "stdout",
     "output_type": "stream",
     "text": [
      "AAA\n",
      "BBB\n",
      "CCC\n",
      "DDD\n"
     ]
    }
   ],
   "source": [
    "D={101:\"AAA\",102:\"BBB\",103:\"CCC\",104:\"DDD\"}\n",
    "print(D[101])\n",
    "print(D[102])\n",
    "print(D[103])\n",
    "print(D[104])\n"
   ]
  },
  {
   "cell_type": "code",
   "execution_count": 22,
   "id": "85a8b194-3859-4819-85d0-dab49ee8b0fa",
   "metadata": {},
   "outputs": [
    {
     "name": "stdout",
     "output_type": "stream",
     "text": [
      "{101: ['AAA', 70], 102: ['BBB', 99], 103: ['CCC', 78]}\n",
      "AAA\n",
      "70\n",
      "BBB\n",
      "99\n"
     ]
    }
   ],
   "source": [
    "#HOW can access indivistual elements in Dictionary\n",
    "D={101:[\"AAA\",70],102:[\"BBB\",99],103:[\"CCC\",78]}\n",
    "print(D)\n",
    "print(D[101][0])\n",
    "print(D[101][1])\n",
    "print(D[102][0])\n",
    "print(D[102][1])"
   ]
  },
  {
   "cell_type": "code",
   "execution_count": 24,
   "id": "19b9bbc0-86be-4d6e-bfc4-6c9d4597f3de",
   "metadata": {},
   "outputs": [
    {
     "name": "stdout",
     "output_type": "stream",
     "text": [
      "101 ----> AAA\n",
      "102 ----> BBB\n",
      "103 ----> CCC\n",
      "104 ----> DDD\n"
     ]
    }
   ],
   "source": [
    "#How to read element using For LOOP\n",
    "D={101:\"AAA\",102:\"BBB\",103:\"CCC\",104:\"DDD\"}\n",
    "\n",
    "for k in D:\n",
    "    print(k,\"---->\",D[i])"
   ]
  },
  {
   "cell_type": "code",
   "execution_count": 29,
   "id": "bf4b6e30-d624-496a-8bb6-9f6d4151d73f",
   "metadata": {},
   "outputs": [
    {
     "name": "stdout",
     "output_type": "stream",
     "text": [
      "101 AAA\n",
      "102 BBB\n",
      "103 CCC\n",
      "104 DDD\n"
     ]
    }
   ],
   "source": [
    "#get()\n",
    "#We can get particular key by using get function.\n",
    "D={101:\"AAA\",102:\"BBB\",103:\"CCC\",104:\"DDD\"}\n",
    "\n",
    "for k in D:\n",
    "    print(k,D.get(k))"
   ]
  },
  {
   "cell_type": "code",
   "execution_count": 30,
   "id": "d327d363-29cf-4da4-8839-3fafae49d815",
   "metadata": {},
   "outputs": [
    {
     "name": "stdout",
     "output_type": "stream",
     "text": [
      "AAA\n"
     ]
    },
    {
     "ename": "KeyError",
     "evalue": "105",
     "output_type": "error",
     "traceback": [
      "\u001b[1;31m---------------------------------------------------------------------------\u001b[0m",
      "\u001b[1;31mKeyError\u001b[0m                                  Traceback (most recent call last)",
      "Cell \u001b[1;32mIn[30], line 3\u001b[0m\n\u001b[0;32m      1\u001b[0m D\u001b[38;5;241m=\u001b[39m{\u001b[38;5;241m101\u001b[39m:\u001b[38;5;124m\"\u001b[39m\u001b[38;5;124mAAA\u001b[39m\u001b[38;5;124m\"\u001b[39m,\u001b[38;5;241m102\u001b[39m:\u001b[38;5;124m\"\u001b[39m\u001b[38;5;124mBBB\u001b[39m\u001b[38;5;124m\"\u001b[39m,\u001b[38;5;241m103\u001b[39m:\u001b[38;5;124m\"\u001b[39m\u001b[38;5;124mCCC\u001b[39m\u001b[38;5;124m\"\u001b[39m,\u001b[38;5;241m104\u001b[39m:\u001b[38;5;124m\"\u001b[39m\u001b[38;5;124mDDD\u001b[39m\u001b[38;5;124m\"\u001b[39m}\n\u001b[0;32m      2\u001b[0m \u001b[38;5;28mprint\u001b[39m(D[\u001b[38;5;241m101\u001b[39m])\n\u001b[1;32m----> 3\u001b[0m \u001b[38;5;28mprint\u001b[39m(\u001b[43mD\u001b[49m\u001b[43m[\u001b[49m\u001b[38;5;241;43m105\u001b[39;49m\u001b[43m]\u001b[49m) \u001b[38;5;66;03m#keyError\u001b[39;00m\n",
      "\u001b[1;31mKeyError\u001b[0m: 105"
     ]
    }
   ],
   "source": [
    "D={101:\"AAA\",102:\"BBB\",103:\"CCC\",104:\"DDD\"}\n",
    "print(D[101])\n",
    "print(D[105]) #keyError"
   ]
  },
  {
   "cell_type": "code",
   "execution_count": 31,
   "id": "9cf37745-5972-4d5e-806b-75d9a849fff8",
   "metadata": {},
   "outputs": [
    {
     "name": "stdout",
     "output_type": "stream",
     "text": [
      "AAA\n",
      "None\n"
     ]
    }
   ],
   "source": [
    "D={101:\"AAA\",102:\"BBB\",103:\"CCC\",104:\"DDD\"}\n",
    "print(D.get(101))\n",
    "print(D.get(105))"
   ]
  },
  {
   "cell_type": "code",
   "execution_count": 41,
   "id": "5c3987bd-a1d6-450d-bc0e-7f5ab4ab9367",
   "metadata": {},
   "outputs": [
    {
     "name": "stdout",
     "output_type": "stream",
     "text": [
      "{101: 'AAA', 102: 'BBB', 103: 'CCC'}\n"
     ]
    }
   ],
   "source": [
    "#del\n",
    "D={101:\"AAA\",102:\"BBB\",103:\"CCC\",104:\"DDD\"}\n",
    "\n",
    "del D[104]\n",
    "print(D)"
   ]
  },
  {
   "cell_type": "code",
   "execution_count": 42,
   "id": "04e1fc98-b86a-4b8a-8496-3cc2ca00c664",
   "metadata": {},
   "outputs": [
    {
     "ename": "KeyError",
     "evalue": "105",
     "output_type": "error",
     "traceback": [
      "\u001b[1;31m---------------------------------------------------------------------------\u001b[0m",
      "\u001b[1;31mKeyError\u001b[0m                                  Traceback (most recent call last)",
      "Cell \u001b[1;32mIn[42], line 4\u001b[0m\n\u001b[0;32m      1\u001b[0m \u001b[38;5;66;03m#del\u001b[39;00m\n\u001b[0;32m      2\u001b[0m D\u001b[38;5;241m=\u001b[39m{\u001b[38;5;241m101\u001b[39m:\u001b[38;5;124m\"\u001b[39m\u001b[38;5;124mAAA\u001b[39m\u001b[38;5;124m\"\u001b[39m,\u001b[38;5;241m102\u001b[39m:\u001b[38;5;124m\"\u001b[39m\u001b[38;5;124mBBB\u001b[39m\u001b[38;5;124m\"\u001b[39m,\u001b[38;5;241m103\u001b[39m:\u001b[38;5;124m\"\u001b[39m\u001b[38;5;124mCCC\u001b[39m\u001b[38;5;124m\"\u001b[39m,\u001b[38;5;241m104\u001b[39m:\u001b[38;5;124m\"\u001b[39m\u001b[38;5;124mDDD\u001b[39m\u001b[38;5;124m\"\u001b[39m}\n\u001b[1;32m----> 4\u001b[0m \u001b[38;5;28;01mdel\u001b[39;00m \u001b[43mD\u001b[49m\u001b[43m[\u001b[49m\u001b[38;5;241;43m105\u001b[39;49m\u001b[43m]\u001b[49m\n\u001b[0;32m      5\u001b[0m \u001b[38;5;28mprint\u001b[39m(D)\n",
      "\u001b[1;31mKeyError\u001b[0m: 105"
     ]
    }
   ],
   "source": [
    "#del\n",
    "D={101:\"AAA\",102:\"BBB\",103:\"CCC\",104:\"DDD\"}\n",
    "\n",
    "del D[105]\n",
    "print(D)"
   ]
  },
  {
   "cell_type": "code",
   "execution_count": 46,
   "id": "e1f7b832-774f-4abb-af33-792a1153dae3",
   "metadata": {},
   "outputs": [
    {
     "name": "stdout",
     "output_type": "stream",
     "text": [
      "{102: 'BBB', 103: 'CCC', 104: 'DDD'}\n"
     ]
    }
   ],
   "source": [
    "#pop()\n",
    "D={101:\"AAA\",102:\"BBB\",103:\"CCC\",104:\"DDD\"}\n",
    "D.pop(101)\n",
    "print(D)"
   ]
  },
  {
   "cell_type": "code",
   "execution_count": 47,
   "id": "b27eb47b-3f02-49c7-bde4-86a083d1a05e",
   "metadata": {},
   "outputs": [
    {
     "name": "stdout",
     "output_type": "stream",
     "text": [
      "{101: 'AAA', 102: 'BBB', 103: 'CCC'}\n"
     ]
    }
   ],
   "source": [
    "#popitem()  It is Delete last Item\n",
    "D={101:\"AAA\",102:\"BBB\",103:\"CCC\",104:\"DDD\"}\n",
    "D.popitem()\n",
    "print(D)"
   ]
  },
  {
   "cell_type": "code",
   "execution_count": 48,
   "id": "e93051f8-d19c-409d-92d4-94325b098550",
   "metadata": {},
   "outputs": [
    {
     "name": "stdout",
     "output_type": "stream",
     "text": [
      "{}\n"
     ]
    }
   ],
   "source": [
    "D={101:\"AAA\",102:\"BBB\",103:\"CCC\",104:\"DDD\"}\n",
    "D.clear()\n",
    "print(D)"
   ]
  },
  {
   "cell_type": "code",
   "execution_count": 49,
   "id": "958cd772-db31-4228-943b-f88eb8260d69",
   "metadata": {},
   "outputs": [
    {
     "name": "stdout",
     "output_type": "stream",
     "text": [
      "4\n"
     ]
    }
   ],
   "source": [
    "D={101:\"AAA\",102:\"BBB\",103:\"CCC\",104:\"DDD\"}\n",
    "print(len(D))"
   ]
  },
  {
   "cell_type": "code",
   "execution_count": 50,
   "id": "885d3d49-f5b8-4a29-b612-5381f949f44f",
   "metadata": {},
   "outputs": [
    {
     "name": "stdout",
     "output_type": "stream",
     "text": [
      "{111: 'AAA', 222: 'BBB', 333: 'CCC'}\n",
      "{444: 'DDD', 555: 'EEE', 666: 'FFF'}\n",
      "{111: 'AAA', 222: 'BBB', 333: 'CCC', 444: 'DDD', 555: 'EEE', 666: 'FFF'}\n"
     ]
    }
   ],
   "source": [
    "d1 = {111:\"AAA\", 222:\"BBB\", 333:\"CCC\"}\n",
    "d2 = {444:\"DDD\", 555:\"EEE\", 666:\"FFF\"}\n",
    "print(d1)\n",
    "print(d2)\n",
    "d1.update(d2) # it adds element of d2 in d1\n",
    "print(d1)"
   ]
  },
  {
   "cell_type": "code",
   "execution_count": 51,
   "id": "b68e2e97-5564-472a-8c4d-02ecf01969af",
   "metadata": {},
   "outputs": [
    {
     "name": "stdout",
     "output_type": "stream",
     "text": [
      "111\n",
      "666\n"
     ]
    }
   ],
   "source": [
    "d = {111:\"AAA\", 222:\"BBB\", 333:\"CCC\", 444:\"DDD\", 555:\"EEE\", 666:\"FFF\"}\n",
    "print(min(d))\n",
    "print(max(d))"
   ]
  },
  {
   "cell_type": "code",
   "execution_count": 52,
   "id": "c13c9fad-b2b1-43aa-a6e3-dde727c0bc87",
   "metadata": {},
   "outputs": [
    {
     "name": "stdout",
     "output_type": "stream",
     "text": [
      "dict_keys([111, 222, 333, 444, 555, 666])\n",
      "<class 'dict_keys'>\n"
     ]
    }
   ],
   "source": [
    "d = {111:\"AAA\", 222:\"BBB\", 333:\"CCC\", 444:\"DDD\", 555:\"EEE\", 666:\"FFF\"}\n",
    "k=d.keys()\n",
    "print(k)\n",
    "print(type(k))"
   ]
  },
  {
   "cell_type": "code",
   "execution_count": 55,
   "id": "f2690492-2b2e-49cb-bd67-968c3beda1ca",
   "metadata": {},
   "outputs": [
    {
     "name": "stdout",
     "output_type": "stream",
     "text": [
      "dict_values(['AAA', 'BBB', 'CCC', 'DDD', 'EEE', 'FFF'])\n",
      "<class 'dict_values'>\n"
     ]
    }
   ],
   "source": [
    "d = {111:\"AAA\", 222:\"BBB\", 333:\"CCC\", 444:\"DDD\", 555:\"EEE\", 666:\"FFF\"}\n",
    "v=d.values()\n",
    "print(v)\n",
    "print(type(v))"
   ]
  },
  {
   "cell_type": "code",
   "execution_count": 57,
   "id": "2a9037e6-307b-48ce-8e36-8849d7bb6d01",
   "metadata": {},
   "outputs": [
    {
     "name": "stdout",
     "output_type": "stream",
     "text": [
      "[111, 222, 333, 444, 555, 666]\n",
      "['AAA', 'BBB', 'CCC', 'DDD', 'EEE', 'FFF']\n"
     ]
    }
   ],
   "source": [
    "d = {111:\"AAA\", 222:\"BBB\", 333:\"CCC\", 444:\"DDD\", 555:\"EEE\", 666:\"FFF\"}\n",
    "k=list(d.keys())\n",
    "l=list(d.values())\n",
    "print(k)\n",
    "print(l)"
   ]
  },
  {
   "cell_type": "code",
   "execution_count": 58,
   "id": "a9a2b6ee-8041-41a9-ac82-0eb26e7d6fa7",
   "metadata": {},
   "outputs": [
    {
     "name": "stdout",
     "output_type": "stream",
     "text": [
      "111\n",
      "222\n",
      "333\n",
      "444\n",
      "555\n",
      "666\n"
     ]
    }
   ],
   "source": [
    "d = {111:\"AAA\", 222:\"BBB\", 333:\"CCC\", 444:\"DDD\", 555:\"EEE\", 666:\"FFF\"}\n",
    "\n",
    "for k in d.keys():\n",
    "    print(k)"
   ]
  },
  {
   "cell_type": "code",
   "execution_count": 59,
   "id": "1603418d-6547-4c8f-9fdb-e8a3506f14bb",
   "metadata": {},
   "outputs": [
    {
     "name": "stdout",
     "output_type": "stream",
     "text": [
      "AAA\n",
      "BBB\n",
      "CCC\n",
      "DDD\n",
      "EEE\n",
      "FFF\n"
     ]
    }
   ],
   "source": [
    "d = {111:\"AAA\", 222:\"BBB\", 333:\"CCC\", 444:\"DDD\", 555:\"EEE\", 666:\"FFF\"}\n",
    "\n",
    "for v in d.values():\n",
    "    print(v)"
   ]
  },
  {
   "cell_type": "code",
   "execution_count": 60,
   "id": "9f3a1871-9221-42bd-a080-af3ee5631613",
   "metadata": {},
   "outputs": [
    {
     "name": "stdout",
     "output_type": "stream",
     "text": [
      "Keys: dict_keys([111, 222, 333, 444, 555, 666])\n",
      "Values: dict_values(['AAA', 'BBB', 'CCC', 'DDD', 'EEE', 'FFF'])\n",
      "Keys: dict_keys([111, 222, 333, 444, 555, 666])\n",
      "Values: dict_values(['AAA', 'JJJ', 'CCC', 'DDD', 'EEE', 'FFF'])\n"
     ]
    }
   ],
   "source": [
    "d = {111:\"AAA\", 222:\"BBB\", 333:\"CCC\", 444:\"DDD\", 555:\"EEE\", 666:\"FFF\"}\n",
    "key=d.keys()\n",
    "value=d.values()\n",
    "print(\"Keys:\",key)\n",
    "print(\"Values:\",value)\n",
    "\n",
    "d[222]=\"JJJ\"\n",
    "print(\"Keys:\",key)\n",
    "print(\"Values:\",value)"
   ]
  },
  {
   "cell_type": "code",
   "execution_count": 62,
   "id": "61c500b2-d170-45a8-a7f8-64d99ff56c90",
   "metadata": {},
   "outputs": [
    {
     "name": "stdout",
     "output_type": "stream",
     "text": [
      "[(111, 'AAA'), (222, 'BBB'), (333, 'CCC'), (444, 'DDD'), (555, 'EEE'), (666, 'FFF')]\n"
     ]
    }
   ],
   "source": [
    "#items()\n",
    "# Return List of Tuples, where tupel is having 2 items Key\n",
    "\n",
    "d = {111:\"AAA\", 222:\"BBB\", 333:\"CCC\", 444:\"DDD\", 555:\"EEE\", 666:\"FFF\"}\n",
    "L=list(d.items())\n",
    "\n",
    "print(L)\n"
   ]
  },
  {
   "cell_type": "code",
   "execution_count": 63,
   "id": "cc6e0a15-c808-4394-921f-3c5a96471bdc",
   "metadata": {},
   "outputs": [
    {
     "name": "stdout",
     "output_type": "stream",
     "text": [
      "(111, 'AAA')\n",
      "(222, 'BBB')\n",
      "(333, 'CCC')\n",
      "(444, 'DDD')\n",
      "(555, 'EEE')\n",
      "(666, 'FFF')\n"
     ]
    }
   ],
   "source": [
    "d = {111:\"AAA\", 222:\"BBB\", 333:\"CCC\", 444:\"DDD\", 555:\"EEE\", 666:\"FFF\"}\n",
    "\n",
    "for i in d.items():\n",
    "    \n",
    "    print(i)\n"
   ]
  },
  {
   "cell_type": "code",
   "execution_count": 64,
   "id": "063ebffc-3ad8-4125-85bc-0cc9c86712c0",
   "metadata": {},
   "outputs": [
    {
     "name": "stdout",
     "output_type": "stream",
     "text": [
      "111 ---> AAA\n",
      "222 ---> BBB\n",
      "333 ---> CCC\n",
      "444 ---> DDD\n",
      "555 ---> EEE\n",
      "666 ---> FFF\n"
     ]
    }
   ],
   "source": [
    "d = {111:\"AAA\", 222:\"BBB\", 333:\"CCC\", 444:\"DDD\", 555:\"EEE\", 666:\"FFF\"}\n",
    "\n",
    "for K,V in d.items():  #Unpacking\n",
    "       print(K,\"--->\",V) \n",
    "   \n"
   ]
  },
  {
   "cell_type": "code",
   "execution_count": null,
   "id": "bd8f4ca1-f34e-43fa-9c0f-6b904b756829",
   "metadata": {},
   "outputs": [],
   "source": [
    "T = (101,'AAA')\n",
    "K,V  = T\n",
    "print(K)\n",
    "print(V"
   ]
  },
  {
   "cell_type": "code",
   "execution_count": 66,
   "id": "5ebcb240-462d-4ee7-817c-b2ec7f810dbd",
   "metadata": {},
   "outputs": [
    {
     "name": "stdout",
     "output_type": "stream",
     "text": [
      "101 AAA 70\n",
      "102 BBB 80\n"
     ]
    }
   ],
   "source": [
    "L = [ (101,'AAA', 70) , (102,'BBB', 80) ]\n",
    "for rno,name, per  in L:  \n",
    "    print(rno,name,per)\n",
    "    # save(rno,name,per"
   ]
  },
  {
   "cell_type": "code",
   "execution_count": 68,
   "id": "13b77098-79e8-463a-a4d5-b59378c1a828",
   "metadata": {},
   "outputs": [
    {
     "name": "stdout",
     "output_type": "stream",
     "text": [
      "YES\n",
      "BBB\n",
      "NO\n"
     ]
    }
   ],
   "source": [
    "#Membership Operator is used in Only Key\n",
    "\n",
    "d = {101:\"AAA\", 102:\"BBB\", 103: \"CCC\"}\n",
    "if 102 in d:\n",
    "    print(\"YES\")\n",
    "    print(d[102])\n",
    "else:\n",
    "    print(\"NO\")\n",
    "    \n",
    "    \n",
    "if \"BBB\" in d:\n",
    "    print(\"YES\")\n",
    "else:\n",
    "    print(\"NO\")"
   ]
  },
  {
   "cell_type": "code",
   "execution_count": 69,
   "id": "3c2daa08-d23a-4829-ab1f-9056e60e5d6a",
   "metadata": {},
   "outputs": [
    {
     "name": "stdout",
     "output_type": "stream",
     "text": [
      "101 102 103\n"
     ]
    }
   ],
   "source": [
    "d = {101:\"AAA\", 102:\"BBB\", 103: \"CCC\"}\n",
    "a,b,c = d  # unpacking of keys\n",
    "print(a,b,c)"
   ]
  },
  {
   "cell_type": "code",
   "execution_count": 70,
   "id": "3f60e5bd-04ea-4513-b5cd-caa219b45e0f",
   "metadata": {},
   "outputs": [
    {
     "name": "stdout",
     "output_type": "stream",
     "text": [
      "<class 'dict'>\n",
      "{'a': 2, 'b': 3, 'c': 4}\n"
     ]
    }
   ],
   "source": [
    "def display(**d):  #packing ... we will see this in Function topic\n",
    "    print(type(d))\n",
    "    print(d)\n",
    "    \n",
    "display(a=2,b=3,c=4)"
   ]
  },
  {
   "cell_type": "code",
   "execution_count": 72,
   "id": "84088ff9-15e2-4b5a-b16b-55856ff62dbc",
   "metadata": {},
   "outputs": [
    {
     "name": "stdout",
     "output_type": "stream",
     "text": [
      "{1: 1, 2: 4, 3: 9, 4: 16, 5: 25}\n",
      "<class 'dict'>\n"
     ]
    }
   ],
   "source": [
    "# Dictionary Comprehension\n",
    "d ={ i: i*i   for i in range(1,6) }\n",
    "print(d)\n",
    "print(type(d))"
   ]
  },
  {
   "cell_type": "code",
   "execution_count": 73,
   "id": "6dd7f28b-ce62-424d-ae26-38a0198add40",
   "metadata": {},
   "outputs": [
    {
     "name": "stdout",
     "output_type": "stream",
     "text": [
      "{1, 4, 9, 16, 25}\n",
      "<class 'set'>\n"
     ]
    }
   ],
   "source": [
    "d ={ i*i   for i in range(1,6) }\n",
    "print(d)\n",
    "print(type(d))"
   ]
  },
  {
   "cell_type": "code",
   "execution_count": 74,
   "id": "77aa3ad6-8f65-45bc-871e-56eb71995404",
   "metadata": {},
   "outputs": [
    {
     "name": "stdout",
     "output_type": "stream",
     "text": [
      "{111: 'AAA', 333: 'CCC', 222: 'BBB'}\n"
     ]
    },
    {
     "ename": "AttributeError",
     "evalue": "'dict' object has no attribute 'sort'",
     "output_type": "error",
     "traceback": [
      "\u001b[1;31m---------------------------------------------------------------------------\u001b[0m",
      "\u001b[1;31mAttributeError\u001b[0m                            Traceback (most recent call last)",
      "Cell \u001b[1;32mIn[74], line 4\u001b[0m\n\u001b[0;32m      2\u001b[0m d \u001b[38;5;241m=\u001b[39m {\u001b[38;5;241m111\u001b[39m:\u001b[38;5;124m'\u001b[39m\u001b[38;5;124mAAA\u001b[39m\u001b[38;5;124m'\u001b[39m, \u001b[38;5;241m333\u001b[39m:\u001b[38;5;124m'\u001b[39m\u001b[38;5;124mCCC\u001b[39m\u001b[38;5;124m'\u001b[39m, \u001b[38;5;241m222\u001b[39m:\u001b[38;5;124m'\u001b[39m\u001b[38;5;124mBBB\u001b[39m\u001b[38;5;124m'\u001b[39m}\n\u001b[0;32m      3\u001b[0m \u001b[38;5;28mprint\u001b[39m(d)\n\u001b[1;32m----> 4\u001b[0m \u001b[43md\u001b[49m\u001b[38;5;241;43m.\u001b[39;49m\u001b[43msort\u001b[49m()\n\u001b[0;32m      5\u001b[0m \u001b[38;5;28mprint\u001b[39m(d)\n",
      "\u001b[1;31mAttributeError\u001b[0m: 'dict' object has no attribute 'sort'"
     ]
    }
   ],
   "source": [
    "# Sorting\n",
    "d = {111:'AAA', 333:'CCC', 222:'BBB'}\n",
    "print(d)\n",
    "d.sort()\n",
    "print(d)"
   ]
  },
  {
   "cell_type": "code",
   "execution_count": 76,
   "id": "2a620af0-bf85-458a-91e0-0209611887d9",
   "metadata": {},
   "outputs": [
    {
     "name": "stdout",
     "output_type": "stream",
     "text": [
      "{111: 'AAA', 333: 'CCC', 222: 'BBB'}\n",
      "[111, 222, 333]\n"
     ]
    }
   ],
   "source": [
    "# Sorting\n",
    "d = {111:'AAA', 333:'CCC', 222:'BBB'}\n",
    "print(d)\n",
    "print(sorted(d))"
   ]
  },
  {
   "cell_type": "code",
   "execution_count": 78,
   "id": "b33e37cd-83b3-4ddd-b7f1-71325ec1d0b8",
   "metadata": {},
   "outputs": [
    {
     "name": "stdout",
     "output_type": "stream",
     "text": [
      "{111: 'AAA', 333: 'CCC', 222: 'BBB'}\n",
      "[(111, 'AAA'), (222, 'BBB'), (333, 'CCC')]\n"
     ]
    }
   ],
   "source": [
    "# Sorting\n",
    "d = {111:'AAA', 333:'CCC', 222:'BBB'}\n",
    "print(d)\n",
    "print(sorted(d.items()))"
   ]
  },
  {
   "cell_type": "code",
   "execution_count": null,
   "id": "bb663e8e-6b4a-4d85-8e13-ce49cd478afb",
   "metadata": {},
   "outputs": [],
   "source": [
    "# Sorting\n",
    "d = {111:'AAA', 333:'CCC', 222:'BBB'}\n",
    "print(d)\n",
    "print(sorted(d.items()))"
   ]
  },
  {
   "cell_type": "code",
   "execution_count": 79,
   "id": "943f498a-3ae5-4071-972c-00cba93491c7",
   "metadata": {},
   "outputs": [
    {
     "name": "stdout",
     "output_type": "stream",
     "text": [
      "{111: 'BBB', 333: 'AAA', 222: 'BBB'}\n",
      "{333: 'AAA', 222: 'BBB', 111: 'BBB'}\n"
     ]
    }
   ],
   "source": [
    "# Sorting Keywise\n",
    "d = {111:'BBB', 333:'AAA', 222:'BBB'}\n",
    "print(d)\n",
    "d = dict(sorted( d.items(),reverse=True))  # keywise\n",
    "print(d)"
   ]
  },
  {
   "cell_type": "code",
   "execution_count": null,
   "id": "f31fe008-e2de-4632-8d3e-95962b587f9a",
   "metadata": {},
   "outputs": [],
   "source": [
    "# Sorting Keywise\n",
    "d = {111:'BBB', 333:'AAA', 222:'BBB'}\n",
    "print(d)\n",
    "d = dict(sorted( d.items(),reverse=True))  # keywise\n",
    "print(d)"
   ]
  },
  {
   "cell_type": "code",
   "execution_count": 81,
   "id": "5c0314c8-5e4b-4ec5-b89f-f0eb56ecf4dc",
   "metadata": {},
   "outputs": [
    {
     "name": "stdout",
     "output_type": "stream",
     "text": [
      "{111: 'BBB', 333: 'AAA', 222: 'CCC'}\n",
      "{333: 'AAA', 111: 'BBB', 222: 'CCC'}\n"
     ]
    }
   ],
   "source": [
    "# Sorting based on Values\n",
    "import operator\n",
    "d = {111:'BBB', 333:'AAA', 222:'CCC'}\n",
    "print(d)\n",
    "d = dict(sorted( d.items() , key=operator.itemgetter(1)))  # value\n",
    "print(d)"
   ]
  },
  {
   "cell_type": "code",
   "execution_count": null,
   "id": "72683a63-d1da-4a77-9a93-17d353a40806",
   "metadata": {},
   "outputs": [],
   "source": []
  }
 ],
 "metadata": {
  "kernelspec": {
   "display_name": "Python 3 (ipykernel)",
   "language": "python",
   "name": "python3"
  },
  "language_info": {
   "codemirror_mode": {
    "name": "ipython",
    "version": 3
   },
   "file_extension": ".py",
   "mimetype": "text/x-python",
   "name": "python",
   "nbconvert_exporter": "python",
   "pygments_lexer": "ipython3",
   "version": "3.12.4"
  }
 },
 "nbformat": 4,
 "nbformat_minor": 5
}
